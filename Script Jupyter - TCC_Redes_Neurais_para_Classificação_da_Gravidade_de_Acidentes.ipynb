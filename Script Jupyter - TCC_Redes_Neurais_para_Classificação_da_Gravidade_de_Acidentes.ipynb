{
 "cells": [
  {
   "cell_type": "markdown",
   "metadata": {},
   "source": [
    "#### <center> PONTIFÍCIA UNIVERSIDADE CATÓLICA DE MINAS GERAIS </center>"
   ]
  },
  {
   "cell_type": "markdown",
   "metadata": {},
   "source": [
    "#### <center> NÚCLEO DE EDUCAÇÃO A DISTÂNCIA </center>"
   ]
  },
  {
   "cell_type": "markdown",
   "metadata": {},
   "source": [
    "#### <center> Pós-graduação Lato Sensu em Ciência de Dados e Big Data </center>"
   ]
  },
  {
   "cell_type": "markdown",
   "metadata": {},
   "source": [
    "# <center> Modelos de classificação da gravidade de acidentes em rodovias federais brasileiras através de algoritmos de redes neurais </center>"
   ]
  },
  {
   "cell_type": "markdown",
   "metadata": {},
   "source": [
    "#### <center> Ramon Batista de Araújo </center>"
   ]
  },
  {
   "cell_type": "markdown",
   "metadata": {},
   "source": [
    "#### <center> Belo Horizonte, 2021 </center>"
   ]
  },
  {
   "cell_type": "markdown",
   "metadata": {},
   "source": [
    "### Resumo\n",
    "\n",
    "Os acidentes de trânsito são um problema sério de saúde pública no planeta (MÁSILKOVÁ, 2017). Segundo dados da PRF (Polícia Rodoviária Federa), em 2016 acoteceram por volta de 96 mil acidentes, com 87 mil pessoas feridas e 6.398 óbitos, somente em rodovias federais brasileiras. Além disso, esses acidentes geraram mais de 12,3 bilhões de reais em custos para os cofres brasileiros. (BRASIL, 2018). De acorodo com o último relatório de década da OMS (Organização Mundial de Saúde) acidentes de trânsito é a 8ª principal causa de mortes no mundo e a principal entre pessoas de 5 a 29 anos. São 1,35 milhões de vidas perdidas por ano em acidentes de trânsito (WORLD HEALTH ORGANIZATION, 2018).\n",
    "\n",
    "Técnicas como machine learning podem extrair conhecimento, auxiliando-os pesquisadores e gestores da área em tomadas de decisões. Os algoritmos de aprendizado de máquina de redes neurais são capazes de classificar a gravidade de um acidente de trânsito, como usado por diversos profissionais em todo mundo. Assim sendo, este estudo tem como objetivo classificar a gravidade dos acidentes de trânsito em rodovias federais brasileiras utilizando de redes neurais. Além disso, complementar os trabalhos já realizados descritos no relatório desse projeto, incluindo na análise novos atributos como a marca, idade e a potência do motor do veículo. \n",
    "\n",
    "Esse estudo comparou quatro modelos de redes neurais, modelo com dados desbalanceados, com dados balanceados, modelo otimizado desbalanceado e modelo otimizado balanceado, conforme procedimento abaixo."
   ]
  },
  {
   "cell_type": "markdown",
   "metadata": {},
   "source": [
    "## Importação das bibliotecas"
   ]
  },
  {
   "cell_type": "code",
   "execution_count": 1,
   "metadata": {},
   "outputs": [],
   "source": [
    "#Instalação das bibliotecas (se necessário)\n",
    "# !pip install pandas\n",
    "# !pip install numpy\n",
    "# !pip install holidays\n",
    "# !pip install imblearn\n",
    "# !pip install seaborn\n",
    "# !pip install matplotlib\n",
    "# !pip install sklearn"
   ]
  },
  {
   "cell_type": "code",
   "execution_count": 2,
   "metadata": {},
   "outputs": [],
   "source": [
    "#Importação das bibliotecas e módulos\n",
    "\n",
    "#Tratamentos dos dados\n",
    "import pandas as pd\n",
    "import numpy as np\n",
    "\n",
    "#Balancemaneto\n",
    "from imblearn.under_sampling import NearMiss\n",
    "\n",
    "#Datas\n",
    "from datetime import datetime\n",
    "\n",
    "#Feriados\n",
    "from pandas.tseries import holiday\n",
    "import holidays\n",
    "\n",
    "#Gráficos\n",
    "import seaborn as sns\n",
    "import matplotlib as mpl  \n",
    "import matplotlib.pyplot as plt\n",
    "from matplotlib import colors\n",
    "from matplotlib.ticker import PercentFormatter\n",
    "\n",
    "#Seleção de Variáveis\n",
    "from sklearn.feature_selection import SelectKBest\n",
    "from sklearn.feature_selection import chi2\n",
    "from sklearn.model_selection import cross_val_score, train_test_split\n",
    "from sklearn.preprocessing import StandardScaler\n",
    "\n",
    "\n",
    "#Modelo de Redes Neurais\n",
    "from sklearn.neural_network import MLPClassifier\n",
    "\n",
    "#Avaliação do Modelo\n",
    "from sklearn.metrics import classification_report,confusion_matrix\n",
    "from sklearn.metrics import accuracy_score\n",
    "from sklearn.metrics import roc_auc_score\n",
    "\n",
    "#Otimizando Modelo\n",
    "from sklearn.model_selection import GridSearchCV\n"
   ]
  },
  {
   "cell_type": "markdown",
   "metadata": {},
   "source": [
    "## Importando os datasets"
   ]
  },
  {
   "cell_type": "markdown",
   "metadata": {},
   "source": [
    "### Dados de acidentes da Polícia Rodoviária Federal "
   ]
  },
  {
   "cell_type": "code",
   "execution_count": 3,
   "metadata": {},
   "outputs": [
    {
     "data": {
      "text/html": [
       "<div>\n",
       "<style scoped>\n",
       "    .dataframe tbody tr th:only-of-type {\n",
       "        vertical-align: middle;\n",
       "    }\n",
       "\n",
       "    .dataframe tbody tr th {\n",
       "        vertical-align: top;\n",
       "    }\n",
       "\n",
       "    .dataframe thead th {\n",
       "        text-align: right;\n",
       "    }\n",
       "</style>\n",
       "<table border=\"1\" class=\"dataframe\">\n",
       "  <thead>\n",
       "    <tr style=\"text-align: right;\">\n",
       "      <th></th>\n",
       "      <th>id</th>\n",
       "      <th>pesid</th>\n",
       "      <th>data_inversa</th>\n",
       "      <th>dia_semana</th>\n",
       "      <th>horario</th>\n",
       "      <th>uf</th>\n",
       "      <th>br</th>\n",
       "      <th>km</th>\n",
       "      <th>municipio</th>\n",
       "      <th>causa_principal</th>\n",
       "      <th>...</th>\n",
       "      <th>sexo</th>\n",
       "      <th>ilesos</th>\n",
       "      <th>feridos_leves</th>\n",
       "      <th>feridos_graves</th>\n",
       "      <th>mortos</th>\n",
       "      <th>latitude</th>\n",
       "      <th>longitude</th>\n",
       "      <th>regional</th>\n",
       "      <th>delegacia</th>\n",
       "      <th>uop</th>\n",
       "    </tr>\n",
       "  </thead>\n",
       "  <tbody>\n",
       "    <tr>\n",
       "      <th>0</th>\n",
       "      <td>8</td>\n",
       "      <td>1.0</td>\n",
       "      <td>01/01/2017</td>\n",
       "      <td>domingo</td>\n",
       "      <td>00:00:00</td>\n",
       "      <td>PR</td>\n",
       "      <td>376.0</td>\n",
       "      <td>112</td>\n",
       "      <td>PARANAVAI</td>\n",
       "      <td>Sim</td>\n",
       "      <td>...</td>\n",
       "      <td>Masculino</td>\n",
       "      <td>0</td>\n",
       "      <td>0</td>\n",
       "      <td>1</td>\n",
       "      <td>0</td>\n",
       "      <td>-23,09880731</td>\n",
       "      <td>-52,38789369</td>\n",
       "      <td>SR-PR</td>\n",
       "      <td>DEL7/7</td>\n",
       "      <td>UOP05/PR</td>\n",
       "    </tr>\n",
       "    <tr>\n",
       "      <th>1</th>\n",
       "      <td>9</td>\n",
       "      <td>955.0</td>\n",
       "      <td>01/01/2017</td>\n",
       "      <td>domingo</td>\n",
       "      <td>00:01:00</td>\n",
       "      <td>SC</td>\n",
       "      <td>101.0</td>\n",
       "      <td>234</td>\n",
       "      <td>PALHOCA</td>\n",
       "      <td>Sim</td>\n",
       "      <td>...</td>\n",
       "      <td>Masculino</td>\n",
       "      <td>1</td>\n",
       "      <td>0</td>\n",
       "      <td>0</td>\n",
       "      <td>0</td>\n",
       "      <td>-27,8101</td>\n",
       "      <td>-48,6357</td>\n",
       "      <td>SR-SC</td>\n",
       "      <td>DEL8/1</td>\n",
       "      <td>UOP02/SC</td>\n",
       "    </tr>\n",
       "    <tr>\n",
       "      <th>2</th>\n",
       "      <td>11</td>\n",
       "      <td>2.0</td>\n",
       "      <td>01/01/2017</td>\n",
       "      <td>domingo</td>\n",
       "      <td>00:00:00</td>\n",
       "      <td>PR</td>\n",
       "      <td>153.0</td>\n",
       "      <td>56,9</td>\n",
       "      <td>SANTO ANTONIO DA PLATINA</td>\n",
       "      <td>Sim</td>\n",
       "      <td>...</td>\n",
       "      <td>Feminino</td>\n",
       "      <td>0</td>\n",
       "      <td>1</td>\n",
       "      <td>0</td>\n",
       "      <td>0</td>\n",
       "      <td>-23,36951985</td>\n",
       "      <td>309,9351311</td>\n",
       "      <td>SR-PR</td>\n",
       "      <td>DEL7/7</td>\n",
       "      <td>UOP07/PR</td>\n",
       "    </tr>\n",
       "    <tr>\n",
       "      <th>3</th>\n",
       "      <td>11</td>\n",
       "      <td>3.0</td>\n",
       "      <td>01/01/2017</td>\n",
       "      <td>domingo</td>\n",
       "      <td>00:00:00</td>\n",
       "      <td>PR</td>\n",
       "      <td>153.0</td>\n",
       "      <td>56,9</td>\n",
       "      <td>SANTO ANTONIO DA PLATINA</td>\n",
       "      <td>Sim</td>\n",
       "      <td>...</td>\n",
       "      <td>Masculino</td>\n",
       "      <td>0</td>\n",
       "      <td>1</td>\n",
       "      <td>0</td>\n",
       "      <td>0</td>\n",
       "      <td>-23,36951985</td>\n",
       "      <td>309,9351311</td>\n",
       "      <td>SR-PR</td>\n",
       "      <td>DEL7/7</td>\n",
       "      <td>UOP07/PR</td>\n",
       "    </tr>\n",
       "    <tr>\n",
       "      <th>4</th>\n",
       "      <td>12</td>\n",
       "      <td>1499.0</td>\n",
       "      <td>01/01/2017</td>\n",
       "      <td>domingo</td>\n",
       "      <td>00:00:00</td>\n",
       "      <td>GO</td>\n",
       "      <td>153.0</td>\n",
       "      <td>435</td>\n",
       "      <td>ANAPOLIS</td>\n",
       "      <td>Sim</td>\n",
       "      <td>...</td>\n",
       "      <td>Masculino</td>\n",
       "      <td>0</td>\n",
       "      <td>0</td>\n",
       "      <td>1</td>\n",
       "      <td>0</td>\n",
       "      <td>-16,27473677</td>\n",
       "      <td>-48,96908998</td>\n",
       "      <td>SR-GO</td>\n",
       "      <td>DEL1/2</td>\n",
       "      <td>UOP01/GO</td>\n",
       "    </tr>\n",
       "  </tbody>\n",
       "</table>\n",
       "<p>5 rows × 37 columns</p>\n",
       "</div>"
      ],
      "text/plain": [
       "   id   pesid data_inversa dia_semana   horario  uf     br    km  \\\n",
       "0   8     1.0   01/01/2017    domingo  00:00:00  PR  376.0   112   \n",
       "1   9   955.0   01/01/2017    domingo  00:01:00  SC  101.0   234   \n",
       "2  11     2.0   01/01/2017    domingo  00:00:00  PR  153.0  56,9   \n",
       "3  11     3.0   01/01/2017    domingo  00:00:00  PR  153.0  56,9   \n",
       "4  12  1499.0   01/01/2017    domingo  00:00:00  GO  153.0   435   \n",
       "\n",
       "                  municipio causa_principal  ...       sexo  ilesos  \\\n",
       "0                 PARANAVAI             Sim  ...  Masculino       0   \n",
       "1                   PALHOCA             Sim  ...  Masculino       1   \n",
       "2  SANTO ANTONIO DA PLATINA             Sim  ...   Feminino       0   \n",
       "3  SANTO ANTONIO DA PLATINA             Sim  ...  Masculino       0   \n",
       "4                  ANAPOLIS             Sim  ...  Masculino       0   \n",
       "\n",
       "  feridos_leves feridos_graves mortos      latitude     longitude regional  \\\n",
       "0             0              1      0  -23,09880731  -52,38789369    SR-PR   \n",
       "1             0              0      0      -27,8101      -48,6357    SR-SC   \n",
       "2             1              0      0  -23,36951985   309,9351311    SR-PR   \n",
       "3             1              0      0  -23,36951985   309,9351311    SR-PR   \n",
       "4             0              1      0  -16,27473677  -48,96908998    SR-GO   \n",
       "\n",
       "  delegacia       uop  \n",
       "0    DEL7/7  UOP05/PR  \n",
       "1    DEL8/1  UOP02/SC  \n",
       "2    DEL7/7  UOP07/PR  \n",
       "3    DEL7/7  UOP07/PR  \n",
       "4    DEL1/2  UOP01/GO  \n",
       "\n",
       "[5 rows x 37 columns]"
      ]
     },
     "execution_count": 3,
     "metadata": {},
     "output_type": "execute_result"
    }
   ],
   "source": [
    "#Acidentes de 2017\n",
    "df17 = pd.read_csv('acidentes2017.csv', sep=';')\n",
    "\n",
    "df17.head()"
   ]
  },
  {
   "cell_type": "code",
   "execution_count": 4,
   "metadata": {},
   "outputs": [
    {
     "name": "stderr",
     "output_type": "stream",
     "text": [
      "C:\\ProgramData\\Anaconda3\\lib\\site-packages\\IPython\\core\\interactiveshell.py:3071: DtypeWarning: Columns (0) have mixed types.Specify dtype option on import or set low_memory=False.\n",
      "  has_raised = await self.run_ast_nodes(code_ast.body, cell_name,\n"
     ]
    },
    {
     "data": {
      "text/html": [
       "<div>\n",
       "<style scoped>\n",
       "    .dataframe tbody tr th:only-of-type {\n",
       "        vertical-align: middle;\n",
       "    }\n",
       "\n",
       "    .dataframe tbody tr th {\n",
       "        vertical-align: top;\n",
       "    }\n",
       "\n",
       "    .dataframe thead th {\n",
       "        text-align: right;\n",
       "    }\n",
       "</style>\n",
       "<table border=\"1\" class=\"dataframe\">\n",
       "  <thead>\n",
       "    <tr style=\"text-align: right;\">\n",
       "      <th></th>\n",
       "      <th>id</th>\n",
       "      <th>pesid</th>\n",
       "      <th>data_inversa</th>\n",
       "      <th>dia_semana</th>\n",
       "      <th>horario</th>\n",
       "      <th>uf</th>\n",
       "      <th>br</th>\n",
       "      <th>km</th>\n",
       "      <th>municipio</th>\n",
       "      <th>causa_principal</th>\n",
       "      <th>...</th>\n",
       "      <th>sexo</th>\n",
       "      <th>ilesos</th>\n",
       "      <th>feridos_leves</th>\n",
       "      <th>feridos_graves</th>\n",
       "      <th>mortos</th>\n",
       "      <th>latitude</th>\n",
       "      <th>longitude</th>\n",
       "      <th>regional</th>\n",
       "      <th>delegacia</th>\n",
       "      <th>uop</th>\n",
       "    </tr>\n",
       "  </thead>\n",
       "  <tbody>\n",
       "    <tr>\n",
       "      <th>0</th>\n",
       "      <td>99973</td>\n",
       "      <td>216523.0</td>\n",
       "      <td>01/01/2018</td>\n",
       "      <td>segunda-feira</td>\n",
       "      <td>00:20:00</td>\n",
       "      <td>RJ</td>\n",
       "      <td>116.0</td>\n",
       "      <td>303,5</td>\n",
       "      <td>RESENDE</td>\n",
       "      <td>Sim</td>\n",
       "      <td>...</td>\n",
       "      <td>Masculino</td>\n",
       "      <td>0</td>\n",
       "      <td>0</td>\n",
       "      <td>1</td>\n",
       "      <td>0</td>\n",
       "      <td>-22,46937</td>\n",
       "      <td>-44,44705</td>\n",
       "      <td>SR-RJ</td>\n",
       "      <td>DEL5/7</td>\n",
       "      <td>UOP03/RJ</td>\n",
       "    </tr>\n",
       "    <tr>\n",
       "      <th>1</th>\n",
       "      <td>99973</td>\n",
       "      <td>216524.0</td>\n",
       "      <td>01/01/2018</td>\n",
       "      <td>segunda-feira</td>\n",
       "      <td>00:20:00</td>\n",
       "      <td>RJ</td>\n",
       "      <td>116.0</td>\n",
       "      <td>303,5</td>\n",
       "      <td>RESENDE</td>\n",
       "      <td>Sim</td>\n",
       "      <td>...</td>\n",
       "      <td>Feminino</td>\n",
       "      <td>0</td>\n",
       "      <td>0</td>\n",
       "      <td>1</td>\n",
       "      <td>0</td>\n",
       "      <td>-22,46937</td>\n",
       "      <td>-44,44705</td>\n",
       "      <td>SR-RJ</td>\n",
       "      <td>DEL5/7</td>\n",
       "      <td>UOP03/RJ</td>\n",
       "    </tr>\n",
       "    <tr>\n",
       "      <th>2</th>\n",
       "      <td>99973</td>\n",
       "      <td>216532.0</td>\n",
       "      <td>01/01/2018</td>\n",
       "      <td>segunda-feira</td>\n",
       "      <td>00:20:00</td>\n",
       "      <td>RJ</td>\n",
       "      <td>116.0</td>\n",
       "      <td>303,5</td>\n",
       "      <td>RESENDE</td>\n",
       "      <td>Sim</td>\n",
       "      <td>...</td>\n",
       "      <td>Masculino</td>\n",
       "      <td>1</td>\n",
       "      <td>0</td>\n",
       "      <td>0</td>\n",
       "      <td>0</td>\n",
       "      <td>-22,46937</td>\n",
       "      <td>-44,44705</td>\n",
       "      <td>SR-RJ</td>\n",
       "      <td>DEL5/7</td>\n",
       "      <td>UOP03/RJ</td>\n",
       "    </tr>\n",
       "    <tr>\n",
       "      <th>3</th>\n",
       "      <td>99973</td>\n",
       "      <td>216527.0</td>\n",
       "      <td>01/01/2018</td>\n",
       "      <td>segunda-feira</td>\n",
       "      <td>00:20:00</td>\n",
       "      <td>RJ</td>\n",
       "      <td>116.0</td>\n",
       "      <td>303,5</td>\n",
       "      <td>RESENDE</td>\n",
       "      <td>Sim</td>\n",
       "      <td>...</td>\n",
       "      <td>Feminino</td>\n",
       "      <td>0</td>\n",
       "      <td>0</td>\n",
       "      <td>1</td>\n",
       "      <td>0</td>\n",
       "      <td>-22,46937</td>\n",
       "      <td>-44,44705</td>\n",
       "      <td>SR-RJ</td>\n",
       "      <td>DEL5/7</td>\n",
       "      <td>UOP03/RJ</td>\n",
       "    </tr>\n",
       "    <tr>\n",
       "      <th>4</th>\n",
       "      <td>99973</td>\n",
       "      <td>216530.0</td>\n",
       "      <td>01/01/2018</td>\n",
       "      <td>segunda-feira</td>\n",
       "      <td>00:20:00</td>\n",
       "      <td>RJ</td>\n",
       "      <td>116.0</td>\n",
       "      <td>303,5</td>\n",
       "      <td>RESENDE</td>\n",
       "      <td>Sim</td>\n",
       "      <td>...</td>\n",
       "      <td>Masculino</td>\n",
       "      <td>0</td>\n",
       "      <td>0</td>\n",
       "      <td>1</td>\n",
       "      <td>0</td>\n",
       "      <td>-22,46937</td>\n",
       "      <td>-44,44705</td>\n",
       "      <td>SR-RJ</td>\n",
       "      <td>DEL5/7</td>\n",
       "      <td>UOP03/RJ</td>\n",
       "    </tr>\n",
       "  </tbody>\n",
       "</table>\n",
       "<p>5 rows × 37 columns</p>\n",
       "</div>"
      ],
      "text/plain": [
       "      id     pesid data_inversa     dia_semana   horario  uf     br     km  \\\n",
       "0  99973  216523.0   01/01/2018  segunda-feira  00:20:00  RJ  116.0  303,5   \n",
       "1  99973  216524.0   01/01/2018  segunda-feira  00:20:00  RJ  116.0  303,5   \n",
       "2  99973  216532.0   01/01/2018  segunda-feira  00:20:00  RJ  116.0  303,5   \n",
       "3  99973  216527.0   01/01/2018  segunda-feira  00:20:00  RJ  116.0  303,5   \n",
       "4  99973  216530.0   01/01/2018  segunda-feira  00:20:00  RJ  116.0  303,5   \n",
       "\n",
       "  municipio causa_principal  ...       sexo  ilesos feridos_leves  \\\n",
       "0   RESENDE             Sim  ...  Masculino       0             0   \n",
       "1   RESENDE             Sim  ...   Feminino       0             0   \n",
       "2   RESENDE             Sim  ...  Masculino       1             0   \n",
       "3   RESENDE             Sim  ...   Feminino       0             0   \n",
       "4   RESENDE             Sim  ...  Masculino       0             0   \n",
       "\n",
       "  feridos_graves mortos   latitude  longitude regional delegacia       uop  \n",
       "0              1      0  -22,46937  -44,44705    SR-RJ    DEL5/7  UOP03/RJ  \n",
       "1              1      0  -22,46937  -44,44705    SR-RJ    DEL5/7  UOP03/RJ  \n",
       "2              0      0  -22,46937  -44,44705    SR-RJ    DEL5/7  UOP03/RJ  \n",
       "3              1      0  -22,46937  -44,44705    SR-RJ    DEL5/7  UOP03/RJ  \n",
       "4              1      0  -22,46937  -44,44705    SR-RJ    DEL5/7  UOP03/RJ  \n",
       "\n",
       "[5 rows x 37 columns]"
      ]
     },
     "execution_count": 4,
     "metadata": {},
     "output_type": "execute_result"
    }
   ],
   "source": [
    "#Acidentes de 2018\n",
    "df18 = pd.read_csv('acidentes2018.csv', sep=';')\n",
    "\n",
    "df18.head()"
   ]
  },
  {
   "cell_type": "code",
   "execution_count": 5,
   "metadata": {},
   "outputs": [
    {
     "name": "stderr",
     "output_type": "stream",
     "text": [
      "C:\\ProgramData\\Anaconda3\\lib\\site-packages\\IPython\\core\\interactiveshell.py:3071: DtypeWarning: Columns (0) have mixed types.Specify dtype option on import or set low_memory=False.\n",
      "  has_raised = await self.run_ast_nodes(code_ast.body, cell_name,\n"
     ]
    },
    {
     "data": {
      "text/html": [
       "<div>\n",
       "<style scoped>\n",
       "    .dataframe tbody tr th:only-of-type {\n",
       "        vertical-align: middle;\n",
       "    }\n",
       "\n",
       "    .dataframe tbody tr th {\n",
       "        vertical-align: top;\n",
       "    }\n",
       "\n",
       "    .dataframe thead th {\n",
       "        text-align: right;\n",
       "    }\n",
       "</style>\n",
       "<table border=\"1\" class=\"dataframe\">\n",
       "  <thead>\n",
       "    <tr style=\"text-align: right;\">\n",
       "      <th></th>\n",
       "      <th>id</th>\n",
       "      <th>pesid</th>\n",
       "      <th>data_inversa</th>\n",
       "      <th>dia_semana</th>\n",
       "      <th>horario</th>\n",
       "      <th>uf</th>\n",
       "      <th>br</th>\n",
       "      <th>km</th>\n",
       "      <th>municipio</th>\n",
       "      <th>causa_principal</th>\n",
       "      <th>...</th>\n",
       "      <th>sexo</th>\n",
       "      <th>ilesos</th>\n",
       "      <th>feridos_leves</th>\n",
       "      <th>feridos_graves</th>\n",
       "      <th>mortos</th>\n",
       "      <th>latitude</th>\n",
       "      <th>longitude</th>\n",
       "      <th>regional</th>\n",
       "      <th>delegacia</th>\n",
       "      <th>uop</th>\n",
       "    </tr>\n",
       "  </thead>\n",
       "  <tbody>\n",
       "    <tr>\n",
       "      <th>0</th>\n",
       "      <td>182210</td>\n",
       "      <td>402103.0</td>\n",
       "      <td>01/01/2019</td>\n",
       "      <td>terça-feira</td>\n",
       "      <td>01:30:00</td>\n",
       "      <td>SP</td>\n",
       "      <td>116.0</td>\n",
       "      <td>218</td>\n",
       "      <td>GUARULHOS</td>\n",
       "      <td>Sim</td>\n",
       "      <td>...</td>\n",
       "      <td>Masculino</td>\n",
       "      <td>0</td>\n",
       "      <td>1</td>\n",
       "      <td>0</td>\n",
       "      <td>0</td>\n",
       "      <td>-23,46052014</td>\n",
       "      <td>-46,48772478</td>\n",
       "      <td>SR-SP</td>\n",
       "      <td>DEL6/1</td>\n",
       "      <td>UOP01/SP</td>\n",
       "    </tr>\n",
       "    <tr>\n",
       "      <th>1</th>\n",
       "      <td>182210</td>\n",
       "      <td>402106.0</td>\n",
       "      <td>01/01/2019</td>\n",
       "      <td>terça-feira</td>\n",
       "      <td>01:30:00</td>\n",
       "      <td>SP</td>\n",
       "      <td>116.0</td>\n",
       "      <td>218</td>\n",
       "      <td>GUARULHOS</td>\n",
       "      <td>Sim</td>\n",
       "      <td>...</td>\n",
       "      <td>Masculino</td>\n",
       "      <td>0</td>\n",
       "      <td>1</td>\n",
       "      <td>0</td>\n",
       "      <td>0</td>\n",
       "      <td>-23,46052014</td>\n",
       "      <td>-46,48772478</td>\n",
       "      <td>SR-SP</td>\n",
       "      <td>DEL6/1</td>\n",
       "      <td>UOP01/SP</td>\n",
       "    </tr>\n",
       "    <tr>\n",
       "      <th>2</th>\n",
       "      <td>182210</td>\n",
       "      <td>402104.0</td>\n",
       "      <td>01/01/2019</td>\n",
       "      <td>terça-feira</td>\n",
       "      <td>01:30:00</td>\n",
       "      <td>SP</td>\n",
       "      <td>116.0</td>\n",
       "      <td>218</td>\n",
       "      <td>GUARULHOS</td>\n",
       "      <td>Sim</td>\n",
       "      <td>...</td>\n",
       "      <td>Feminino</td>\n",
       "      <td>0</td>\n",
       "      <td>1</td>\n",
       "      <td>0</td>\n",
       "      <td>0</td>\n",
       "      <td>-23,46052014</td>\n",
       "      <td>-46,48772478</td>\n",
       "      <td>SR-SP</td>\n",
       "      <td>DEL6/1</td>\n",
       "      <td>UOP01/SP</td>\n",
       "    </tr>\n",
       "    <tr>\n",
       "      <th>3</th>\n",
       "      <td>182210</td>\n",
       "      <td>402102.0</td>\n",
       "      <td>01/01/2019</td>\n",
       "      <td>terça-feira</td>\n",
       "      <td>01:30:00</td>\n",
       "      <td>SP</td>\n",
       "      <td>116.0</td>\n",
       "      <td>218</td>\n",
       "      <td>GUARULHOS</td>\n",
       "      <td>Sim</td>\n",
       "      <td>...</td>\n",
       "      <td>Masculino</td>\n",
       "      <td>0</td>\n",
       "      <td>1</td>\n",
       "      <td>0</td>\n",
       "      <td>0</td>\n",
       "      <td>-23,46052014</td>\n",
       "      <td>-46,48772478</td>\n",
       "      <td>SR-SP</td>\n",
       "      <td>DEL6/1</td>\n",
       "      <td>UOP01/SP</td>\n",
       "    </tr>\n",
       "    <tr>\n",
       "      <th>4</th>\n",
       "      <td>182211</td>\n",
       "      <td>402126.0</td>\n",
       "      <td>01/01/2019</td>\n",
       "      <td>terça-feira</td>\n",
       "      <td>01:30:00</td>\n",
       "      <td>PR</td>\n",
       "      <td>373.0</td>\n",
       "      <td>177,3</td>\n",
       "      <td>PONTA GROSSA</td>\n",
       "      <td>Sim</td>\n",
       "      <td>...</td>\n",
       "      <td>Masculino</td>\n",
       "      <td>0</td>\n",
       "      <td>1</td>\n",
       "      <td>0</td>\n",
       "      <td>0</td>\n",
       "      <td>-25,05533957</td>\n",
       "      <td>-50,22776753</td>\n",
       "      <td>SR-PR</td>\n",
       "      <td>DEL7/3</td>\n",
       "      <td>UOP01/PR</td>\n",
       "    </tr>\n",
       "  </tbody>\n",
       "</table>\n",
       "<p>5 rows × 37 columns</p>\n",
       "</div>"
      ],
      "text/plain": [
       "       id     pesid data_inversa   dia_semana   horario  uf     br     km  \\\n",
       "0  182210  402103.0   01/01/2019  terça-feira  01:30:00  SP  116.0    218   \n",
       "1  182210  402106.0   01/01/2019  terça-feira  01:30:00  SP  116.0    218   \n",
       "2  182210  402104.0   01/01/2019  terça-feira  01:30:00  SP  116.0    218   \n",
       "3  182210  402102.0   01/01/2019  terça-feira  01:30:00  SP  116.0    218   \n",
       "4  182211  402126.0   01/01/2019  terça-feira  01:30:00  PR  373.0  177,3   \n",
       "\n",
       "      municipio causa_principal  ...       sexo  ilesos feridos_leves  \\\n",
       "0     GUARULHOS             Sim  ...  Masculino       0             1   \n",
       "1     GUARULHOS             Sim  ...  Masculino       0             1   \n",
       "2     GUARULHOS             Sim  ...   Feminino       0             1   \n",
       "3     GUARULHOS             Sim  ...  Masculino       0             1   \n",
       "4  PONTA GROSSA             Sim  ...  Masculino       0             1   \n",
       "\n",
       "  feridos_graves mortos      latitude     longitude regional delegacia  \\\n",
       "0              0      0  -23,46052014  -46,48772478    SR-SP    DEL6/1   \n",
       "1              0      0  -23,46052014  -46,48772478    SR-SP    DEL6/1   \n",
       "2              0      0  -23,46052014  -46,48772478    SR-SP    DEL6/1   \n",
       "3              0      0  -23,46052014  -46,48772478    SR-SP    DEL6/1   \n",
       "4              0      0  -25,05533957  -50,22776753    SR-PR    DEL7/3   \n",
       "\n",
       "        uop  \n",
       "0  UOP01/SP  \n",
       "1  UOP01/SP  \n",
       "2  UOP01/SP  \n",
       "3  UOP01/SP  \n",
       "4  UOP01/PR  \n",
       "\n",
       "[5 rows x 37 columns]"
      ]
     },
     "execution_count": 5,
     "metadata": {},
     "output_type": "execute_result"
    }
   ],
   "source": [
    "#Acidentes de 2019\n",
    "df19 = pd.read_csv('acidentes2019.csv', sep=';')\n",
    "\n",
    "df19.head()"
   ]
  },
  {
   "cell_type": "code",
   "execution_count": 6,
   "metadata": {},
   "outputs": [
    {
     "data": {
      "text/html": [
       "<div>\n",
       "<style scoped>\n",
       "    .dataframe tbody tr th:only-of-type {\n",
       "        vertical-align: middle;\n",
       "    }\n",
       "\n",
       "    .dataframe tbody tr th {\n",
       "        vertical-align: top;\n",
       "    }\n",
       "\n",
       "    .dataframe thead th {\n",
       "        text-align: right;\n",
       "    }\n",
       "</style>\n",
       "<table border=\"1\" class=\"dataframe\">\n",
       "  <thead>\n",
       "    <tr style=\"text-align: right;\">\n",
       "      <th></th>\n",
       "      <th>id</th>\n",
       "      <th>pesid</th>\n",
       "      <th>data_inversa</th>\n",
       "      <th>dia_semana</th>\n",
       "      <th>horario</th>\n",
       "      <th>uf</th>\n",
       "      <th>br</th>\n",
       "      <th>km</th>\n",
       "      <th>municipio</th>\n",
       "      <th>causa_principal</th>\n",
       "      <th>...</th>\n",
       "      <th>sexo</th>\n",
       "      <th>ilesos</th>\n",
       "      <th>feridos_leves</th>\n",
       "      <th>feridos_graves</th>\n",
       "      <th>mortos</th>\n",
       "      <th>latitude</th>\n",
       "      <th>longitude</th>\n",
       "      <th>regional</th>\n",
       "      <th>delegacia</th>\n",
       "      <th>uop</th>\n",
       "    </tr>\n",
       "  </thead>\n",
       "  <tbody>\n",
       "    <tr>\n",
       "      <th>0</th>\n",
       "      <td>260031</td>\n",
       "      <td>578986.0</td>\n",
       "      <td>01/01/2020</td>\n",
       "      <td>quarta-feira</td>\n",
       "      <td>01:00:00</td>\n",
       "      <td>TO</td>\n",
       "      <td>153.0</td>\n",
       "      <td>678,1</td>\n",
       "      <td>GURUPI</td>\n",
       "      <td>Sim</td>\n",
       "      <td>...</td>\n",
       "      <td>Feminino</td>\n",
       "      <td>0</td>\n",
       "      <td>0</td>\n",
       "      <td>1</td>\n",
       "      <td>0</td>\n",
       "      <td>-11,77460203</td>\n",
       "      <td>-49,10744996</td>\n",
       "      <td>SR-TO</td>\n",
       "      <td>UOP01/TO</td>\n",
       "      <td>NaN</td>\n",
       "    </tr>\n",
       "    <tr>\n",
       "      <th>1</th>\n",
       "      <td>260031</td>\n",
       "      <td>578986.0</td>\n",
       "      <td>01/01/2020</td>\n",
       "      <td>quarta-feira</td>\n",
       "      <td>01:00:00</td>\n",
       "      <td>TO</td>\n",
       "      <td>153.0</td>\n",
       "      <td>678,1</td>\n",
       "      <td>GURUPI</td>\n",
       "      <td>Sim</td>\n",
       "      <td>...</td>\n",
       "      <td>Feminino</td>\n",
       "      <td>0</td>\n",
       "      <td>0</td>\n",
       "      <td>1</td>\n",
       "      <td>0</td>\n",
       "      <td>-11,77460203</td>\n",
       "      <td>-49,10744996</td>\n",
       "      <td>SR-TO</td>\n",
       "      <td>UOP01/TO</td>\n",
       "      <td>NaN</td>\n",
       "    </tr>\n",
       "    <tr>\n",
       "      <th>2</th>\n",
       "      <td>260031</td>\n",
       "      <td>578991.0</td>\n",
       "      <td>01/01/2020</td>\n",
       "      <td>quarta-feira</td>\n",
       "      <td>01:00:00</td>\n",
       "      <td>TO</td>\n",
       "      <td>153.0</td>\n",
       "      <td>678,1</td>\n",
       "      <td>GURUPI</td>\n",
       "      <td>Sim</td>\n",
       "      <td>...</td>\n",
       "      <td>Feminino</td>\n",
       "      <td>0</td>\n",
       "      <td>0</td>\n",
       "      <td>1</td>\n",
       "      <td>0</td>\n",
       "      <td>-11,77460203</td>\n",
       "      <td>-49,10744996</td>\n",
       "      <td>SR-TO</td>\n",
       "      <td>UOP01/TO</td>\n",
       "      <td>NaN</td>\n",
       "    </tr>\n",
       "    <tr>\n",
       "      <th>3</th>\n",
       "      <td>260031</td>\n",
       "      <td>578991.0</td>\n",
       "      <td>01/01/2020</td>\n",
       "      <td>quarta-feira</td>\n",
       "      <td>01:00:00</td>\n",
       "      <td>TO</td>\n",
       "      <td>153.0</td>\n",
       "      <td>678,1</td>\n",
       "      <td>GURUPI</td>\n",
       "      <td>Sim</td>\n",
       "      <td>...</td>\n",
       "      <td>Feminino</td>\n",
       "      <td>0</td>\n",
       "      <td>0</td>\n",
       "      <td>1</td>\n",
       "      <td>0</td>\n",
       "      <td>-11,77460203</td>\n",
       "      <td>-49,10744996</td>\n",
       "      <td>SR-TO</td>\n",
       "      <td>UOP01/TO</td>\n",
       "      <td>NaN</td>\n",
       "    </tr>\n",
       "    <tr>\n",
       "      <th>4</th>\n",
       "      <td>260031</td>\n",
       "      <td>578987.0</td>\n",
       "      <td>01/01/2020</td>\n",
       "      <td>quarta-feira</td>\n",
       "      <td>01:00:00</td>\n",
       "      <td>TO</td>\n",
       "      <td>153.0</td>\n",
       "      <td>678,1</td>\n",
       "      <td>GURUPI</td>\n",
       "      <td>Sim</td>\n",
       "      <td>...</td>\n",
       "      <td>Masculino</td>\n",
       "      <td>0</td>\n",
       "      <td>0</td>\n",
       "      <td>1</td>\n",
       "      <td>0</td>\n",
       "      <td>-11,77460203</td>\n",
       "      <td>-49,10744996</td>\n",
       "      <td>SR-TO</td>\n",
       "      <td>UOP01/TO</td>\n",
       "      <td>NaN</td>\n",
       "    </tr>\n",
       "  </tbody>\n",
       "</table>\n",
       "<p>5 rows × 37 columns</p>\n",
       "</div>"
      ],
      "text/plain": [
       "       id     pesid data_inversa    dia_semana   horario  uf     br     km  \\\n",
       "0  260031  578986.0   01/01/2020  quarta-feira  01:00:00  TO  153.0  678,1   \n",
       "1  260031  578986.0   01/01/2020  quarta-feira  01:00:00  TO  153.0  678,1   \n",
       "2  260031  578991.0   01/01/2020  quarta-feira  01:00:00  TO  153.0  678,1   \n",
       "3  260031  578991.0   01/01/2020  quarta-feira  01:00:00  TO  153.0  678,1   \n",
       "4  260031  578987.0   01/01/2020  quarta-feira  01:00:00  TO  153.0  678,1   \n",
       "\n",
       "  municipio causa_principal  ...       sexo  ilesos feridos_leves  \\\n",
       "0    GURUPI             Sim  ...   Feminino       0             0   \n",
       "1    GURUPI             Sim  ...   Feminino       0             0   \n",
       "2    GURUPI             Sim  ...   Feminino       0             0   \n",
       "3    GURUPI             Sim  ...   Feminino       0             0   \n",
       "4    GURUPI             Sim  ...  Masculino       0             0   \n",
       "\n",
       "  feridos_graves mortos      latitude     longitude regional delegacia  uop  \n",
       "0              1      0  -11,77460203  -49,10744996    SR-TO  UOP01/TO  NaN  \n",
       "1              1      0  -11,77460203  -49,10744996    SR-TO  UOP01/TO  NaN  \n",
       "2              1      0  -11,77460203  -49,10744996    SR-TO  UOP01/TO  NaN  \n",
       "3              1      0  -11,77460203  -49,10744996    SR-TO  UOP01/TO  NaN  \n",
       "4              1      0  -11,77460203  -49,10744996    SR-TO  UOP01/TO  NaN  \n",
       "\n",
       "[5 rows x 37 columns]"
      ]
     },
     "execution_count": 6,
     "metadata": {},
     "output_type": "execute_result"
    }
   ],
   "source": [
    "#Acidentes de 2020\n",
    "df20 = pd.read_csv('acidentes2020.csv', sep=';')\n",
    "\n",
    "df20.head()"
   ]
  },
  {
   "cell_type": "markdown",
   "metadata": {},
   "source": [
    "### Dados das características do veículo pelo Renavam "
   ]
  },
  {
   "cell_type": "code",
   "execution_count": 7,
   "metadata": {},
   "outputs": [
    {
     "name": "stderr",
     "output_type": "stream",
     "text": [
      "<ipython-input-7-28f64578d2d8>:2: ParserWarning: Falling back to the 'python' engine because the 'c' engine does not support regex separators (separators > 1 char and different from '\\s+' are interpreted as regex); you can avoid this warning by specifying engine='python'.\n",
      "  dfpot = pd.read_csv('potencia.csv', sep='\"\",\"\"', encoding='utf-8')\n"
     ]
    },
    {
     "data": {
      "text/html": [
       "<div>\n",
       "<style scoped>\n",
       "    .dataframe tbody tr th:only-of-type {\n",
       "        vertical-align: middle;\n",
       "    }\n",
       "\n",
       "    .dataframe tbody tr th {\n",
       "        vertical-align: top;\n",
       "    }\n",
       "\n",
       "    .dataframe thead th {\n",
       "        text-align: right;\n",
       "    }\n",
       "</style>\n",
       "<table border=\"1\" class=\"dataframe\">\n",
       "  <thead>\n",
       "    <tr style=\"text-align: right;\">\n",
       "      <th></th>\n",
       "      <th>Tipo Veículo,\"Código Marca Modelo Veículo</th>\n",
       "      <th>Marca Modelo</th>\n",
       "      <th>Ano Fabricação Veículo</th>\n",
       "      <th>Combustível Veiculo</th>\n",
       "      <th>Potência Veículo – Frota Atual</th>\n",
       "      <th>Eixos Veículo – Frota Atual</th>\n",
       "      <th>Cilindradas Veículo – Frota Atual</th>\n",
       "      <th>Qtd. Veículos Frota Atual\"\"\"</th>\n",
       "    </tr>\n",
       "  </thead>\n",
       "  <tbody>\n",
       "    <tr>\n",
       "      <th>0</th>\n",
       "      <td>\"AUTOMOVEL,\"\"200605</td>\n",
       "      <td>I/FORD F SERIES F68</td>\n",
       "      <td>2009</td>\n",
       "      <td>ALCOOL/GASOLINA</td>\n",
       "      <td>75</td>\n",
       "      <td>0</td>\n",
       "      <td>1000</td>\n",
       "      <td>1\"\"\"</td>\n",
       "    </tr>\n",
       "    <tr>\n",
       "      <th>1</th>\n",
       "      <td>\"AUTOMOVEL,\"\"114358</td>\n",
       "      <td>A.GUGELMIN/F.PROPRIA BUG</td>\n",
       "      <td>2008</td>\n",
       "      <td>GASOLINA</td>\n",
       "      <td>85</td>\n",
       "      <td>0</td>\n",
       "      <td>0</td>\n",
       "      <td>1\"\"\"</td>\n",
       "    </tr>\n",
       "    <tr>\n",
       "      <th>2</th>\n",
       "      <td>\"AUTOMOVEL,\"\"114396</td>\n",
       "      <td>A.SALVADOR/F.PROPRIA AUT</td>\n",
       "      <td>2014</td>\n",
       "      <td>GASOLINA</td>\n",
       "      <td>86</td>\n",
       "      <td>0</td>\n",
       "      <td>0</td>\n",
       "      <td>1\"\"\"</td>\n",
       "    </tr>\n",
       "    <tr>\n",
       "      <th>3</th>\n",
       "      <td>\"AUTOMOVEL,\"\"132599</td>\n",
       "      <td>ADAMO</td>\n",
       "      <td>1962</td>\n",
       "      <td>GASOLINA</td>\n",
       "      <td>46</td>\n",
       "      <td>0</td>\n",
       "      <td>0</td>\n",
       "      <td>1\"\"\"</td>\n",
       "    </tr>\n",
       "    <tr>\n",
       "      <th>4</th>\n",
       "      <td>\"AUTOMOVEL,\"\"132599</td>\n",
       "      <td>ADAMO</td>\n",
       "      <td>1972</td>\n",
       "      <td>GASOLINA</td>\n",
       "      <td>65</td>\n",
       "      <td>0</td>\n",
       "      <td>4</td>\n",
       "      <td>1\"\"\"</td>\n",
       "    </tr>\n",
       "  </tbody>\n",
       "</table>\n",
       "</div>"
      ],
      "text/plain": [
       "  Tipo Veículo,\"Código Marca Modelo Veículo              Marca Modelo  \\\n",
       "0                       \"AUTOMOVEL,\"\"200605       I/FORD F SERIES F68   \n",
       "1                       \"AUTOMOVEL,\"\"114358  A.GUGELMIN/F.PROPRIA BUG   \n",
       "2                       \"AUTOMOVEL,\"\"114396  A.SALVADOR/F.PROPRIA AUT   \n",
       "3                       \"AUTOMOVEL,\"\"132599                     ADAMO   \n",
       "4                       \"AUTOMOVEL,\"\"132599                     ADAMO   \n",
       "\n",
       "   Ano Fabricação Veículo Combustível Veiculo  Potência Veículo – Frota Atual  \\\n",
       "0                    2009     ALCOOL/GASOLINA                              75   \n",
       "1                    2008            GASOLINA                              85   \n",
       "2                    2014            GASOLINA                              86   \n",
       "3                    1962            GASOLINA                              46   \n",
       "4                    1972            GASOLINA                              65   \n",
       "\n",
       "   Eixos Veículo – Frota Atual  Cilindradas Veículo – Frota Atual  \\\n",
       "0                            0                               1000   \n",
       "1                            0                                  0   \n",
       "2                            0                                  0   \n",
       "3                            0                                  0   \n",
       "4                            0                                  4   \n",
       "\n",
       "  Qtd. Veículos Frota Atual\"\"\"  \n",
       "0                         1\"\"\"  \n",
       "1                         1\"\"\"  \n",
       "2                         1\"\"\"  \n",
       "3                         1\"\"\"  \n",
       "4                         1\"\"\"  "
      ]
     },
     "execution_count": 7,
     "metadata": {},
     "output_type": "execute_result"
    }
   ],
   "source": [
    "#Características dos Veículos\n",
    "dfpot = pd.read_csv('potencia.csv', sep='\"\",\"\"', encoding='utf-8')\n",
    "\n",
    "dfpot.head()"
   ]
  },
  {
   "cell_type": "markdown",
   "metadata": {},
   "source": [
    "## Processamento dos dados de acidentes "
   ]
  },
  {
   "cell_type": "markdown",
   "metadata": {},
   "source": [
    "### Informações Acidentes 2017"
   ]
  },
  {
   "cell_type": "code",
   "execution_count": 8,
   "metadata": {},
   "outputs": [
    {
     "name": "stdout",
     "output_type": "stream",
     "text": [
      "<class 'pandas.core.frame.DataFrame'>\n",
      "RangeIndex: 349067 entries, 0 to 349066\n",
      "Data columns (total 37 columns):\n",
      " #   Column                  Non-Null Count   Dtype  \n",
      "---  ------                  --------------   -----  \n",
      " 0   id                      349067 non-null  int64  \n",
      " 1   pesid                   319292 non-null  float64\n",
      " 2   data_inversa            349067 non-null  object \n",
      " 3   dia_semana              349067 non-null  object \n",
      " 4   horario                 349067 non-null  object \n",
      " 5   uf                      349067 non-null  object \n",
      " 6   br                      348546 non-null  float64\n",
      " 7   km                      348546 non-null  object \n",
      " 8   municipio               349067 non-null  object \n",
      " 9   causa_principal         349067 non-null  object \n",
      " 10  causa_acidente          349067 non-null  object \n",
      " 11  ordem_tipo_acidente     349067 non-null  int64  \n",
      " 12  tipo_acidente           349067 non-null  object \n",
      " 13  classificacao_acidente  349067 non-null  object \n",
      " 14  fase_dia                349067 non-null  object \n",
      " 15  sentido_via             349067 non-null  object \n",
      " 16  condicao_metereologica  349067 non-null  object \n",
      " 17  tipo_pista              349067 non-null  object \n",
      " 18  tracado_via             349067 non-null  object \n",
      " 19  uso_solo                349067 non-null  object \n",
      " 20  id_veiculo              349062 non-null  float64\n",
      " 21  tipo_veiculo            349067 non-null  object \n",
      " 22  marca                   336224 non-null  object \n",
      " 23  ano_fabricacao_veiculo  334697 non-null  float64\n",
      " 24  tipo_envolvido          349067 non-null  object \n",
      " 25  estado_fisico           349067 non-null  object \n",
      " 26  idade                   286177 non-null  float64\n",
      " 27  sexo                    349067 non-null  object \n",
      " 28  ilesos                  349067 non-null  int64  \n",
      " 29  feridos_leves           349067 non-null  int64  \n",
      " 30  feridos_graves          349067 non-null  int64  \n",
      " 31  mortos                  349067 non-null  int64  \n",
      " 32  latitude                349067 non-null  object \n",
      " 33  longitude               349067 non-null  object \n",
      " 34  regional                349067 non-null  object \n",
      " 35  delegacia               349067 non-null  object \n",
      " 36  uop                     332235 non-null  object \n",
      "dtypes: float64(5), int64(6), object(26)\n",
      "memory usage: 98.5+ MB\n"
     ]
    }
   ],
   "source": [
    "#Informações do dataset Acidentes 2017\n",
    "df17.info()"
   ]
  },
  {
   "cell_type": "code",
   "execution_count": 9,
   "metadata": {},
   "outputs": [
    {
     "data": {
      "text/plain": [
       "id                         89557\n",
       "pesid                     204377\n",
       "data_inversa                 365\n",
       "dia_semana                     7\n",
       "horario                     1358\n",
       "uf                            27\n",
       "br                           115\n",
       "km                          8531\n",
       "municipio                   1835\n",
       "causa_principal                2\n",
       "causa_acidente                23\n",
       "ordem_tipo_acidente            9\n",
       "tipo_acidente                 16\n",
       "classificacao_acidente         3\n",
       "fase_dia                       4\n",
       "sentido_via                    3\n",
       "condicao_metereologica        10\n",
       "tipo_pista                     3\n",
       "tracado_via                   10\n",
       "uso_solo                       2\n",
       "id_veiculo                164608\n",
       "tipo_veiculo                  25\n",
       "marca                       6562\n",
       "ano_fabricacao_veiculo        66\n",
       "tipo_envolvido                 6\n",
       "estado_fisico                  5\n",
       "idade                        143\n",
       "sexo                           4\n",
       "ilesos                         2\n",
       "feridos_leves                  2\n",
       "feridos_graves                 2\n",
       "mortos                         2\n",
       "latitude                   75970\n",
       "longitude                  75832\n",
       "regional                      27\n",
       "delegacia                    173\n",
       "uop                           80\n",
       "dtype: int64"
      ]
     },
     "execution_count": 9,
     "metadata": {},
     "output_type": "execute_result"
    }
   ],
   "source": [
    "#Conferência de valores únicos dos Acidentes 2017\n",
    "df17.nunique()"
   ]
  },
  {
   "cell_type": "markdown",
   "metadata": {},
   "source": [
    "### Informações Acidentes 2018"
   ]
  },
  {
   "cell_type": "code",
   "execution_count": 10,
   "metadata": {},
   "outputs": [
    {
     "name": "stdout",
     "output_type": "stream",
     "text": [
      "<class 'pandas.core.frame.DataFrame'>\n",
      "RangeIndex: 324809 entries, 0 to 324808\n",
      "Data columns (total 37 columns):\n",
      " #   Column                  Non-Null Count   Dtype  \n",
      "---  ------                  --------------   -----  \n",
      " 0   id                      324809 non-null  object \n",
      " 1   pesid                   299277 non-null  float64\n",
      " 2   data_inversa            324809 non-null  object \n",
      " 3   dia_semana              324809 non-null  object \n",
      " 4   horario                 324809 non-null  object \n",
      " 5   uf                      324809 non-null  object \n",
      " 6   br                      324257 non-null  float64\n",
      " 7   km                      324257 non-null  object \n",
      " 8   municipio               324809 non-null  object \n",
      " 9   causa_principal         324809 non-null  object \n",
      " 10  causa_acidente          324809 non-null  object \n",
      " 11  ordem_tipo_acidente     324754 non-null  float64\n",
      " 12  tipo_acidente           324754 non-null  object \n",
      " 13  classificacao_acidente  324809 non-null  object \n",
      " 14  fase_dia                324809 non-null  object \n",
      " 15  sentido_via             324809 non-null  object \n",
      " 16  condicao_metereologica  324809 non-null  object \n",
      " 17  tipo_pista              324809 non-null  object \n",
      " 18  tracado_via             324809 non-null  object \n",
      " 19  uso_solo                324809 non-null  object \n",
      " 20  id_veiculo              324809 non-null  int64  \n",
      " 21  tipo_veiculo            324809 non-null  object \n",
      " 22  marca                   311669 non-null  object \n",
      " 23  ano_fabricacao_veiculo  309128 non-null  float64\n",
      " 24  tipo_envolvido          324809 non-null  object \n",
      " 25  estado_fisico           324809 non-null  object \n",
      " 26  idade                   263305 non-null  float64\n",
      " 27  sexo                    324809 non-null  object \n",
      " 28  ilesos                  324809 non-null  int64  \n",
      " 29  feridos_leves           324809 non-null  int64  \n",
      " 30  feridos_graves          324809 non-null  int64  \n",
      " 31  mortos                  324809 non-null  int64  \n",
      " 32  latitude                324809 non-null  object \n",
      " 33  longitude               324809 non-null  object \n",
      " 34  regional                324809 non-null  object \n",
      " 35  delegacia               324809 non-null  object \n",
      " 36  uop                     308467 non-null  object \n",
      "dtypes: float64(5), int64(5), object(27)\n",
      "memory usage: 91.7+ MB\n"
     ]
    }
   ],
   "source": [
    "#Informações do dataset Acidentes 2018\n",
    "df18.info()"
   ]
  },
  {
   "cell_type": "code",
   "execution_count": 11,
   "metadata": {},
   "outputs": [
    {
     "data": {
      "text/plain": [
       "id                         69319\n",
       "pesid                     164853\n",
       "data_inversa                 365\n",
       "dia_semana                     7\n",
       "horario                     1292\n",
       "uf                            27\n",
       "br                           113\n",
       "km                          8047\n",
       "municipio                   1782\n",
       "causa_principal                2\n",
       "causa_acidente                24\n",
       "ordem_tipo_acidente           11\n",
       "tipo_acidente                 16\n",
       "classificacao_acidente         3\n",
       "fase_dia                       4\n",
       "sentido_via                    3\n",
       "condicao_metereologica         9\n",
       "tipo_pista                     3\n",
       "tracado_via                   10\n",
       "uso_solo                       2\n",
       "id_veiculo                129475\n",
       "tipo_veiculo                  25\n",
       "marca                       6331\n",
       "ano_fabricacao_veiculo        64\n",
       "tipo_envolvido                 6\n",
       "estado_fisico                  5\n",
       "idade                        127\n",
       "sexo                           4\n",
       "ilesos                         2\n",
       "feridos_leves                  2\n",
       "feridos_graves                 2\n",
       "mortos                         2\n",
       "latitude                   52016\n",
       "longitude                  52140\n",
       "regional                      27\n",
       "delegacia                    183\n",
       "uop                           90\n",
       "dtype: int64"
      ]
     },
     "execution_count": 11,
     "metadata": {},
     "output_type": "execute_result"
    }
   ],
   "source": [
    "#Conferência de valores únicos dos Acidentes 2018\n",
    "df18.nunique()"
   ]
  },
  {
   "cell_type": "markdown",
   "metadata": {},
   "source": [
    "### Informações Acidentes 2019"
   ]
  },
  {
   "cell_type": "code",
   "execution_count": 12,
   "metadata": {
    "scrolled": true
   },
   "outputs": [
    {
     "name": "stdout",
     "output_type": "stream",
     "text": [
      "<class 'pandas.core.frame.DataFrame'>\n",
      "RangeIndex: 331666 entries, 0 to 331665\n",
      "Data columns (total 37 columns):\n",
      " #   Column                  Non-Null Count   Dtype  \n",
      "---  ------                  --------------   -----  \n",
      " 0   id                      331666 non-null  object \n",
      " 1   pesid                   307223 non-null  float64\n",
      " 2   data_inversa            331666 non-null  object \n",
      " 3   dia_semana              331666 non-null  object \n",
      " 4   horario                 331666 non-null  object \n",
      " 5   uf                      331666 non-null  object \n",
      " 6   br                      331291 non-null  float64\n",
      " 7   km                      331291 non-null  object \n",
      " 8   municipio               331666 non-null  object \n",
      " 9   causa_principal         331666 non-null  object \n",
      " 10  causa_acidente          331666 non-null  object \n",
      " 11  ordem_tipo_acidente     331626 non-null  float64\n",
      " 12  tipo_acidente           331626 non-null  object \n",
      " 13  classificacao_acidente  331666 non-null  object \n",
      " 14  fase_dia                331666 non-null  object \n",
      " 15  sentido_via             331666 non-null  object \n",
      " 16  condicao_metereologica  331666 non-null  object \n",
      " 17  tipo_pista              331666 non-null  object \n",
      " 18  tracado_via             331666 non-null  object \n",
      " 19  uso_solo                331666 non-null  object \n",
      " 20  id_veiculo              331666 non-null  int64  \n",
      " 21  tipo_veiculo            331666 non-null  object \n",
      " 22  marca                   317602 non-null  object \n",
      " 23  ano_fabricacao_veiculo  314393 non-null  float64\n",
      " 24  tipo_envolvido          331666 non-null  object \n",
      " 25  estado_fisico           331666 non-null  object \n",
      " 26  idade                   269798 non-null  float64\n",
      " 27  sexo                    331666 non-null  object \n",
      " 28  ilesos                  331666 non-null  int64  \n",
      " 29  feridos_leves           331666 non-null  int64  \n",
      " 30  feridos_graves          331666 non-null  int64  \n",
      " 31  mortos                  331666 non-null  int64  \n",
      " 32  latitude                331666 non-null  object \n",
      " 33  longitude               331666 non-null  object \n",
      " 34  regional                331666 non-null  object \n",
      " 35  delegacia               331666 non-null  object \n",
      " 36  uop                     314468 non-null  object \n",
      "dtypes: float64(5), int64(5), object(27)\n",
      "memory usage: 93.6+ MB\n"
     ]
    }
   ],
   "source": [
    "#Informações do dataset Acidentes 2019\n",
    "df19.info()"
   ]
  },
  {
   "cell_type": "code",
   "execution_count": 13,
   "metadata": {},
   "outputs": [
    {
     "data": {
      "text/plain": [
       "id                         67464\n",
       "pesid                     162299\n",
       "data_inversa                 365\n",
       "dia_semana                     7\n",
       "horario                     1304\n",
       "uf                            27\n",
       "br                           115\n",
       "km                          7918\n",
       "municipio                   1767\n",
       "causa_principal                2\n",
       "causa_acidente                24\n",
       "ordem_tipo_acidente           11\n",
       "tipo_acidente                 16\n",
       "classificacao_acidente         3\n",
       "fase_dia                       4\n",
       "sentido_via                    3\n",
       "condicao_metereologica        10\n",
       "tipo_pista                     3\n",
       "tracado_via                   10\n",
       "uso_solo                       2\n",
       "id_veiculo                125660\n",
       "tipo_veiculo                  24\n",
       "marca                       6308\n",
       "ano_fabricacao_veiculo        64\n",
       "tipo_envolvido                 6\n",
       "estado_fisico                  5\n",
       "idade                        122\n",
       "sexo                           4\n",
       "ilesos                         2\n",
       "feridos_leves                  2\n",
       "feridos_graves                 2\n",
       "mortos                         2\n",
       "latitude                   37325\n",
       "longitude                  37329\n",
       "regional                      28\n",
       "delegacia                    173\n",
       "uop                           86\n",
       "dtype: int64"
      ]
     },
     "execution_count": 13,
     "metadata": {},
     "output_type": "execute_result"
    }
   ],
   "source": [
    "#Conferência de valores únicos dos Acidentes 2019\n",
    "df19.nunique()"
   ]
  },
  {
   "cell_type": "markdown",
   "metadata": {},
   "source": [
    "### Informações Acidentes 2020"
   ]
  },
  {
   "cell_type": "code",
   "execution_count": 14,
   "metadata": {
    "scrolled": true
   },
   "outputs": [
    {
     "name": "stdout",
     "output_type": "stream",
     "text": [
      "<class 'pandas.core.frame.DataFrame'>\n",
      "RangeIndex: 93731 entries, 0 to 93730\n",
      "Data columns (total 37 columns):\n",
      " #   Column                  Non-Null Count  Dtype  \n",
      "---  ------                  --------------  -----  \n",
      " 0   id                      93731 non-null  int64  \n",
      " 1   pesid                   86314 non-null  float64\n",
      " 2   data_inversa            93731 non-null  object \n",
      " 3   dia_semana              93731 non-null  object \n",
      " 4   horario                 93731 non-null  object \n",
      " 5   uf                      93731 non-null  object \n",
      " 6   br                      93550 non-null  float64\n",
      " 7   km                      93550 non-null  object \n",
      " 8   municipio               93731 non-null  object \n",
      " 9   causa_principal         93731 non-null  object \n",
      " 10  causa_acidente          93731 non-null  object \n",
      " 11  ordem_tipo_acidente     93731 non-null  int64  \n",
      " 12  tipo_acidente           93731 non-null  object \n",
      " 13  classificacao_acidente  93731 non-null  object \n",
      " 14  fase_dia                93731 non-null  object \n",
      " 15  sentido_via             93731 non-null  object \n",
      " 16  condicao_metereologica  93731 non-null  object \n",
      " 17  tipo_pista              93731 non-null  object \n",
      " 18  tracado_via             93731 non-null  object \n",
      " 19  uso_solo                93731 non-null  object \n",
      " 20  id_veiculo              93731 non-null  int64  \n",
      " 21  tipo_veiculo            93731 non-null  object \n",
      " 22  marca                   89855 non-null  object \n",
      " 23  ano_fabricacao_veiculo  88910 non-null  float64\n",
      " 24  tipo_envolvido          93731 non-null  object \n",
      " 25  estado_fisico           93731 non-null  object \n",
      " 26  idade                   76156 non-null  float64\n",
      " 27  sexo                    93731 non-null  object \n",
      " 28  ilesos                  93731 non-null  int64  \n",
      " 29  feridos_leves           93731 non-null  int64  \n",
      " 30  feridos_graves          93731 non-null  int64  \n",
      " 31  mortos                  93731 non-null  int64  \n",
      " 32  latitude                93731 non-null  object \n",
      " 33  longitude               93731 non-null  object \n",
      " 34  regional                93731 non-null  object \n",
      " 35  delegacia               93731 non-null  object \n",
      " 36  uop                     91098 non-null  object \n",
      "dtypes: float64(4), int64(7), object(26)\n",
      "memory usage: 26.5+ MB\n"
     ]
    }
   ],
   "source": [
    "#Informações do dataset Acidentes 2020\n",
    "df20.info()"
   ]
  },
  {
   "cell_type": "code",
   "execution_count": 15,
   "metadata": {},
   "outputs": [
    {
     "data": {
      "text/plain": [
       "id                        15709\n",
       "pesid                     37936\n",
       "data_inversa                 91\n",
       "dia_semana                    7\n",
       "horario                     791\n",
       "uf                           27\n",
       "br                          109\n",
       "km                         4972\n",
       "municipio                  1483\n",
       "causa_principal               2\n",
       "causa_acidente               24\n",
       "ordem_tipo_acidente           8\n",
       "tipo_acidente                16\n",
       "classificacao_acidente        3\n",
       "fase_dia                      4\n",
       "sentido_via                   3\n",
       "condicao_metereologica        8\n",
       "tipo_pista                    3\n",
       "tracado_via                  10\n",
       "uso_solo                      2\n",
       "id_veiculo                28944\n",
       "tipo_veiculo                 22\n",
       "marca                      3815\n",
       "ano_fabricacao_veiculo       60\n",
       "tipo_envolvido                6\n",
       "estado_fisico                 5\n",
       "idade                       111\n",
       "sexo                          4\n",
       "ilesos                        2\n",
       "feridos_leves                 2\n",
       "feridos_graves                2\n",
       "mortos                        2\n",
       "latitude                  11221\n",
       "longitude                 11221\n",
       "regional                     28\n",
       "delegacia                   174\n",
       "uop                          99\n",
       "dtype: int64"
      ]
     },
     "execution_count": 15,
     "metadata": {},
     "output_type": "execute_result"
    }
   ],
   "source": [
    "#Conferência de valores únicos dos Acidentes 2020\n",
    "df20.nunique()"
   ]
  },
  {
   "cell_type": "markdown",
   "metadata": {},
   "source": [
    "### Concatenção e tratamentos dos datasets de acidentes"
   ]
  },
  {
   "cell_type": "code",
   "execution_count": 16,
   "metadata": {
    "scrolled": true
   },
   "outputs": [
    {
     "data": {
      "text/html": [
       "<div>\n",
       "<style scoped>\n",
       "    .dataframe tbody tr th:only-of-type {\n",
       "        vertical-align: middle;\n",
       "    }\n",
       "\n",
       "    .dataframe tbody tr th {\n",
       "        vertical-align: top;\n",
       "    }\n",
       "\n",
       "    .dataframe thead th {\n",
       "        text-align: right;\n",
       "    }\n",
       "</style>\n",
       "<table border=\"1\" class=\"dataframe\">\n",
       "  <thead>\n",
       "    <tr style=\"text-align: right;\">\n",
       "      <th></th>\n",
       "      <th>id</th>\n",
       "      <th>pesid</th>\n",
       "      <th>data_inversa</th>\n",
       "      <th>dia_semana</th>\n",
       "      <th>horario</th>\n",
       "      <th>uf</th>\n",
       "      <th>br</th>\n",
       "      <th>km</th>\n",
       "      <th>municipio</th>\n",
       "      <th>causa_principal</th>\n",
       "      <th>...</th>\n",
       "      <th>sexo</th>\n",
       "      <th>ilesos</th>\n",
       "      <th>feridos_leves</th>\n",
       "      <th>feridos_graves</th>\n",
       "      <th>mortos</th>\n",
       "      <th>latitude</th>\n",
       "      <th>longitude</th>\n",
       "      <th>regional</th>\n",
       "      <th>delegacia</th>\n",
       "      <th>uop</th>\n",
       "    </tr>\n",
       "  </thead>\n",
       "  <tbody>\n",
       "    <tr>\n",
       "      <th>0</th>\n",
       "      <td>8</td>\n",
       "      <td>1.0</td>\n",
       "      <td>01/01/2017</td>\n",
       "      <td>domingo</td>\n",
       "      <td>00:00:00</td>\n",
       "      <td>PR</td>\n",
       "      <td>376.0</td>\n",
       "      <td>112</td>\n",
       "      <td>PARANAVAI</td>\n",
       "      <td>Sim</td>\n",
       "      <td>...</td>\n",
       "      <td>Masculino</td>\n",
       "      <td>0</td>\n",
       "      <td>0</td>\n",
       "      <td>1</td>\n",
       "      <td>0</td>\n",
       "      <td>-23,09880731</td>\n",
       "      <td>-52,38789369</td>\n",
       "      <td>SR-PR</td>\n",
       "      <td>DEL7/7</td>\n",
       "      <td>UOP05/PR</td>\n",
       "    </tr>\n",
       "    <tr>\n",
       "      <th>1</th>\n",
       "      <td>9</td>\n",
       "      <td>955.0</td>\n",
       "      <td>01/01/2017</td>\n",
       "      <td>domingo</td>\n",
       "      <td>00:01:00</td>\n",
       "      <td>SC</td>\n",
       "      <td>101.0</td>\n",
       "      <td>234</td>\n",
       "      <td>PALHOCA</td>\n",
       "      <td>Sim</td>\n",
       "      <td>...</td>\n",
       "      <td>Masculino</td>\n",
       "      <td>1</td>\n",
       "      <td>0</td>\n",
       "      <td>0</td>\n",
       "      <td>0</td>\n",
       "      <td>-27,8101</td>\n",
       "      <td>-48,6357</td>\n",
       "      <td>SR-SC</td>\n",
       "      <td>DEL8/1</td>\n",
       "      <td>UOP02/SC</td>\n",
       "    </tr>\n",
       "    <tr>\n",
       "      <th>2</th>\n",
       "      <td>11</td>\n",
       "      <td>2.0</td>\n",
       "      <td>01/01/2017</td>\n",
       "      <td>domingo</td>\n",
       "      <td>00:00:00</td>\n",
       "      <td>PR</td>\n",
       "      <td>153.0</td>\n",
       "      <td>56,9</td>\n",
       "      <td>SANTO ANTONIO DA PLATINA</td>\n",
       "      <td>Sim</td>\n",
       "      <td>...</td>\n",
       "      <td>Feminino</td>\n",
       "      <td>0</td>\n",
       "      <td>1</td>\n",
       "      <td>0</td>\n",
       "      <td>0</td>\n",
       "      <td>-23,36951985</td>\n",
       "      <td>309,9351311</td>\n",
       "      <td>SR-PR</td>\n",
       "      <td>DEL7/7</td>\n",
       "      <td>UOP07/PR</td>\n",
       "    </tr>\n",
       "    <tr>\n",
       "      <th>3</th>\n",
       "      <td>11</td>\n",
       "      <td>3.0</td>\n",
       "      <td>01/01/2017</td>\n",
       "      <td>domingo</td>\n",
       "      <td>00:00:00</td>\n",
       "      <td>PR</td>\n",
       "      <td>153.0</td>\n",
       "      <td>56,9</td>\n",
       "      <td>SANTO ANTONIO DA PLATINA</td>\n",
       "      <td>Sim</td>\n",
       "      <td>...</td>\n",
       "      <td>Masculino</td>\n",
       "      <td>0</td>\n",
       "      <td>1</td>\n",
       "      <td>0</td>\n",
       "      <td>0</td>\n",
       "      <td>-23,36951985</td>\n",
       "      <td>309,9351311</td>\n",
       "      <td>SR-PR</td>\n",
       "      <td>DEL7/7</td>\n",
       "      <td>UOP07/PR</td>\n",
       "    </tr>\n",
       "    <tr>\n",
       "      <th>4</th>\n",
       "      <td>12</td>\n",
       "      <td>1499.0</td>\n",
       "      <td>01/01/2017</td>\n",
       "      <td>domingo</td>\n",
       "      <td>00:00:00</td>\n",
       "      <td>GO</td>\n",
       "      <td>153.0</td>\n",
       "      <td>435</td>\n",
       "      <td>ANAPOLIS</td>\n",
       "      <td>Sim</td>\n",
       "      <td>...</td>\n",
       "      <td>Masculino</td>\n",
       "      <td>0</td>\n",
       "      <td>0</td>\n",
       "      <td>1</td>\n",
       "      <td>0</td>\n",
       "      <td>-16,27473677</td>\n",
       "      <td>-48,96908998</td>\n",
       "      <td>SR-GO</td>\n",
       "      <td>DEL1/2</td>\n",
       "      <td>UOP01/GO</td>\n",
       "    </tr>\n",
       "  </tbody>\n",
       "</table>\n",
       "<p>5 rows × 37 columns</p>\n",
       "</div>"
      ],
      "text/plain": [
       "   id   pesid data_inversa dia_semana   horario  uf     br    km  \\\n",
       "0   8     1.0   01/01/2017    domingo  00:00:00  PR  376.0   112   \n",
       "1   9   955.0   01/01/2017    domingo  00:01:00  SC  101.0   234   \n",
       "2  11     2.0   01/01/2017    domingo  00:00:00  PR  153.0  56,9   \n",
       "3  11     3.0   01/01/2017    domingo  00:00:00  PR  153.0  56,9   \n",
       "4  12  1499.0   01/01/2017    domingo  00:00:00  GO  153.0   435   \n",
       "\n",
       "                  municipio causa_principal  ...       sexo  ilesos  \\\n",
       "0                 PARANAVAI             Sim  ...  Masculino       0   \n",
       "1                   PALHOCA             Sim  ...  Masculino       1   \n",
       "2  SANTO ANTONIO DA PLATINA             Sim  ...   Feminino       0   \n",
       "3  SANTO ANTONIO DA PLATINA             Sim  ...  Masculino       0   \n",
       "4                  ANAPOLIS             Sim  ...  Masculino       0   \n",
       "\n",
       "  feridos_leves feridos_graves mortos      latitude     longitude regional  \\\n",
       "0             0              1      0  -23,09880731  -52,38789369    SR-PR   \n",
       "1             0              0      0      -27,8101      -48,6357    SR-SC   \n",
       "2             1              0      0  -23,36951985   309,9351311    SR-PR   \n",
       "3             1              0      0  -23,36951985   309,9351311    SR-PR   \n",
       "4             0              1      0  -16,27473677  -48,96908998    SR-GO   \n",
       "\n",
       "  delegacia       uop  \n",
       "0    DEL7/7  UOP05/PR  \n",
       "1    DEL8/1  UOP02/SC  \n",
       "2    DEL7/7  UOP07/PR  \n",
       "3    DEL7/7  UOP07/PR  \n",
       "4    DEL1/2  UOP01/GO  \n",
       "\n",
       "[5 rows x 37 columns]"
      ]
     },
     "execution_count": 16,
     "metadata": {},
     "output_type": "execute_result"
    }
   ],
   "source": [
    "#Concatenando datasets de Acidentes\n",
    "df = pd.concat([df17, df18, df19, df20])\n",
    "\n",
    "df.head()"
   ]
  },
  {
   "cell_type": "code",
   "execution_count": 17,
   "metadata": {},
   "outputs": [
    {
     "name": "stdout",
     "output_type": "stream",
     "text": [
      "<class 'pandas.core.frame.DataFrame'>\n",
      "Int64Index: 1099273 entries, 0 to 93730\n",
      "Data columns (total 37 columns):\n",
      " #   Column                  Non-Null Count    Dtype  \n",
      "---  ------                  --------------    -----  \n",
      " 0   id                      1099273 non-null  object \n",
      " 1   pesid                   1012106 non-null  float64\n",
      " 2   data_inversa            1099273 non-null  object \n",
      " 3   dia_semana              1099273 non-null  object \n",
      " 4   horario                 1099273 non-null  object \n",
      " 5   uf                      1099273 non-null  object \n",
      " 6   br                      1097644 non-null  float64\n",
      " 7   km                      1097644 non-null  object \n",
      " 8   municipio               1099273 non-null  object \n",
      " 9   causa_principal         1099273 non-null  object \n",
      " 10  causa_acidente          1099273 non-null  object \n",
      " 11  ordem_tipo_acidente     1099178 non-null  float64\n",
      " 12  tipo_acidente           1099178 non-null  object \n",
      " 13  classificacao_acidente  1099273 non-null  object \n",
      " 14  fase_dia                1099273 non-null  object \n",
      " 15  sentido_via             1099273 non-null  object \n",
      " 16  condicao_metereologica  1099273 non-null  object \n",
      " 17  tipo_pista              1099273 non-null  object \n",
      " 18  tracado_via             1099273 non-null  object \n",
      " 19  uso_solo                1099273 non-null  object \n",
      " 20  id_veiculo              1099268 non-null  float64\n",
      " 21  tipo_veiculo            1099273 non-null  object \n",
      " 22  marca                   1055350 non-null  object \n",
      " 23  ano_fabricacao_veiculo  1047128 non-null  float64\n",
      " 24  tipo_envolvido          1099273 non-null  object \n",
      " 25  estado_fisico           1099273 non-null  object \n",
      " 26  idade                   895436 non-null   float64\n",
      " 27  sexo                    1099273 non-null  object \n",
      " 28  ilesos                  1099273 non-null  int64  \n",
      " 29  feridos_leves           1099273 non-null  int64  \n",
      " 30  feridos_graves          1099273 non-null  int64  \n",
      " 31  mortos                  1099273 non-null  int64  \n",
      " 32  latitude                1099273 non-null  object \n",
      " 33  longitude               1099273 non-null  object \n",
      " 34  regional                1099273 non-null  object \n",
      " 35  delegacia               1099273 non-null  object \n",
      " 36  uop                     1046268 non-null  object \n",
      "dtypes: float64(6), int64(4), object(27)\n",
      "memory usage: 318.7+ MB\n"
     ]
    }
   ],
   "source": [
    "#Informações do dataset de acidentes\n",
    "df.info()"
   ]
  },
  {
   "cell_type": "code",
   "execution_count": 18,
   "metadata": {},
   "outputs": [
    {
     "name": "stdout",
     "output_type": "stream",
     "text": [
      "<class 'pandas.core.frame.DataFrame'>\n",
      "Int64Index: 830291 entries, 0 to 93730\n",
      "Data columns (total 37 columns):\n",
      " #   Column                  Non-Null Count   Dtype  \n",
      "---  ------                  --------------   -----  \n",
      " 0   id                      830291 non-null  object \n",
      " 1   pesid                   830291 non-null  float64\n",
      " 2   data_inversa            830291 non-null  object \n",
      " 3   dia_semana              830291 non-null  object \n",
      " 4   horario                 830291 non-null  object \n",
      " 5   uf                      830291 non-null  object \n",
      " 6   br                      830291 non-null  float64\n",
      " 7   km                      830291 non-null  object \n",
      " 8   municipio               830291 non-null  object \n",
      " 9   causa_principal         830291 non-null  object \n",
      " 10  causa_acidente          830291 non-null  object \n",
      " 11  ordem_tipo_acidente     830291 non-null  float64\n",
      " 12  tipo_acidente           830291 non-null  object \n",
      " 13  classificacao_acidente  830291 non-null  object \n",
      " 14  fase_dia                830291 non-null  object \n",
      " 15  sentido_via             830291 non-null  object \n",
      " 16  condicao_metereologica  830291 non-null  object \n",
      " 17  tipo_pista              830291 non-null  object \n",
      " 18  tracado_via             830291 non-null  object \n",
      " 19  uso_solo                830291 non-null  object \n",
      " 20  id_veiculo              830291 non-null  float64\n",
      " 21  tipo_veiculo            830291 non-null  object \n",
      " 22  marca                   830291 non-null  object \n",
      " 23  ano_fabricacao_veiculo  830291 non-null  float64\n",
      " 24  tipo_envolvido          830291 non-null  object \n",
      " 25  estado_fisico           830291 non-null  object \n",
      " 26  idade                   830291 non-null  float64\n",
      " 27  sexo                    830291 non-null  object \n",
      " 28  ilesos                  830291 non-null  int64  \n",
      " 29  feridos_leves           830291 non-null  int64  \n",
      " 30  feridos_graves          830291 non-null  int64  \n",
      " 31  mortos                  830291 non-null  int64  \n",
      " 32  latitude                830291 non-null  object \n",
      " 33  longitude               830291 non-null  object \n",
      " 34  regional                830291 non-null  object \n",
      " 35  delegacia               830291 non-null  object \n",
      " 36  uop                     830291 non-null  object \n",
      "dtypes: float64(6), int64(4), object(27)\n",
      "memory usage: 240.7+ MB\n"
     ]
    }
   ],
   "source": [
    "#Remoção de valores ausentes \n",
    "df = df.dropna()\n",
    "\n",
    "df.info()"
   ]
  },
  {
   "cell_type": "code",
   "execution_count": 19,
   "metadata": {},
   "outputs": [
    {
     "name": "stdout",
     "output_type": "stream",
     "text": [
      "<class 'pandas.core.frame.DataFrame'>\n",
      "Int64Index: 830290 entries, 0 to 93730\n",
      "Data columns (total 37 columns):\n",
      " #   Column                  Non-Null Count   Dtype  \n",
      "---  ------                  --------------   -----  \n",
      " 0   id                      830290 non-null  object \n",
      " 1   pesid                   830290 non-null  float64\n",
      " 2   data_inversa            830290 non-null  object \n",
      " 3   dia_semana              830290 non-null  object \n",
      " 4   horario                 830290 non-null  object \n",
      " 5   uf                      830290 non-null  object \n",
      " 6   br                      830290 non-null  float64\n",
      " 7   km                      830290 non-null  object \n",
      " 8   municipio               830290 non-null  object \n",
      " 9   causa_principal         830290 non-null  object \n",
      " 10  causa_acidente          830290 non-null  object \n",
      " 11  ordem_tipo_acidente     830290 non-null  float64\n",
      " 12  tipo_acidente           830290 non-null  object \n",
      " 13  classificacao_acidente  830290 non-null  object \n",
      " 14  fase_dia                830290 non-null  object \n",
      " 15  sentido_via             830290 non-null  object \n",
      " 16  condicao_metereologica  830290 non-null  object \n",
      " 17  tipo_pista              830290 non-null  object \n",
      " 18  tracado_via             830290 non-null  object \n",
      " 19  uso_solo                830290 non-null  object \n",
      " 20  id_veiculo              830290 non-null  float64\n",
      " 21  tipo_veiculo            830290 non-null  object \n",
      " 22  marca                   830290 non-null  object \n",
      " 23  ano_fabricacao_veiculo  830290 non-null  float64\n",
      " 24  tipo_envolvido          830290 non-null  object \n",
      " 25  estado_fisico           830290 non-null  object \n",
      " 26  idade                   830290 non-null  float64\n",
      " 27  sexo                    830290 non-null  object \n",
      " 28  ilesos                  830290 non-null  int64  \n",
      " 29  feridos_leves           830290 non-null  int64  \n",
      " 30  feridos_graves          830290 non-null  int64  \n",
      " 31  mortos                  830290 non-null  int64  \n",
      " 32  latitude                830290 non-null  object \n",
      " 33  longitude               830290 non-null  object \n",
      " 34  regional                830290 non-null  object \n",
      " 35  delegacia               830290 non-null  object \n",
      " 36  uop                     830290 non-null  object \n",
      "dtypes: float64(6), int64(4), object(27)\n",
      "memory usage: 240.7+ MB\n"
     ]
    }
   ],
   "source": [
    "#Remoção de valores duplicados\n",
    "df = df.drop_duplicates()\n",
    "\n",
    "df.info()"
   ]
  },
  {
   "cell_type": "code",
   "execution_count": 20,
   "metadata": {},
   "outputs": [
    {
     "data": {
      "text/plain": [
       "id                        218640\n",
       "pesid                     478434\n",
       "data_inversa                1186\n",
       "dia_semana                     7\n",
       "horario                     1430\n",
       "uf                            27\n",
       "br                           124\n",
       "km                          9341\n",
       "municipio                   1921\n",
       "causa_principal                2\n",
       "causa_acidente                24\n",
       "ordem_tipo_acidente           11\n",
       "tipo_acidente                 16\n",
       "classificacao_acidente         3\n",
       "fase_dia                       4\n",
       "sentido_via                    2\n",
       "condicao_metereologica        10\n",
       "tipo_pista                     3\n",
       "tracado_via                   10\n",
       "uso_solo                       2\n",
       "id_veiculo                343152\n",
       "tipo_veiculo                  21\n",
       "marca                       7721\n",
       "ano_fabricacao_veiculo        68\n",
       "tipo_envolvido                 4\n",
       "estado_fisico                  4\n",
       "idade                        181\n",
       "sexo                           3\n",
       "ilesos                         2\n",
       "feridos_leves                  2\n",
       "feridos_graves                 2\n",
       "mortos                         2\n",
       "latitude                  148514\n",
       "longitude                 148965\n",
       "regional                      27\n",
       "delegacia                    163\n",
       "uop                          101\n",
       "dtype: int64"
      ]
     },
     "execution_count": 20,
     "metadata": {},
     "output_type": "execute_result"
    }
   ],
   "source": [
    "#Conferência de valores únicos dos Acidentes 2020\n",
    "df.nunique()\n"
   ]
  },
  {
   "cell_type": "code",
   "execution_count": 21,
   "metadata": {},
   "outputs": [],
   "source": [
    "#Backup DatraFrame\n",
    "df2 = df"
   ]
  },
  {
   "cell_type": "markdown",
   "metadata": {},
   "source": [
    "### Explorando os atributos "
   ]
  },
  {
   "cell_type": "code",
   "execution_count": 22,
   "metadata": {},
   "outputs": [
    {
     "data": {
      "text/plain": [
       "48048     1204\n",
       "142787     726\n",
       "120498     720\n",
       "158551     616\n",
       "31281      444\n",
       "          ... \n",
       "61417        1\n",
       "135600       1\n",
       "61415        1\n",
       "61414        1\n",
       "8            1\n",
       "Name: id, Length: 218640, dtype: int64"
      ]
     },
     "execution_count": 22,
     "metadata": {},
     "output_type": "execute_result"
    }
   ],
   "source": [
    "#Verificando varívael id\n",
    "df2['id'].value_counts()"
   ]
  },
  {
   "cell_type": "code",
   "execution_count": 23,
   "metadata": {},
   "outputs": [
    {
     "data": {
      "text/plain": [
       "312034.0    242\n",
       "312038.0    242\n",
       "359244.0     84\n",
       "359241.0     84\n",
       "359242.0     84\n",
       "           ... \n",
       "81883.0       1\n",
       "20471.0       1\n",
       "81885.0       1\n",
       "265748.0      1\n",
       "2.0           1\n",
       "Name: pesid, Length: 478434, dtype: int64"
      ]
     },
     "execution_count": 23,
     "metadata": {},
     "output_type": "execute_result"
    }
   ],
   "source": [
    "#Verificando varívael pesid\n",
    "df2['pesid'].value_counts()"
   ]
  },
  {
   "cell_type": "code",
   "execution_count": 24,
   "metadata": {},
   "outputs": [
    {
     "data": {
      "text/plain": [
       "23/12/2017    1983\n",
       "24/03/2018    1910\n",
       "22/06/2017    1906\n",
       "08/03/2020    1575\n",
       "22/02/2020    1444\n",
       "              ... \n",
       "28/05/2018     303\n",
       "25/05/2018     296\n",
       "26/05/2018     265\n",
       "29/05/2018     214\n",
       "26/03/2020     206\n",
       "Name: data_inversa, Length: 1186, dtype: int64"
      ]
     },
     "execution_count": 24,
     "metadata": {},
     "output_type": "execute_result"
    }
   ],
   "source": [
    "#Verificando varívael data\n",
    "df2['data_inversa'].value_counts()"
   ]
  },
  {
   "cell_type": "code",
   "execution_count": 25,
   "metadata": {},
   "outputs": [
    {
     "data": {
      "text/plain": [
       "18:30:00    11733\n",
       "18:00:00    11541\n",
       "19:00:00    11320\n",
       "17:00:00    10259\n",
       "16:00:00     9110\n",
       "            ...  \n",
       "02:01:00        1\n",
       "00:41:00        1\n",
       "03:02:00        1\n",
       "02:57:00        1\n",
       "02:36:00        1\n",
       "Name: horario, Length: 1430, dtype: int64"
      ]
     },
     "execution_count": 25,
     "metadata": {},
     "output_type": "execute_result"
    }
   ],
   "source": [
    "#Verificando varívael horário\n",
    "df2['horario'].value_counts()"
   ]
  },
  {
   "cell_type": "code",
   "execution_count": 26,
   "metadata": {},
   "outputs": [
    {
     "data": {
      "text/plain": [
       "MG    125844\n",
       "PR    103017\n",
       "SC     95676\n",
       "RS     67128\n",
       "SP     56716\n",
       "RJ     48445\n",
       "BA     45679\n",
       "GO     35614\n",
       "MT     30502\n",
       "PE     29393\n",
       "ES     27297\n",
       "MS     23838\n",
       "CE     21600\n",
       "PB     21514\n",
       "RO     21302\n",
       "MA     16647\n",
       "PI     15084\n",
       "RN     14163\n",
       "PA     13735\n",
       "AL      7419\n",
       "SE      7355\n",
       "DF      1086\n",
       "TO       371\n",
       "AM       342\n",
       "AC       226\n",
       "RR       199\n",
       "AP        98\n",
       "Name: uf, dtype: int64"
      ]
     },
     "execution_count": 26,
     "metadata": {},
     "output_type": "execute_result"
    }
   ],
   "source": [
    "#Verificando varívael UF\n",
    "df2['uf'].value_counts()"
   ]
  },
  {
   "cell_type": "code",
   "execution_count": 27,
   "metadata": {},
   "outputs": [
    {
     "data": {
      "image/png": "[encoded data removed]",
      "text/plain": [
       "<Figure size 1080x360 with 1 Axes>"
      ]
     },
     "metadata": {
      "needs_background": "light"
     },
     "output_type": "display_data"
    }
   ],
   "source": [
    "#Gráfico por Estado\n",
    "cores = sns.light_palette(\"red\",30,reverse=True) #Cor\n",
    "fig = plt.figure(figsize=(15,5)) #Tamanho\n",
    "sns.countplot(x='uf', #variável\n",
    "              order=df2['uf'].value_counts().index, #ordem descrente\n",
    "              data=df2, #dataframe\n",
    "              palette=cores,) #paleta de cores\n",
    "plt.xlabel('UF',fontsize=15)\n",
    "plt.ylabel('Quantidade de acidentes',fontsize=15)\n",
    "plt.title('Quantidades de acidentes por Estado',fontsize=18)\n",
    "plt.savefig('quant_acid_uf.svg', format='svg')\n"
   ]
  },
  {
   "cell_type": "code",
   "execution_count": 28,
   "metadata": {},
   "outputs": [
    {
     "data": {
      "text/plain": [
       "101.0    125179\n",
       "116.0    117080\n",
       "381.0     49232\n",
       "40.0      35073\n",
       "153.0     32875\n",
       "          ...  \n",
       "477.0         2\n",
       "383.0         2\n",
       "473.0         2\n",
       "498.0         1\n",
       "401.0         1\n",
       "Name: br, Length: 124, dtype: int64"
      ]
     },
     "execution_count": 28,
     "metadata": {},
     "output_type": "execute_result"
    }
   ],
   "source": [
    "#Verificando varívael BR\n",
    "df2['br'].value_counts()"
   ]
  },
  {
   "cell_type": "code",
   "execution_count": 29,
   "metadata": {},
   "outputs": [],
   "source": [
    "#Convertendo em inteiro\n",
    "df2['br'] = df2['br'].astype(int)"
   ]
  },
  {
   "cell_type": "code",
   "execution_count": 30,
   "metadata": {},
   "outputs": [
    {
     "data": {
      "image/png": "[encoded data removed]",
      "text/plain": [
       "<Figure size 1080x360 with 1 Axes>"
      ]
     },
     "metadata": {
      "needs_background": "light"
     },
     "output_type": "display_data"
    }
   ],
   "source": [
    "#Gráfico por BR\n",
    "cores = sns.light_palette(\"red\",30,reverse=True) #Cor\n",
    "fig = plt.figure(figsize=(15,5)) #Tamanho\n",
    "sns.countplot(x='br', #variável\n",
    "              order=df2['br'].value_counts().index, #ordem descrente\n",
    "              data=df2, #dataframe\n",
    "              palette=cores,) #paleta de cores\n",
    "plt.xlabel('BR',fontsize=15)\n",
    "plt.ylabel('Quantidade de acidentes',fontsize=15)\n",
    "plt.title('Quantidades de acidentes por BR',fontsize=18)\n",
    "plt.xlim(0,15)\n",
    "plt.savefig('quant_acid_br.svg', format='svg')\n"
   ]
  },
  {
   "cell_type": "code",
   "execution_count": 31,
   "metadata": {},
   "outputs": [
    {
     "data": {
      "text/plain": [
       "1        2382\n",
       "3        2199\n",
       "4        2003\n",
       "2        1890\n",
       "5        1781\n",
       "         ... \n",
       "395,7       1\n",
       "918,8       1\n",
       "894,5       1\n",
       "917,2       1\n",
       "833,4       1\n",
       "Name: km, Length: 9341, dtype: int64"
      ]
     },
     "execution_count": 31,
     "metadata": {},
     "output_type": "execute_result"
    }
   ],
   "source": [
    "#Verificando varívael Km\n",
    "df2['km'].value_counts()"
   ]
  },
  {
   "cell_type": "code",
   "execution_count": 32,
   "metadata": {},
   "outputs": [
    {
     "data": {
      "text/plain": [
       "CURITIBA                        11331\n",
       "SAO JOSE                         9412\n",
       "GUARULHOS                        9172\n",
       "BETIM                            6996\n",
       "PALHOCA                          6538\n",
       "                                ...  \n",
       "COXILHA                             1\n",
       "MANGUEIRINHA                        1\n",
       "SENADOR ALEXANDRE COSTA             1\n",
       "MANICORE                            1\n",
       "SAO LUIS GONZAGA DO MARANHAO        1\n",
       "Name: municipio, Length: 1921, dtype: int64"
      ]
     },
     "execution_count": 32,
     "metadata": {},
     "output_type": "execute_result"
    }
   ],
   "source": [
    "#Verificando varívael Cidade\n",
    "df2['municipio'].value_counts()"
   ]
  },
  {
   "cell_type": "code",
   "execution_count": 33,
   "metadata": {},
   "outputs": [
    {
     "data": {
      "image/png": "[encoded data removed]",
      "text/plain": [
       "<Figure size 1080x504 with 1 Axes>"
      ]
     },
     "metadata": {
      "needs_background": "light"
     },
     "output_type": "display_data"
    }
   ],
   "source": [
    "#Gráfico por Município\n",
    "cores = sns.light_palette(\"red\",30,reverse=True) #Cor\n",
    "fig = plt.figure(figsize=(15,7)) #Tamanho\n",
    "sns.countplot(x='municipio', #variável\n",
    "              order=df2['municipio'].value_counts().index, #ordem descrente\n",
    "              data=df2, #dataframe\n",
    "              palette=cores,) #paleta de cores\n",
    "plt.xlabel('Município',fontsize=15)\n",
    "plt.ylabel('Quantidade de acidentes',fontsize=15)\n",
    "plt.title('Os 15 municípios com mais acidentes',fontsize=20)\n",
    "plt.xticks(fontsize=10,rotation=13)\n",
    "plt.xlim(0,15)\n",
    "plt.savefig('quant_acid_municipio.svg', format='svg')\n"
   ]
  },
  {
   "cell_type": "code",
   "execution_count": 34,
   "metadata": {},
   "outputs": [
    {
     "data": {
      "text/plain": [
       "Sim    663184\n",
       "Não    167106\n",
       "Name: causa_principal, dtype: int64"
      ]
     },
     "execution_count": 34,
     "metadata": {},
     "output_type": "execute_result"
    }
   ],
   "source": [
    "#Verificando varívael Causa Principal\n",
    "df2['causa_principal'].value_counts()"
   ]
  },
  {
   "cell_type": "code",
   "execution_count": 35,
   "metadata": {},
   "outputs": [
    {
     "name": "stdout",
     "output_type": "stream",
     "text": [
      "<class 'pandas.core.frame.DataFrame'>\n",
      "Int64Index: 663184 entries, 0 to 93730\n",
      "Data columns (total 37 columns):\n",
      " #   Column                  Non-Null Count   Dtype  \n",
      "---  ------                  --------------   -----  \n",
      " 0   id                      663184 non-null  object \n",
      " 1   pesid                   663184 non-null  float64\n",
      " 2   data_inversa            663184 non-null  object \n",
      " 3   dia_semana              663184 non-null  object \n",
      " 4   horario                 663184 non-null  object \n",
      " 5   uf                      663184 non-null  object \n",
      " 6   br                      663184 non-null  int32  \n",
      " 7   km                      663184 non-null  object \n",
      " 8   municipio               663184 non-null  object \n",
      " 9   causa_principal         663184 non-null  object \n",
      " 10  causa_acidente          663184 non-null  object \n",
      " 11  ordem_tipo_acidente     663184 non-null  float64\n",
      " 12  tipo_acidente           663184 non-null  object \n",
      " 13  classificacao_acidente  663184 non-null  object \n",
      " 14  fase_dia                663184 non-null  object \n",
      " 15  sentido_via             663184 non-null  object \n",
      " 16  condicao_metereologica  663184 non-null  object \n",
      " 17  tipo_pista              663184 non-null  object \n",
      " 18  tracado_via             663184 non-null  object \n",
      " 19  uso_solo                663184 non-null  object \n",
      " 20  id_veiculo              663184 non-null  float64\n",
      " 21  tipo_veiculo            663184 non-null  object \n",
      " 22  marca                   663184 non-null  object \n",
      " 23  ano_fabricacao_veiculo  663184 non-null  float64\n",
      " 24  tipo_envolvido          663184 non-null  object \n",
      " 25  estado_fisico           663184 non-null  object \n",
      " 26  idade                   663184 non-null  float64\n",
      " 27  sexo                    663184 non-null  object \n",
      " 28  ilesos                  663184 non-null  int64  \n",
      " 29  feridos_leves           663184 non-null  int64  \n",
      " 30  feridos_graves          663184 non-null  int64  \n",
      " 31  mortos                  663184 non-null  int64  \n",
      " 32  latitude                663184 non-null  object \n",
      " 33  longitude               663184 non-null  object \n",
      " 34  regional                663184 non-null  object \n",
      " 35  delegacia               663184 non-null  object \n",
      " 36  uop                     663184 non-null  object \n",
      "dtypes: float64(5), int32(1), int64(4), object(27)\n",
      "memory usage: 189.7+ MB\n"
     ]
    }
   ],
   "source": [
    "#Selecionando somente causas principais\n",
    "df2 = df2.loc[df2['causa_principal'] == 'Sim']\n",
    "\n",
    "df2.info()"
   ]
  },
  {
   "cell_type": "code",
   "execution_count": 36,
   "metadata": {},
   "outputs": [
    {
     "data": {
      "text/plain": [
       "id                        218640\n",
       "pesid                     478434\n",
       "data_inversa                1186\n",
       "dia_semana                     7\n",
       "horario                     1430\n",
       "uf                            27\n",
       "br                           124\n",
       "km                          9341\n",
       "municipio                   1921\n",
       "causa_principal                1\n",
       "causa_acidente                24\n",
       "ordem_tipo_acidente           11\n",
       "tipo_acidente                 16\n",
       "classificacao_acidente         3\n",
       "fase_dia                       4\n",
       "sentido_via                    2\n",
       "condicao_metereologica        10\n",
       "tipo_pista                     3\n",
       "tracado_via                   10\n",
       "uso_solo                       2\n",
       "id_veiculo                343152\n",
       "tipo_veiculo                  21\n",
       "marca                       7721\n",
       "ano_fabricacao_veiculo        68\n",
       "tipo_envolvido                 4\n",
       "estado_fisico                  4\n",
       "idade                        181\n",
       "sexo                           3\n",
       "ilesos                         2\n",
       "feridos_leves                  2\n",
       "feridos_graves                 2\n",
       "mortos                         2\n",
       "latitude                  148514\n",
       "longitude                 148965\n",
       "regional                      27\n",
       "delegacia                    163\n",
       "uop                          101\n",
       "dtype: int64"
      ]
     },
     "execution_count": 36,
     "metadata": {},
     "output_type": "execute_result"
    }
   ],
   "source": [
    "#Valores únicos\n",
    "df2.nunique()"
   ]
  },
  {
   "cell_type": "code",
   "execution_count": 37,
   "metadata": {},
   "outputs": [
    {
     "data": {
      "text/plain": [
       "Falta de Atenção à Condução                                                       239349\n",
       "Velocidade Incompatível                                                            74414\n",
       "Desobediência às normas de trânsito pelo condutor                                  70256\n",
       "Não guardar distância de segurança                                                 50489\n",
       "Ingestão de Álcool                                                                 46996\n",
       "Defeito Mecânico no Veículo                                                        31091\n",
       "Condutor Dormindo                                                                  28314\n",
       "Pista Escorregadia                                                                 25212\n",
       "Ultrapassagem Indevida                                                             19901\n",
       "Animais na Pista                                                                   14070\n",
       "Falta de Atenção do Pedestre                                                       12853\n",
       "Avarias e/ou desgaste excessivo no pneu                                             9401\n",
       "Defeito na Via                                                                      9077\n",
       "Mal Súbito                                                                          5839\n",
       "Restrição de Visibilidade                                                           5437\n",
       "Objeto estático sobre o leito carroçável                                            4795\n",
       "Sinalização da via insuficiente ou inadequada                                       2806\n",
       "Carga excessiva e/ou mal acondicionada                                              2690\n",
       "Fenômenos da Natureza                                                               2388\n",
       "Agressão Externa                                                                    1969\n",
       "Ingestão de álcool e/ou substâncias psicoativas pelo pedestre                       1800\n",
       "Deficiência ou não Acionamento do Sistema de Iluminação/Sinalização do Veículo      1793\n",
       "Desobediência às normas de trânsito pelo pedestre                                   1631\n",
       "Ingestão de Substâncias Psicoativas                                                  613\n",
       "Name: causa_acidente, dtype: int64"
      ]
     },
     "execution_count": 37,
     "metadata": {},
     "output_type": "execute_result"
    }
   ],
   "source": [
    "#Verificando varívael Causa do Acidente\n",
    "df2['causa_acidente'].value_counts()"
   ]
  },
  {
   "cell_type": "code",
   "execution_count": 38,
   "metadata": {},
   "outputs": [
    {
     "data": {
      "image/png": "[encoded data removed]",
      "text/plain": [
       "<Figure size 1080x360 with 1 Axes>"
      ]
     },
     "metadata": {
      "needs_background": "light"
     },
     "output_type": "display_data"
    }
   ],
   "source": [
    "#Gráfico das Causas de Acidentes\n",
    "cores = sns.light_palette(\"red\",30,reverse=True) #Cor\n",
    "fig = plt.figure(figsize=(15,5)) #Tamanho\n",
    "sns.countplot(x='causa_acidente', #variável\n",
    "              order=df2['causa_acidente'].value_counts().index, #ordem descrente\n",
    "              data=df2, #dataframe\n",
    "              palette=cores,) #paleta de cores\n",
    "plt.xlabel(\"Causas\",fontsize=10)\n",
    "plt.ylabel('Quantidade de acidentes',fontsize=10)\n",
    "plt.title('As 10 principais causas de acidentes',fontsize=15)\n",
    "plt.xticks(fontsize=11,rotation=30)\n",
    "plt.xlim(0,10)\n",
    "plt.savefig('causa.svg', format='svg')\n"
   ]
  },
  {
   "cell_type": "code",
   "execution_count": 39,
   "metadata": {},
   "outputs": [
    {
     "data": {
      "text/plain": [
       "1.0     480122\n",
       "2.0     132793\n",
       "3.0      37834\n",
       "4.0       8316\n",
       "5.0       2549\n",
       "6.0        900\n",
       "7.0        335\n",
       "8.0        153\n",
       "9.0         70\n",
       "10.0        61\n",
       "11.0        51\n",
       "Name: ordem_tipo_acidente, dtype: int64"
      ]
     },
     "execution_count": 39,
     "metadata": {},
     "output_type": "execute_result"
    }
   ],
   "source": [
    "#Verificando varívael Ordem do Acidente\n",
    "df2['ordem_tipo_acidente'].value_counts()"
   ]
  },
  {
   "cell_type": "code",
   "execution_count": 40,
   "metadata": {},
   "outputs": [
    {
     "data": {
      "text/plain": [
       "Colisão traseira                   121642\n",
       "Saída de leito carroçável           90008\n",
       "Colisão lateral                     74672\n",
       "Colisão transversal                 71736\n",
       "Colisão com objeto estático         54990\n",
       "Tombamento                          54172\n",
       "Colisão frontal                     51486\n",
       "Capotamento                         49613\n",
       "Queda de ocupante de veículo        35597\n",
       "Atropelamento de Pedestre           19534\n",
       "Engavetamento                       16661\n",
       "Atropelamento de Animal              7592\n",
       "Incêndio                             5436\n",
       "Derramamento de carga                4242\n",
       "Colisão com objeto em movimento      4159\n",
       "Danos eventuais                      1644\n",
       "Name: tipo_acidente, dtype: int64"
      ]
     },
     "execution_count": 40,
     "metadata": {},
     "output_type": "execute_result"
    }
   ],
   "source": [
    "#Verificando varívael Tipo de acidente\n",
    "df2['tipo_acidente'].value_counts()"
   ]
  },
  {
   "cell_type": "code",
   "execution_count": 41,
   "metadata": {},
   "outputs": [
    {
     "data": {
      "image/png": "[encoded data removed]",
      "text/plain": [
       "<Figure size 1080x360 with 1 Axes>"
      ]
     },
     "metadata": {
      "needs_background": "light"
     },
     "output_type": "display_data"
    }
   ],
   "source": [
    "#Gráfico dos tipos de acidente\n",
    "cores = sns.light_palette(\"red\",30,reverse=True) #Cor\n",
    "fig = plt.figure(figsize=(15,5)) #Tamanho\n",
    "sns.countplot(x='tipo_acidente', #variável\n",
    "              order=df2['tipo_acidente'].value_counts().index, #ordem descrente\n",
    "              data=df2, #dataframe\n",
    "              palette=cores,) #paleta de cores\n",
    "plt.xlabel(\"Tipos de Acidentes\",fontsize=10)\n",
    "plt.ylabel('Quantidade de acidentes',fontsize=10)\n",
    "plt.title('Os principais tipos de acidentes',fontsize=15)\n",
    "plt.xticks(fontsize=10,rotation=13)\n",
    "plt.xlim(0,10)\n",
    "plt.savefig('tipo.pdf', format='pdf')\n"
   ]
  },
  {
   "cell_type": "code",
   "execution_count": 42,
   "metadata": {},
   "outputs": [
    {
     "data": {
      "text/plain": [
       "Com Vítimas Feridas    479564\n",
       "Sem Vítimas            117568\n",
       "Com Vítimas Fatais      66052\n",
       "Name: classificacao_acidente, dtype: int64"
      ]
     },
     "execution_count": 42,
     "metadata": {},
     "output_type": "execute_result"
    }
   ],
   "source": [
    "#Verificando varívael Classificação do acidente\n",
    "df2['classificacao_acidente'].value_counts()"
   ]
  },
  {
   "cell_type": "code",
   "execution_count": 43,
   "metadata": {},
   "outputs": [
    {
     "data": {
      "image/png": "[encoded data removed]",
      "text/plain": [
       "<Figure size 1080x360 with 1 Axes>"
      ]
     },
     "metadata": {
      "needs_background": "light"
     },
     "output_type": "display_data"
    }
   ],
   "source": [
    "#Gráfico da Classificação do acidente\n",
    "cores = sns.light_palette(\"red\",30,reverse=True) #Cor\n",
    "fig = plt.figure(figsize=(15,5)) #Tamanho\n",
    "sns.countplot(x='classificacao_acidente', #variável\n",
    "              order=df2['classificacao_acidente'].value_counts().index, #ordem descrente\n",
    "              data=df2, #dataframe\n",
    "              palette=cores,) #paleta de cores\n",
    "plt.xlabel(\"Classificação\",fontsize=10)\n",
    "plt.ylabel('Quantidade de acidentes',fontsize=10)\n",
    "plt.title('Classificação dos Acidentes',fontsize=15)\n",
    "plt.xticks(fontsize=10,rotation=13)\n",
    "plt.savefig('classificacao.svg', format='svg')\n"
   ]
  },
  {
   "cell_type": "code",
   "execution_count": 44,
   "metadata": {},
   "outputs": [
    {
     "data": {
      "text/plain": [
       "Pleno dia      382461\n",
       "Plena Noite    211767\n",
       "Anoitecer       37101\n",
       "Amanhecer       31855\n",
       "Name: fase_dia, dtype: int64"
      ]
     },
     "execution_count": 44,
     "metadata": {},
     "output_type": "execute_result"
    }
   ],
   "source": [
    "#Verificando varívael fase do dia\n",
    "df2['fase_dia'].value_counts()"
   ]
  },
  {
   "cell_type": "code",
   "execution_count": 45,
   "metadata": {},
   "outputs": [
    {
     "data": {
      "image/png": "[encoded data removed]",
      "text/plain": [
       "<Figure size 1080x360 with 1 Axes>"
      ]
     },
     "metadata": {
      "needs_background": "light"
     },
     "output_type": "display_data"
    }
   ],
   "source": [
    "#Gráfico da Fase do Dia\n",
    "cores = sns.light_palette(\"red\",30,reverse=True) #Cor\n",
    "fig = plt.figure(figsize=(15,5)) #Tamanho\n",
    "sns.countplot(x='fase_dia', #variável\n",
    "              order=df2['fase_dia'].value_counts().index, #ordem descrente\n",
    "              data=df2, #dataframe\n",
    "              palette=cores,) #paleta de cores\n",
    "plt.xlabel(\"Fase do dia\",fontsize=10)\n",
    "plt.ylabel('Quantidade de acidentes',fontsize=10)\n",
    "plt.title('Fase do dia x Quantidade',fontsize=15)\n",
    "plt.xticks(fontsize=10,rotation=13)\n",
    "plt.savefig('fase.svg', format='svg')\n"
   ]
  },
  {
   "cell_type": "code",
   "execution_count": 46,
   "metadata": {},
   "outputs": [
    {
     "data": {
      "text/plain": [
       "Crescente      355928\n",
       "Decrescente    307256\n",
       "Name: sentido_via, dtype: int64"
      ]
     },
     "execution_count": 46,
     "metadata": {},
     "output_type": "execute_result"
    }
   ],
   "source": [
    "#Verificando varívael Sentido da Via\n",
    "df2['sentido_via'].value_counts()"
   ]
  },
  {
   "cell_type": "code",
   "execution_count": 47,
   "metadata": {},
   "outputs": [
    {
     "data": {
      "text/plain": [
       "Reta                     394707\n",
       "Curva                    113986\n",
       "Não Informado             78873\n",
       "Interseção de vias        29547\n",
       "Desvio Temporário         19247\n",
       "Rotatória                 10892\n",
       "Retorno Regulamentado      7072\n",
       "Viaduto                    4319\n",
       "Ponte                      3876\n",
       "Túnel                       665\n",
       "Name: tracado_via, dtype: int64"
      ]
     },
     "execution_count": 47,
     "metadata": {},
     "output_type": "execute_result"
    }
   ],
   "source": [
    "#Verificando varívael Trçado da Via\n",
    "df2['tracado_via'].value_counts()"
   ]
  },
  {
   "cell_type": "code",
   "execution_count": 48,
   "metadata": {},
   "outputs": [
    {
     "name": "stdout",
     "output_type": "stream",
     "text": [
      "<class 'pandas.core.frame.DataFrame'>\n",
      "Int64Index: 584311 entries, 0 to 93730\n",
      "Data columns (total 37 columns):\n",
      " #   Column                  Non-Null Count   Dtype  \n",
      "---  ------                  --------------   -----  \n",
      " 0   id                      584311 non-null  object \n",
      " 1   pesid                   584311 non-null  float64\n",
      " 2   data_inversa            584311 non-null  object \n",
      " 3   dia_semana              584311 non-null  object \n",
      " 4   horario                 584311 non-null  object \n",
      " 5   uf                      584311 non-null  object \n",
      " 6   br                      584311 non-null  int32  \n",
      " 7   km                      584311 non-null  object \n",
      " 8   municipio               584311 non-null  object \n",
      " 9   causa_principal         584311 non-null  object \n",
      " 10  causa_acidente          584311 non-null  object \n",
      " 11  ordem_tipo_acidente     584311 non-null  float64\n",
      " 12  tipo_acidente           584311 non-null  object \n",
      " 13  classificacao_acidente  584311 non-null  object \n",
      " 14  fase_dia                584311 non-null  object \n",
      " 15  sentido_via             584311 non-null  object \n",
      " 16  condicao_metereologica  584311 non-null  object \n",
      " 17  tipo_pista              584311 non-null  object \n",
      " 18  tracado_via             584311 non-null  object \n",
      " 19  uso_solo                584311 non-null  object \n",
      " 20  id_veiculo              584311 non-null  float64\n",
      " 21  tipo_veiculo            584311 non-null  object \n",
      " 22  marca                   584311 non-null  object \n",
      " 23  ano_fabricacao_veiculo  584311 non-null  float64\n",
      " 24  tipo_envolvido          584311 non-null  object \n",
      " 25  estado_fisico           584311 non-null  object \n",
      " 26  idade                   584311 non-null  float64\n",
      " 27  sexo                    584311 non-null  object \n",
      " 28  ilesos                  584311 non-null  int64  \n",
      " 29  feridos_leves           584311 non-null  int64  \n",
      " 30  feridos_graves          584311 non-null  int64  \n",
      " 31  mortos                  584311 non-null  int64  \n",
      " 32  latitude                584311 non-null  object \n",
      " 33  longitude               584311 non-null  object \n",
      " 34  regional                584311 non-null  object \n",
      " 35  delegacia               584311 non-null  object \n",
      " 36  uop                     584311 non-null  object \n",
      "dtypes: float64(5), int32(1), int64(4), object(27)\n",
      "memory usage: 167.2+ MB\n"
     ]
    }
   ],
   "source": [
    "#Removendo valores não informados\n",
    "df2 = df2.loc[df2['tracado_via'] != 'Não Informado']\n",
    "\n",
    "df2.info()"
   ]
  },
  {
   "cell_type": "code",
   "execution_count": 49,
   "metadata": {},
   "outputs": [
    {
     "data": {
      "text/plain": [
       "id                        196718\n",
       "pesid                     427519\n",
       "data_inversa                1186\n",
       "dia_semana                     7\n",
       "horario                     1424\n",
       "uf                            27\n",
       "br                           122\n",
       "km                          9226\n",
       "municipio                   1909\n",
       "causa_principal                1\n",
       "causa_acidente                24\n",
       "ordem_tipo_acidente           11\n",
       "tipo_acidente                 16\n",
       "classificacao_acidente         3\n",
       "fase_dia                       4\n",
       "sentido_via                    2\n",
       "condicao_metereologica        10\n",
       "tipo_pista                     3\n",
       "tracado_via                    9\n",
       "uso_solo                       2\n",
       "id_veiculo                307951\n",
       "tipo_veiculo                  21\n",
       "marca                       7503\n",
       "ano_fabricacao_veiculo        67\n",
       "tipo_envolvido                 4\n",
       "estado_fisico                  4\n",
       "idade                        178\n",
       "sexo                           3\n",
       "ilesos                         2\n",
       "feridos_leves                  2\n",
       "feridos_graves                 2\n",
       "mortos                         2\n",
       "latitude                  134737\n",
       "longitude                 135080\n",
       "regional                      27\n",
       "delegacia                    163\n",
       "uop                          101\n",
       "dtype: int64"
      ]
     },
     "execution_count": 49,
     "metadata": {},
     "output_type": "execute_result"
    }
   ],
   "source": [
    "df2.nunique()"
   ]
  },
  {
   "cell_type": "code",
   "execution_count": 50,
   "metadata": {},
   "outputs": [
    {
     "data": {
      "text/plain": [
       "Reta                     394707\n",
       "Curva                    113986\n",
       "Interseção de vias        29547\n",
       "Desvio Temporário         19247\n",
       "Rotatória                 10892\n",
       "Retorno Regulamentado      7072\n",
       "Viaduto                    4319\n",
       "Ponte                      3876\n",
       "Túnel                       665\n",
       "Name: tracado_via, dtype: int64"
      ]
     },
     "execution_count": 50,
     "metadata": {},
     "output_type": "execute_result"
    }
   ],
   "source": [
    "#Valores traçado da via\n",
    "df2['tracado_via'].value_counts()"
   ]
  },
  {
   "cell_type": "code",
   "execution_count": 51,
   "metadata": {},
   "outputs": [
    {
     "data": {
      "image/png": "[encoded data removed]",
      "text/plain": [
       "<Figure size 1296x576 with 1 Axes>"
      ]
     },
     "metadata": {
      "needs_background": "light"
     },
     "output_type": "display_data"
    }
   ],
   "source": [
    "#Gráfico do Traçado da Via\n",
    "cores = sns.light_palette(\"red\",30,reverse=True) #Cor\n",
    "fig = plt.figure(figsize=(18,8)) #Tamanho\n",
    "sns.countplot(x='tracado_via', #variável\n",
    "              order=df2['tracado_via'].value_counts().index, #ordem descrente\n",
    "              data=df2, #dataframe\n",
    "              palette=cores,) #paleta de cores\n",
    "plt.xlabel(\"Traçado da via\",fontsize=15)\n",
    "plt.ylabel('Quantidade de acidentes',fontsize=15)\n",
    "plt.title('Traçado da via x Quantidade de acidentes',fontsize=20)\n",
    "plt.xticks(fontsize=12,rotation=13)\n",
    "plt.savefig('tracado.svg', format='svg')\n"
   ]
  },
  {
   "cell_type": "code",
   "execution_count": 52,
   "metadata": {},
   "outputs": [
    {
     "data": {
      "text/plain": [
       "Não    342714\n",
       "Sim    241597\n",
       "Name: uso_solo, dtype: int64"
      ]
     },
     "execution_count": 52,
     "metadata": {},
     "output_type": "execute_result"
    }
   ],
   "source": [
    "#Verificando varívael Uso do Solo\n",
    "df2['uso_solo'].value_counts()"
   ]
  },
  {
   "cell_type": "code",
   "execution_count": 53,
   "metadata": {},
   "outputs": [
    {
     "data": {
      "text/plain": [
       "85973.0     231\n",
       "86298.0     228\n",
       "342242.0    204\n",
       "325867.0    165\n",
       "154030.0    164\n",
       "           ... \n",
       "84578.0       1\n",
       "338311.0      1\n",
       "338308.0      1\n",
       "338307.0      1\n",
       "8.0           1\n",
       "Name: id_veiculo, Length: 307951, dtype: int64"
      ]
     },
     "execution_count": 53,
     "metadata": {},
     "output_type": "execute_result"
    }
   ],
   "source": [
    "#Verificando id do veículo\n",
    "df2['id_veiculo'].value_counts()"
   ]
  },
  {
   "cell_type": "code",
   "execution_count": 54,
   "metadata": {},
   "outputs": [
    {
     "data": {
      "text/plain": [
       "Automóvel            268794\n",
       "Motocicleta          104571\n",
       "Caminhonete           54436\n",
       "Caminhão-trator       48738\n",
       "Caminhão              41346\n",
       "Ônibus                23315\n",
       "Camioneta             15830\n",
       "Motoneta              12187\n",
       "Utilitário             6912\n",
       "Micro-ônibus           5850\n",
       "Semireboque            1009\n",
       "Ciclomotor              986\n",
       "Reboque                  96\n",
       "Não Informado            84\n",
       "Trator de rodas          60\n",
       "Triciclo                 53\n",
       "Outros                   24\n",
       "Bicicleta                13\n",
       "Trator misto              4\n",
       "Chassi-plataforma         2\n",
       "Trem-bonde                1\n",
       "Name: tipo_veiculo, dtype: int64"
      ]
     },
     "execution_count": 54,
     "metadata": {},
     "output_type": "execute_result"
    }
   ],
   "source": [
    "#Verificando tipo de veículo\n",
    "df2['tipo_veiculo'].value_counts()"
   ]
  },
  {
   "cell_type": "code",
   "execution_count": 55,
   "metadata": {},
   "outputs": [
    {
     "name": "stdout",
     "output_type": "stream",
     "text": [
      "<class 'pandas.core.frame.DataFrame'>\n",
      "Int64Index: 268794 entries, 1 to 93699\n",
      "Data columns (total 37 columns):\n",
      " #   Column                  Non-Null Count   Dtype  \n",
      "---  ------                  --------------   -----  \n",
      " 0   id                      268794 non-null  object \n",
      " 1   pesid                   268794 non-null  float64\n",
      " 2   data_inversa            268794 non-null  object \n",
      " 3   dia_semana              268794 non-null  object \n",
      " 4   horario                 268794 non-null  object \n",
      " 5   uf                      268794 non-null  object \n",
      " 6   br                      268794 non-null  int32  \n",
      " 7   km                      268794 non-null  object \n",
      " 8   municipio               268794 non-null  object \n",
      " 9   causa_principal         268794 non-null  object \n",
      " 10  causa_acidente          268794 non-null  object \n",
      " 11  ordem_tipo_acidente     268794 non-null  float64\n",
      " 12  tipo_acidente           268794 non-null  object \n",
      " 13  classificacao_acidente  268794 non-null  object \n",
      " 14  fase_dia                268794 non-null  object \n",
      " 15  sentido_via             268794 non-null  object \n",
      " 16  condicao_metereologica  268794 non-null  object \n",
      " 17  tipo_pista              268794 non-null  object \n",
      " 18  tracado_via             268794 non-null  object \n",
      " 19  uso_solo                268794 non-null  object \n",
      " 20  id_veiculo              268794 non-null  float64\n",
      " 21  tipo_veiculo            268794 non-null  object \n",
      " 22  marca                   268794 non-null  object \n",
      " 23  ano_fabricacao_veiculo  268794 non-null  float64\n",
      " 24  tipo_envolvido          268794 non-null  object \n",
      " 25  estado_fisico           268794 non-null  object \n",
      " 26  idade                   268794 non-null  float64\n",
      " 27  sexo                    268794 non-null  object \n",
      " 28  ilesos                  268794 non-null  int64  \n",
      " 29  feridos_leves           268794 non-null  int64  \n",
      " 30  feridos_graves          268794 non-null  int64  \n",
      " 31  mortos                  268794 non-null  int64  \n",
      " 32  latitude                268794 non-null  object \n",
      " 33  longitude               268794 non-null  object \n",
      " 34  regional                268794 non-null  object \n",
      " 35  delegacia               268794 non-null  object \n",
      " 36  uop                     268794 non-null  object \n",
      "dtypes: float64(5), int32(1), int64(4), object(27)\n",
      "memory usage: 76.9+ MB\n"
     ]
    }
   ],
   "source": [
    "#Selecionando somente automóveis\n",
    "df2 = df2.loc[df2['tipo_veiculo'] == 'Automóvel']\n",
    "\n",
    "df2.info()"
   ]
  },
  {
   "cell_type": "code",
   "execution_count": 56,
   "metadata": {},
   "outputs": [
    {
     "data": {
      "text/plain": [
       "id                        106789\n",
       "pesid                     197526\n",
       "data_inversa                1186\n",
       "dia_semana                     7\n",
       "horario                     1371\n",
       "uf                            27\n",
       "br                           114\n",
       "km                          8526\n",
       "municipio                   1788\n",
       "causa_principal                1\n",
       "causa_acidente                24\n",
       "ordem_tipo_acidente           11\n",
       "tipo_acidente                 16\n",
       "classificacao_acidente         3\n",
       "fase_dia                       4\n",
       "sentido_via                    2\n",
       "condicao_metereologica         9\n",
       "tipo_pista                     3\n",
       "tracado_via                    9\n",
       "uso_solo                       2\n",
       "id_veiculo                131013\n",
       "tipo_veiculo                   1\n",
       "marca                       2881\n",
       "ano_fabricacao_veiculo        65\n",
       "tipo_envolvido                 4\n",
       "estado_fisico                  4\n",
       "idade                        152\n",
       "sexo                           3\n",
       "ilesos                         2\n",
       "feridos_leves                  2\n",
       "feridos_graves                 2\n",
       "mortos                         2\n",
       "latitude                   78460\n",
       "longitude                  78521\n",
       "regional                      27\n",
       "delegacia                    163\n",
       "uop                          101\n",
       "dtype: int64"
      ]
     },
     "execution_count": 56,
     "metadata": {},
     "output_type": "execute_result"
    }
   ],
   "source": [
    "#Valores unicos\n",
    "df2.nunique()"
   ]
  },
  {
   "cell_type": "code",
   "execution_count": 57,
   "metadata": {},
   "outputs": [
    {
     "data": {
      "text/plain": [
       "Automóvel    268794\n",
       "Name: tipo_veiculo, dtype: int64"
      ]
     },
     "execution_count": 57,
     "metadata": {},
     "output_type": "execute_result"
    }
   ],
   "source": [
    "#Conferindo\n",
    "df2['tipo_veiculo'].value_counts()"
   ]
  },
  {
   "cell_type": "code",
   "execution_count": 58,
   "metadata": {},
   "outputs": [
    {
     "data": {
      "text/plain": [
       "2013.0    21690\n",
       "2012.0    20320\n",
       "2014.0    19212\n",
       "2011.0    19169\n",
       "2010.0    18543\n",
       "          ...  \n",
       "1901.0        3\n",
       "1947.0        2\n",
       "1962.0        1\n",
       "1960.0        1\n",
       "1951.0        1\n",
       "Name: ano_fabricacao_veiculo, Length: 65, dtype: int64"
      ]
     },
     "execution_count": 58,
     "metadata": {},
     "output_type": "execute_result"
    }
   ],
   "source": [
    "#Verificando ano de fabricação\n",
    "df2['ano_fabricacao_veiculo'].value_counts()"
   ]
  },
  {
   "cell_type": "code",
   "execution_count": 59,
   "metadata": {},
   "outputs": [
    {
     "data": {
      "text/plain": [
       "Condutor      173328\n",
       "Passageiro     91323\n",
       "Pedestre        4084\n",
       "Cavaleiro         59\n",
       "Name: tipo_envolvido, dtype: int64"
      ]
     },
     "execution_count": 59,
     "metadata": {},
     "output_type": "execute_result"
    }
   ],
   "source": [
    "#Verificando tipo de envolvido\n",
    "df2['tipo_envolvido'].value_counts()"
   ]
  },
  {
   "cell_type": "code",
   "execution_count": 60,
   "metadata": {},
   "outputs": [
    {
     "name": "stdout",
     "output_type": "stream",
     "text": [
      "<class 'pandas.core.frame.DataFrame'>\n",
      "Int64Index: 173328 entries, 1 to 93699\n",
      "Data columns (total 37 columns):\n",
      " #   Column                  Non-Null Count   Dtype  \n",
      "---  ------                  --------------   -----  \n",
      " 0   id                      173328 non-null  object \n",
      " 1   pesid                   173328 non-null  float64\n",
      " 2   data_inversa            173328 non-null  object \n",
      " 3   dia_semana              173328 non-null  object \n",
      " 4   horario                 173328 non-null  object \n",
      " 5   uf                      173328 non-null  object \n",
      " 6   br                      173328 non-null  int32  \n",
      " 7   km                      173328 non-null  object \n",
      " 8   municipio               173328 non-null  object \n",
      " 9   causa_principal         173328 non-null  object \n",
      " 10  causa_acidente          173328 non-null  object \n",
      " 11  ordem_tipo_acidente     173328 non-null  float64\n",
      " 12  tipo_acidente           173328 non-null  object \n",
      " 13  classificacao_acidente  173328 non-null  object \n",
      " 14  fase_dia                173328 non-null  object \n",
      " 15  sentido_via             173328 non-null  object \n",
      " 16  condicao_metereologica  173328 non-null  object \n",
      " 17  tipo_pista              173328 non-null  object \n",
      " 18  tracado_via             173328 non-null  object \n",
      " 19  uso_solo                173328 non-null  object \n",
      " 20  id_veiculo              173328 non-null  float64\n",
      " 21  tipo_veiculo            173328 non-null  object \n",
      " 22  marca                   173328 non-null  object \n",
      " 23  ano_fabricacao_veiculo  173328 non-null  float64\n",
      " 24  tipo_envolvido          173328 non-null  object \n",
      " 25  estado_fisico           173328 non-null  object \n",
      " 26  idade                   173328 non-null  float64\n",
      " 27  sexo                    173328 non-null  object \n",
      " 28  ilesos                  173328 non-null  int64  \n",
      " 29  feridos_leves           173328 non-null  int64  \n",
      " 30  feridos_graves          173328 non-null  int64  \n",
      " 31  mortos                  173328 non-null  int64  \n",
      " 32  latitude                173328 non-null  object \n",
      " 33  longitude               173328 non-null  object \n",
      " 34  regional                173328 non-null  object \n",
      " 35  delegacia               173328 non-null  object \n",
      " 36  uop                     173328 non-null  object \n",
      "dtypes: float64(5), int32(1), int64(4), object(27)\n",
      "memory usage: 49.6+ MB\n"
     ]
    }
   ],
   "source": [
    "#Selecionando somente condutor\n",
    "df2 = df2.loc[df2['tipo_envolvido'] == 'Condutor']\n",
    "\n",
    "df2.info()"
   ]
  },
  {
   "cell_type": "code",
   "execution_count": 61,
   "metadata": {},
   "outputs": [
    {
     "data": {
      "text/plain": [
       "id                        106269\n",
       "pesid                     130351\n",
       "data_inversa                1186\n",
       "dia_semana                     7\n",
       "horario                     1368\n",
       "uf                            27\n",
       "br                           114\n",
       "km                          8519\n",
       "municipio                   1787\n",
       "causa_principal                1\n",
       "causa_acidente                24\n",
       "ordem_tipo_acidente           11\n",
       "tipo_acidente                 16\n",
       "classificacao_acidente         3\n",
       "fase_dia                       4\n",
       "sentido_via                    2\n",
       "condicao_metereologica         9\n",
       "tipo_pista                     3\n",
       "tracado_via                    9\n",
       "uso_solo                       2\n",
       "id_veiculo                130351\n",
       "tipo_veiculo                   1\n",
       "marca                       2878\n",
       "ano_fabricacao_veiculo        65\n",
       "tipo_envolvido                 1\n",
       "estado_fisico                  4\n",
       "idade                        104\n",
       "sexo                           3\n",
       "ilesos                         2\n",
       "feridos_leves                  2\n",
       "feridos_graves                 2\n",
       "mortos                         2\n",
       "latitude                   78101\n",
       "longitude                  78163\n",
       "regional                      27\n",
       "delegacia                    163\n",
       "uop                          101\n",
       "dtype: int64"
      ]
     },
     "execution_count": 61,
     "metadata": {},
     "output_type": "execute_result"
    }
   ],
   "source": [
    "#Valores unicos\n",
    "df2.nunique()"
   ]
  },
  {
   "cell_type": "code",
   "execution_count": 62,
   "metadata": {},
   "outputs": [
    {
     "data": {
      "text/plain": [
       "Condutor    173328\n",
       "Name: tipo_envolvido, dtype: int64"
      ]
     },
     "execution_count": 62,
     "metadata": {},
     "output_type": "execute_result"
    }
   ],
   "source": [
    "#conferindo\n",
    "df2['tipo_envolvido'].value_counts()"
   ]
  },
  {
   "cell_type": "code",
   "execution_count": 63,
   "metadata": {},
   "outputs": [
    {
     "data": {
      "text/plain": [
       "Ileso            114266\n",
       "Lesões Leves      44683\n",
       "Lesões Graves     10371\n",
       "Óbito              4008\n",
       "Name: estado_fisico, dtype: int64"
      ]
     },
     "execution_count": 63,
     "metadata": {},
     "output_type": "execute_result"
    }
   ],
   "source": [
    "#Verificando Estado fisíco\n",
    "df2['estado_fisico'].value_counts()"
   ]
  },
  {
   "cell_type": "code",
   "execution_count": 64,
   "metadata": {},
   "outputs": [
    {
     "data": {
      "image/png": "[encoded data removed]",
      "text/plain": [
       "<Figure size 1080x360 with 1 Axes>"
      ]
     },
     "metadata": {
      "needs_background": "light"
     },
     "output_type": "display_data"
    }
   ],
   "source": [
    "#Gráfico do Gravidade dos Acidentes\n",
    "cores = sns.light_palette(\"red\",30,reverse=True) #Cor\n",
    "fig = plt.figure(figsize=(15,5)) #Tamanho\n",
    "sns.countplot(x='estado_fisico', #variável\n",
    "              order=df2['estado_fisico'].value_counts().index, #ordem descrente\n",
    "              data=df2, #dataframe\n",
    "              palette=cores,) #paleta de cores\n",
    "plt.xlabel(\"Estado físico\",fontsize=10)\n",
    "plt.ylabel('Quantidade de acidentes',fontsize=10)\n",
    "plt.title('Gravidade do acidente',fontsize=15)\n",
    "plt.xticks(fontsize=10,rotation=13)\n",
    "plt.savefig('gravidade.svg', format='svg')\n"
   ]
  },
  {
   "cell_type": "code",
   "execution_count": 65,
   "metadata": {},
   "outputs": [
    {
     "data": {
      "text/plain": [
       "count    173328.000000\n",
       "mean         40.257748\n",
       "std          21.209777\n",
       "min           0.000000\n",
       "25%          29.000000\n",
       "50%          38.000000\n",
       "75%          49.000000\n",
       "max        2018.000000\n",
       "Name: idade, dtype: float64"
      ]
     },
     "execution_count": 65,
     "metadata": {},
     "output_type": "execute_result"
    }
   ],
   "source": [
    "#Verificando a idade do condutor\n",
    "df2['idade'].describe()"
   ]
  },
  {
   "cell_type": "code",
   "execution_count": 66,
   "metadata": {},
   "outputs": [
    {
     "data": {
      "image/png": "[encoded data removed]",
      "text/plain": [
       "<Figure size 432x576 with 1 Axes>"
      ]
     },
     "metadata": {
      "needs_background": "light"
     },
     "output_type": "display_data"
    }
   ],
   "source": [
    "#Boxplot idade\n",
    "idade = df2['idade']\n",
    "\n",
    "cores = sns.light_palette(\"red\",30,reverse=True) #Cor\n",
    "fig = plt.figure(figsize=(6,8)) #Tamanho\n",
    "sns.boxplot(y=idade, palette=cores)\n",
    "plt.xlabel(\"Boxplot\",fontsize=10)\n",
    "plt.ylabel('Idade',fontsize=10)\n",
    "plt.title('Boxplot da Idade do Condutor',fontsize=15)\n",
    "plt.xticks(fontsize=10,rotation=13)\n",
    "plt.savefig('boxplot_idade.svg', format='svg')\n",
    "\n"
   ]
  },
  {
   "cell_type": "code",
   "execution_count": 67,
   "metadata": {},
   "outputs": [
    {
     "data": {
      "text/plain": [
       "count    171510.000000\n",
       "mean         39.751548\n",
       "std          13.087300\n",
       "min          18.000000\n",
       "25%          29.000000\n",
       "50%          38.000000\n",
       "75%          49.000000\n",
       "max          76.000000\n",
       "Name: idade, dtype: float64"
      ]
     },
     "execution_count": 67,
     "metadata": {},
     "output_type": "execute_result"
    }
   ],
   "source": [
    "#Seleção de idade acima de 18 anos e abaixo de 76 anos\n",
    "df2 = df2.loc[(df2['idade'] >=18) & (df2['idade'] <=76)]\n",
    "\n",
    "df2['idade'].describe()"
   ]
  },
  {
   "cell_type": "code",
   "execution_count": 68,
   "metadata": {},
   "outputs": [
    {
     "data": {
      "image/png": "[encoded data removed]",
      "text/plain": [
       "<Figure size 432x576 with 1 Axes>"
      ]
     },
     "metadata": {
      "needs_background": "light"
     },
     "output_type": "display_data"
    }
   ],
   "source": [
    "#Boxplot idade entre 18 a 76 anos\n",
    "idade2= df2['idade']\n",
    "\n",
    "cores = sns.light_palette(\"red\",30,reverse=True) #Cor\n",
    "fig = plt.figure(figsize=(6,8)) #Tamanho\n",
    "sns.boxplot(y=idade2,palette=cores)\n",
    "plt.xlabel(\"Boxplot\",fontsize=10)\n",
    "plt.ylabel('Idade',fontsize=10)\n",
    "plt.title('Boxplot da Idade do Condutor entre 18 a 76 anos')\n",
    "plt.xticks(fontsize=10,rotation=13)\n",
    "plt.savefig('boxplot_idade2.svg', format='svg')\n",
    "\n"
   ]
  },
  {
   "cell_type": "code",
   "execution_count": 69,
   "metadata": {},
   "outputs": [
    {
     "name": "stdout",
     "output_type": "stream",
     "text": [
      "<class 'pandas.core.frame.DataFrame'>\n",
      "Int64Index: 171510 entries, 1 to 93699\n",
      "Data columns (total 37 columns):\n",
      " #   Column                  Non-Null Count   Dtype  \n",
      "---  ------                  --------------   -----  \n",
      " 0   id                      171510 non-null  object \n",
      " 1   pesid                   171510 non-null  float64\n",
      " 2   data_inversa            171510 non-null  object \n",
      " 3   dia_semana              171510 non-null  object \n",
      " 4   horario                 171510 non-null  object \n",
      " 5   uf                      171510 non-null  object \n",
      " 6   br                      171510 non-null  int32  \n",
      " 7   km                      171510 non-null  object \n",
      " 8   municipio               171510 non-null  object \n",
      " 9   causa_principal         171510 non-null  object \n",
      " 10  causa_acidente          171510 non-null  object \n",
      " 11  ordem_tipo_acidente     171510 non-null  float64\n",
      " 12  tipo_acidente           171510 non-null  object \n",
      " 13  classificacao_acidente  171510 non-null  object \n",
      " 14  fase_dia                171510 non-null  object \n",
      " 15  sentido_via             171510 non-null  object \n",
      " 16  condicao_metereologica  171510 non-null  object \n",
      " 17  tipo_pista              171510 non-null  object \n",
      " 18  tracado_via             171510 non-null  object \n",
      " 19  uso_solo                171510 non-null  object \n",
      " 20  id_veiculo              171510 non-null  float64\n",
      " 21  tipo_veiculo            171510 non-null  object \n",
      " 22  marca                   171510 non-null  object \n",
      " 23  ano_fabricacao_veiculo  171510 non-null  float64\n",
      " 24  tipo_envolvido          171510 non-null  object \n",
      " 25  estado_fisico           171510 non-null  object \n",
      " 26  idade                   171510 non-null  float64\n",
      " 27  sexo                    171510 non-null  object \n",
      " 28  ilesos                  171510 non-null  int64  \n",
      " 29  feridos_leves           171510 non-null  int64  \n",
      " 30  feridos_graves          171510 non-null  int64  \n",
      " 31  mortos                  171510 non-null  int64  \n",
      " 32  latitude                171510 non-null  object \n",
      " 33  longitude               171510 non-null  object \n",
      " 34  regional                171510 non-null  object \n",
      " 35  delegacia               171510 non-null  object \n",
      " 36  uop                     171510 non-null  object \n",
      "dtypes: float64(5), int32(1), int64(4), object(27)\n",
      "memory usage: 49.1+ MB\n"
     ]
    }
   ],
   "source": [
    "#Backup de Dataset tratado\n",
    "df2.info()"
   ]
  },
  {
   "cell_type": "code",
   "execution_count": 70,
   "metadata": {},
   "outputs": [
    {
     "data": {
      "text/plain": [
       "id                        105293\n",
       "pesid                     128935\n",
       "data_inversa                1186\n",
       "dia_semana                     7\n",
       "horario                     1367\n",
       "uf                            27\n",
       "br                           114\n",
       "km                          8506\n",
       "municipio                   1781\n",
       "causa_principal                1\n",
       "causa_acidente                24\n",
       "ordem_tipo_acidente           11\n",
       "tipo_acidente                 16\n",
       "classificacao_acidente         3\n",
       "fase_dia                       4\n",
       "sentido_via                    2\n",
       "condicao_metereologica         9\n",
       "tipo_pista                     3\n",
       "tracado_via                    9\n",
       "uso_solo                       2\n",
       "id_veiculo                128935\n",
       "tipo_veiculo                   1\n",
       "marca                       2866\n",
       "ano_fabricacao_veiculo        65\n",
       "tipo_envolvido                 1\n",
       "estado_fisico                  4\n",
       "idade                         59\n",
       "sexo                           3\n",
       "ilesos                         2\n",
       "feridos_leves                  2\n",
       "feridos_graves                 2\n",
       "mortos                         2\n",
       "latitude                   77469\n",
       "longitude                  77534\n",
       "regional                      27\n",
       "delegacia                    163\n",
       "uop                          101\n",
       "dtype: int64"
      ]
     },
     "execution_count": 70,
     "metadata": {},
     "output_type": "execute_result"
    }
   ],
   "source": [
    "#Valores unicos\n",
    "df2.nunique()"
   ]
  },
  {
   "cell_type": "code",
   "execution_count": 71,
   "metadata": {},
   "outputs": [
    {
     "data": {
      "text/plain": [
       "Masculino    140502\n",
       "Feminino      30997\n",
       "Ignorado         11\n",
       "Name: sexo, dtype: int64"
      ]
     },
     "execution_count": 71,
     "metadata": {},
     "output_type": "execute_result"
    }
   ],
   "source": [
    "#Verificando sexo do condutor\n",
    "df2['sexo'].value_counts()"
   ]
  },
  {
   "cell_type": "code",
   "execution_count": 72,
   "metadata": {},
   "outputs": [
    {
     "data": {
      "text/plain": [
       "1    113331\n",
       "0     58179\n",
       "Name: ilesos, dtype: int64"
      ]
     },
     "execution_count": 72,
     "metadata": {},
     "output_type": "execute_result"
    }
   ],
   "source": [
    "#Verificando nº de ilesos\n",
    "df2['ilesos'].value_counts()"
   ]
  },
  {
   "cell_type": "code",
   "execution_count": 73,
   "metadata": {},
   "outputs": [
    {
     "data": {
      "text/plain": [
       "0    127488\n",
       "1     44022\n",
       "Name: feridos_leves, dtype: int64"
      ]
     },
     "execution_count": 73,
     "metadata": {},
     "output_type": "execute_result"
    }
   ],
   "source": [
    "#Verificando nº de feridos leves\n",
    "df2['feridos_leves'].value_counts()"
   ]
  },
  {
   "cell_type": "code",
   "execution_count": 74,
   "metadata": {},
   "outputs": [
    {
     "data": {
      "text/plain": [
       "0    161272\n",
       "1     10238\n",
       "Name: feridos_graves, dtype: int64"
      ]
     },
     "execution_count": 74,
     "metadata": {},
     "output_type": "execute_result"
    }
   ],
   "source": [
    "#Verificando nº de feridos graves\n",
    "df2['feridos_graves'].value_counts()"
   ]
  },
  {
   "cell_type": "code",
   "execution_count": 75,
   "metadata": {},
   "outputs": [
    {
     "data": {
      "text/plain": [
       "0    167591\n",
       "1      3919\n",
       "Name: mortos, dtype: int64"
      ]
     },
     "execution_count": 75,
     "metadata": {},
     "output_type": "execute_result"
    }
   ],
   "source": [
    "#Verificando nº de mortos\n",
    "df2['mortos'].value_counts()"
   ]
  },
  {
   "cell_type": "code",
   "execution_count": 76,
   "metadata": {},
   "outputs": [],
   "source": [
    "#Backup\n",
    "\n",
    "df3 = df2"
   ]
  },
  {
   "cell_type": "markdown",
   "metadata": {},
   "source": [
    "## Análise Exploratória dos dados de acidentes"
   ]
  },
  {
   "cell_type": "markdown",
   "metadata": {},
   "source": [
    "### Ano de Fabricação"
   ]
  },
  {
   "cell_type": "code",
   "execution_count": 77,
   "metadata": {},
   "outputs": [
    {
     "data": {
      "text/plain": [
       "count    171510.000000\n",
       "mean       2008.684018\n",
       "std           7.160838\n",
       "min        1900.000000\n",
       "25%        2005.000000\n",
       "50%        2010.000000\n",
       "75%        2014.000000\n",
       "max        2020.000000\n",
       "Name: ano_fabricacao_veiculo, dtype: float64"
      ]
     },
     "execution_count": 77,
     "metadata": {},
     "output_type": "execute_result"
    }
   ],
   "source": [
    "#Estatísticas do ano de fabricação\n",
    "df3['ano_fabricacao_veiculo'].describe()"
   ]
  },
  {
   "cell_type": "code",
   "execution_count": 78,
   "metadata": {},
   "outputs": [
    {
     "data": {
      "image/png": "[encoded data removed]",
      "text/plain": [
       "<Figure size 432x576 with 1 Axes>"
      ]
     },
     "metadata": {
      "needs_background": "light"
     },
     "output_type": "display_data"
    }
   ],
   "source": [
    "#Boxplot do ano de fabricação\n",
    "ano = df3['ano_fabricacao_veiculo']\n",
    "\n",
    "cores = sns.light_palette(\"red\",30,reverse=True) #Cor\n",
    "fig = plt.figure(figsize=(6,8)) #Tamanho\n",
    "sns.boxplot(y=ano, palette=cores)\n",
    "plt.xlabel(\"Boxplot\",fontsize=15)\n",
    "plt.ylabel('Ano de Fabricação',fontsize=15)\n",
    "plt.title('Boxplot do Ano de Fabricação',fontsize=20)\n",
    "plt.xticks(fontsize=10,rotation=13)\n",
    "plt.savefig('boxplot_ano.svg', format='svg')\n"
   ]
  },
  {
   "cell_type": "code",
   "execution_count": 79,
   "metadata": {},
   "outputs": [
    {
     "data": {
      "text/plain": [
       "count    171490.000000\n",
       "mean       2008.696105\n",
       "std           7.071477\n",
       "min        1960.000000\n",
       "25%        2005.000000\n",
       "50%        2010.000000\n",
       "75%        2014.000000\n",
       "max        2020.000000\n",
       "Name: ano_fabricacao_veiculo, dtype: float64"
      ]
     },
     "execution_count": 79,
     "metadata": {},
     "output_type": "execute_result"
    }
   ],
   "source": [
    "#Seleção de veículos fabricados após 1956\n",
    "df4 = df3.loc[df3['ano_fabricacao_veiculo'] > 1956]\n",
    "\n",
    "df4['ano_fabricacao_veiculo'].describe()"
   ]
  },
  {
   "cell_type": "code",
   "execution_count": 80,
   "metadata": {},
   "outputs": [
    {
     "data": {
      "image/png": "[encoded data removed]",
      "text/plain": [
       "<Figure size 432x576 with 1 Axes>"
      ]
     },
     "metadata": {
      "needs_background": "light"
     },
     "output_type": "display_data"
    }
   ],
   "source": [
    "#Boxplot do ano de fabricação após 1956\n",
    "ano = df4['ano_fabricacao_veiculo']\n",
    "\n",
    "cores = sns.light_palette(\"red\",30,reverse=True) #Cor\n",
    "fig = plt.figure(figsize=(6,8)) #Tamanho\n",
    "sns.boxplot(y=ano, palette=cores)\n",
    "plt.xlabel(\"Boxplot\",fontsize=10)\n",
    "plt.ylabel('Ano de Fabricação',fontsize=10)\n",
    "plt.title('Boxplot do Ano de Fabricação após 1956',fontsize=15)\n",
    "plt.xticks(fontsize=10,rotation=13)\n",
    "plt.savefig('boxplot_ano2.svg', format='svg')\n"
   ]
  },
  {
   "cell_type": "code",
   "execution_count": 81,
   "metadata": {},
   "outputs": [
    {
     "name": "stdout",
     "output_type": "stream",
     "text": [
      "<class 'pandas.core.frame.DataFrame'>\n",
      "Int64Index: 171490 entries, 1 to 93699\n",
      "Data columns (total 37 columns):\n",
      " #   Column                  Non-Null Count   Dtype  \n",
      "---  ------                  --------------   -----  \n",
      " 0   id                      171490 non-null  object \n",
      " 1   pesid                   171490 non-null  float64\n",
      " 2   data_inversa            171490 non-null  object \n",
      " 3   dia_semana              171490 non-null  object \n",
      " 4   horario                 171490 non-null  object \n",
      " 5   uf                      171490 non-null  object \n",
      " 6   br                      171490 non-null  int32  \n",
      " 7   km                      171490 non-null  object \n",
      " 8   municipio               171490 non-null  object \n",
      " 9   causa_principal         171490 non-null  object \n",
      " 10  causa_acidente          171490 non-null  object \n",
      " 11  ordem_tipo_acidente     171490 non-null  float64\n",
      " 12  tipo_acidente           171490 non-null  object \n",
      " 13  classificacao_acidente  171490 non-null  object \n",
      " 14  fase_dia                171490 non-null  object \n",
      " 15  sentido_via             171490 non-null  object \n",
      " 16  condicao_metereologica  171490 non-null  object \n",
      " 17  tipo_pista              171490 non-null  object \n",
      " 18  tracado_via             171490 non-null  object \n",
      " 19  uso_solo                171490 non-null  object \n",
      " 20  id_veiculo              171490 non-null  float64\n",
      " 21  tipo_veiculo            171490 non-null  object \n",
      " 22  marca                   171490 non-null  object \n",
      " 23  ano_fabricacao_veiculo  171490 non-null  float64\n",
      " 24  tipo_envolvido          171490 non-null  object \n",
      " 25  estado_fisico           171490 non-null  object \n",
      " 26  idade                   171490 non-null  float64\n",
      " 27  sexo                    171490 non-null  object \n",
      " 28  ilesos                  171490 non-null  int64  \n",
      " 29  feridos_leves           171490 non-null  int64  \n",
      " 30  feridos_graves          171490 non-null  int64  \n",
      " 31  mortos                  171490 non-null  int64  \n",
      " 32  latitude                171490 non-null  object \n",
      " 33  longitude               171490 non-null  object \n",
      " 34  regional                171490 non-null  object \n",
      " 35  delegacia               171490 non-null  object \n",
      " 36  uop                     171490 non-null  object \n",
      "dtypes: float64(5), int32(1), int64(4), object(27)\n",
      "memory usage: 49.1+ MB\n"
     ]
    }
   ],
   "source": [
    "df4.info()"
   ]
  },
  {
   "cell_type": "markdown",
   "metadata": {},
   "source": [
    "### Definindo a idade do veículo \n",
    "\n",
    "Definindo a idade do veículo pela data do acidente e ano de fabricação"
   ]
  },
  {
   "cell_type": "markdown",
   "metadata": {},
   "source": [
    "#### Data do acidente"
   ]
  },
  {
   "cell_type": "code",
   "execution_count": 82,
   "metadata": {},
   "outputs": [
    {
     "data": {
      "text/plain": [
       "1     01/01/2017\n",
       "2     01/01/2017\n",
       "6     01/01/2017\n",
       "27    01/01/2017\n",
       "28    01/01/2017\n",
       "Name: data_inversa, dtype: object"
      ]
     },
     "execution_count": 82,
     "metadata": {},
     "output_type": "execute_result"
    }
   ],
   "source": [
    "#Explorando a varíavel data_inversa\n",
    "df4['data_inversa'].head()"
   ]
  },
  {
   "cell_type": "code",
   "execution_count": 83,
   "metadata": {},
   "outputs": [
    {
     "name": "stderr",
     "output_type": "stream",
     "text": [
      "<ipython-input-83-6474942b79f7>:2: SettingWithCopyWarning: \n",
      "A value is trying to be set on a copy of a slice from a DataFrame.\n",
      "Try using .loc[row_indexer,col_indexer] = value instead\n",
      "\n",
      "See the caveats in the documentation: https://pandas.pydata.org/pandas-docs/stable/user_guide/indexing.html#returning-a-view-versus-a-copy\n",
      "  df4['data_inversa'] = pd.to_datetime(df4['data_inversa'])\n"
     ]
    },
    {
     "data": {
      "text/plain": [
       "1    2017-01-01\n",
       "2    2017-01-01\n",
       "6    2017-01-01\n",
       "27   2017-01-01\n",
       "28   2017-01-01\n",
       "Name: data_inversa, dtype: datetime64[ns]"
      ]
     },
     "execution_count": 83,
     "metadata": {},
     "output_type": "execute_result"
    }
   ],
   "source": [
    "#Convertendo em datetime pandas\n",
    "df4['data_inversa'] = pd.to_datetime(df4['data_inversa'])\n",
    "\n",
    "df4['data_inversa'].head()"
   ]
  },
  {
   "cell_type": "code",
   "execution_count": 84,
   "metadata": {},
   "outputs": [
    {
     "name": "stderr",
     "output_type": "stream",
     "text": [
      "<ipython-input-84-220b714df85c>:2: SettingWithCopyWarning: \n",
      "A value is trying to be set on a copy of a slice from a DataFrame.\n",
      "Try using .loc[row_indexer,col_indexer] = value instead\n",
      "\n",
      "See the caveats in the documentation: https://pandas.pydata.org/pandas-docs/stable/user_guide/indexing.html#returning-a-view-versus-a-copy\n",
      "  df4['data_ano']  = df4['data_inversa']\n"
     ]
    }
   ],
   "source": [
    "#Criano nova coluna somente com o ano do acidente\n",
    "df4['data_ano']  = df4['data_inversa']"
   ]
  },
  {
   "cell_type": "code",
   "execution_count": 85,
   "metadata": {},
   "outputs": [
    {
     "name": "stderr",
     "output_type": "stream",
     "text": [
      "<ipython-input-85-cbf7a85e6d9d>:2: SettingWithCopyWarning: \n",
      "A value is trying to be set on a copy of a slice from a DataFrame.\n",
      "Try using .loc[row_indexer,col_indexer] = value instead\n",
      "\n",
      "See the caveats in the documentation: https://pandas.pydata.org/pandas-docs/stable/user_guide/indexing.html#returning-a-view-versus-a-copy\n",
      "  df4['data_ano'] = (df4['data_ano'].dt.year)\n"
     ]
    },
    {
     "data": {
      "text/plain": [
       "1     2017\n",
       "2     2017\n",
       "6     2017\n",
       "27    2017\n",
       "28    2017\n",
       "Name: data_ano, dtype: int64"
      ]
     },
     "execution_count": 85,
     "metadata": {},
     "output_type": "execute_result"
    }
   ],
   "source": [
    "#Selecionando apenas o ano\n",
    "df4['data_ano'] = (df4['data_ano'].dt.year)\n",
    "\n",
    "df4['data_ano'].head()"
   ]
  },
  {
   "cell_type": "markdown",
   "metadata": {},
   "source": [
    "#### Ano de Fabricação"
   ]
  },
  {
   "cell_type": "code",
   "execution_count": 86,
   "metadata": {},
   "outputs": [
    {
     "data": {
      "text/plain": [
       "1     2003.0\n",
       "2     2013.0\n",
       "6     2002.0\n",
       "27    1983.0\n",
       "28    1983.0\n",
       "Name: ano_fabricacao_veiculo, dtype: float64"
      ]
     },
     "execution_count": 86,
     "metadata": {},
     "output_type": "execute_result"
    }
   ],
   "source": [
    "#Explorando a varíavel ano de fabricação\n",
    "df4['ano_fabricacao_veiculo'].head()"
   ]
  },
  {
   "cell_type": "code",
   "execution_count": 87,
   "metadata": {},
   "outputs": [
    {
     "name": "stderr",
     "output_type": "stream",
     "text": [
      "<ipython-input-87-171f6ff70435>:2: SettingWithCopyWarning: \n",
      "A value is trying to be set on a copy of a slice from a DataFrame.\n",
      "Try using .loc[row_indexer,col_indexer] = value instead\n",
      "\n",
      "See the caveats in the documentation: https://pandas.pydata.org/pandas-docs/stable/user_guide/indexing.html#returning-a-view-versus-a-copy\n",
      "  df4['ano_fabricacao_veiculo'] = df4['ano_fabricacao_veiculo'].astype(int)\n"
     ]
    },
    {
     "data": {
      "text/plain": [
       "1     2003\n",
       "2     2013\n",
       "6     2002\n",
       "27    1983\n",
       "28    1983\n",
       "Name: ano_fabricacao_veiculo, dtype: int32"
      ]
     },
     "execution_count": 87,
     "metadata": {},
     "output_type": "execute_result"
    }
   ],
   "source": [
    "#Convertendo em números inteiros\n",
    "df4['ano_fabricacao_veiculo'] = df4['ano_fabricacao_veiculo'].astype(int)\n",
    "df4['ano_fabricacao_veiculo'].head()"
   ]
  },
  {
   "cell_type": "markdown",
   "metadata": {},
   "source": [
    "#### Idade do veículo"
   ]
  },
  {
   "cell_type": "code",
   "execution_count": 88,
   "metadata": {},
   "outputs": [
    {
     "name": "stderr",
     "output_type": "stream",
     "text": [
      "<ipython-input-88-3284ceebc384>:2: SettingWithCopyWarning: \n",
      "A value is trying to be set on a copy of a slice from a DataFrame.\n",
      "Try using .loc[row_indexer,col_indexer] = value instead\n",
      "\n",
      "See the caveats in the documentation: https://pandas.pydata.org/pandas-docs/stable/user_guide/indexing.html#returning-a-view-versus-a-copy\n",
      "  df4['idade_veiculo'] = df4['data_ano'] - df4['ano_fabricacao_veiculo']\n"
     ]
    },
    {
     "data": {
      "text/plain": [
       "1     14\n",
       "2      4\n",
       "6     15\n",
       "27    34\n",
       "28    34\n",
       "Name: idade_veiculo, dtype: int64"
      ]
     },
     "execution_count": 88,
     "metadata": {},
     "output_type": "execute_result"
    }
   ],
   "source": [
    "#Nova coluna com a idade do veículo, subtraindo ano do acidente pelo ano de fabricação\n",
    "df4['idade_veiculo'] = df4['data_ano'] - df4['ano_fabricacao_veiculo'] \n",
    "df4['idade_veiculo'].head()"
   ]
  },
  {
   "cell_type": "code",
   "execution_count": 89,
   "metadata": {},
   "outputs": [
    {
     "data": {
      "text/html": [
       "<div>\n",
       "<style scoped>\n",
       "    .dataframe tbody tr th:only-of-type {\n",
       "        vertical-align: middle;\n",
       "    }\n",
       "\n",
       "    .dataframe tbody tr th {\n",
       "        vertical-align: top;\n",
       "    }\n",
       "\n",
       "    .dataframe thead th {\n",
       "        text-align: right;\n",
       "    }\n",
       "</style>\n",
       "<table border=\"1\" class=\"dataframe\">\n",
       "  <thead>\n",
       "    <tr style=\"text-align: right;\">\n",
       "      <th></th>\n",
       "      <th>id</th>\n",
       "      <th>pesid</th>\n",
       "      <th>data_inversa</th>\n",
       "      <th>dia_semana</th>\n",
       "      <th>horario</th>\n",
       "      <th>uf</th>\n",
       "      <th>br</th>\n",
       "      <th>km</th>\n",
       "      <th>municipio</th>\n",
       "      <th>causa_principal</th>\n",
       "      <th>...</th>\n",
       "      <th>feridos_leves</th>\n",
       "      <th>feridos_graves</th>\n",
       "      <th>mortos</th>\n",
       "      <th>latitude</th>\n",
       "      <th>longitude</th>\n",
       "      <th>regional</th>\n",
       "      <th>delegacia</th>\n",
       "      <th>uop</th>\n",
       "      <th>data_ano</th>\n",
       "      <th>idade_veiculo</th>\n",
       "    </tr>\n",
       "  </thead>\n",
       "  <tbody>\n",
       "    <tr>\n",
       "      <th>1</th>\n",
       "      <td>9</td>\n",
       "      <td>955.0</td>\n",
       "      <td>2017-01-01</td>\n",
       "      <td>domingo</td>\n",
       "      <td>00:01:00</td>\n",
       "      <td>SC</td>\n",
       "      <td>101</td>\n",
       "      <td>234</td>\n",
       "      <td>PALHOCA</td>\n",
       "      <td>Sim</td>\n",
       "      <td>...</td>\n",
       "      <td>0</td>\n",
       "      <td>0</td>\n",
       "      <td>0</td>\n",
       "      <td>-27,8101</td>\n",
       "      <td>-48,6357</td>\n",
       "      <td>SR-SC</td>\n",
       "      <td>DEL8/1</td>\n",
       "      <td>UOP02/SC</td>\n",
       "      <td>2017</td>\n",
       "      <td>14</td>\n",
       "    </tr>\n",
       "    <tr>\n",
       "      <th>2</th>\n",
       "      <td>11</td>\n",
       "      <td>2.0</td>\n",
       "      <td>2017-01-01</td>\n",
       "      <td>domingo</td>\n",
       "      <td>00:00:00</td>\n",
       "      <td>PR</td>\n",
       "      <td>153</td>\n",
       "      <td>56,9</td>\n",
       "      <td>SANTO ANTONIO DA PLATINA</td>\n",
       "      <td>Sim</td>\n",
       "      <td>...</td>\n",
       "      <td>1</td>\n",
       "      <td>0</td>\n",
       "      <td>0</td>\n",
       "      <td>-23,36951985</td>\n",
       "      <td>309,9351311</td>\n",
       "      <td>SR-PR</td>\n",
       "      <td>DEL7/7</td>\n",
       "      <td>UOP07/PR</td>\n",
       "      <td>2017</td>\n",
       "      <td>4</td>\n",
       "    </tr>\n",
       "    <tr>\n",
       "      <th>6</th>\n",
       "      <td>14</td>\n",
       "      <td>1558.0</td>\n",
       "      <td>2017-01-01</td>\n",
       "      <td>domingo</td>\n",
       "      <td>00:40:00</td>\n",
       "      <td>GO</td>\n",
       "      <td>60</td>\n",
       "      <td>188</td>\n",
       "      <td>GUAPO</td>\n",
       "      <td>Sim</td>\n",
       "      <td>...</td>\n",
       "      <td>0</td>\n",
       "      <td>0</td>\n",
       "      <td>0</td>\n",
       "      <td>-16,82489647</td>\n",
       "      <td>-49,53520775</td>\n",
       "      <td>SR-GO</td>\n",
       "      <td>DEL1/1</td>\n",
       "      <td>UOP02/GO</td>\n",
       "      <td>2017</td>\n",
       "      <td>15</td>\n",
       "    </tr>\n",
       "    <tr>\n",
       "      <th>27</th>\n",
       "      <td>17</td>\n",
       "      <td>10.0</td>\n",
       "      <td>2017-01-01</td>\n",
       "      <td>domingo</td>\n",
       "      <td>01:45:00</td>\n",
       "      <td>RS</td>\n",
       "      <td>116</td>\n",
       "      <td>34,9</td>\n",
       "      <td>VACARIA</td>\n",
       "      <td>Sim</td>\n",
       "      <td>...</td>\n",
       "      <td>0</td>\n",
       "      <td>0</td>\n",
       "      <td>0</td>\n",
       "      <td>-28,5071196</td>\n",
       "      <td>-50,941176</td>\n",
       "      <td>SR-RS</td>\n",
       "      <td>DEL9/5</td>\n",
       "      <td>UOP03/RS</td>\n",
       "      <td>2017</td>\n",
       "      <td>34</td>\n",
       "    </tr>\n",
       "    <tr>\n",
       "      <th>28</th>\n",
       "      <td>17</td>\n",
       "      <td>10.0</td>\n",
       "      <td>2017-01-01</td>\n",
       "      <td>domingo</td>\n",
       "      <td>01:45:00</td>\n",
       "      <td>RS</td>\n",
       "      <td>116</td>\n",
       "      <td>34,9</td>\n",
       "      <td>VACARIA</td>\n",
       "      <td>Sim</td>\n",
       "      <td>...</td>\n",
       "      <td>0</td>\n",
       "      <td>0</td>\n",
       "      <td>0</td>\n",
       "      <td>-28,5071196</td>\n",
       "      <td>-50,941176</td>\n",
       "      <td>SR-RS</td>\n",
       "      <td>DEL9/5</td>\n",
       "      <td>UOP03/RS</td>\n",
       "      <td>2017</td>\n",
       "      <td>34</td>\n",
       "    </tr>\n",
       "  </tbody>\n",
       "</table>\n",
       "<p>5 rows × 39 columns</p>\n",
       "</div>"
      ],
      "text/plain": [
       "    id   pesid data_inversa dia_semana   horario  uf   br    km  \\\n",
       "1    9   955.0   2017-01-01    domingo  00:01:00  SC  101   234   \n",
       "2   11     2.0   2017-01-01    domingo  00:00:00  PR  153  56,9   \n",
       "6   14  1558.0   2017-01-01    domingo  00:40:00  GO   60   188   \n",
       "27  17    10.0   2017-01-01    domingo  01:45:00  RS  116  34,9   \n",
       "28  17    10.0   2017-01-01    domingo  01:45:00  RS  116  34,9   \n",
       "\n",
       "                   municipio causa_principal  ... feridos_leves  \\\n",
       "1                    PALHOCA             Sim  ...             0   \n",
       "2   SANTO ANTONIO DA PLATINA             Sim  ...             1   \n",
       "6                      GUAPO             Sim  ...             0   \n",
       "27                   VACARIA             Sim  ...             0   \n",
       "28                   VACARIA             Sim  ...             0   \n",
       "\n",
       "    feridos_graves mortos      latitude     longitude regional delegacia  \\\n",
       "1                0      0      -27,8101      -48,6357    SR-SC    DEL8/1   \n",
       "2                0      0  -23,36951985   309,9351311    SR-PR    DEL7/7   \n",
       "6                0      0  -16,82489647  -49,53520775    SR-GO    DEL1/1   \n",
       "27               0      0   -28,5071196    -50,941176    SR-RS    DEL9/5   \n",
       "28               0      0   -28,5071196    -50,941176    SR-RS    DEL9/5   \n",
       "\n",
       "         uop data_ano idade_veiculo  \n",
       "1   UOP02/SC     2017            14  \n",
       "2   UOP07/PR     2017             4  \n",
       "6   UOP02/GO     2017            15  \n",
       "27  UOP03/RS     2017            34  \n",
       "28  UOP03/RS     2017            34  \n",
       "\n",
       "[5 rows x 39 columns]"
      ]
     },
     "execution_count": 89,
     "metadata": {},
     "output_type": "execute_result"
    }
   ],
   "source": [
    "#Backup dataset com idade do veículo\n",
    "\n",
    "df5 = df4\n",
    "\n",
    "df5.head()"
   ]
  },
  {
   "cell_type": "markdown",
   "metadata": {},
   "source": [
    "### Definindo os feriados "
   ]
  },
  {
   "cell_type": "code",
   "execution_count": 90,
   "metadata": {},
   "outputs": [
    {
     "data": {
      "text/html": [
       "<div>\n",
       "<style scoped>\n",
       "    .dataframe tbody tr th:only-of-type {\n",
       "        vertical-align: middle;\n",
       "    }\n",
       "\n",
       "    .dataframe tbody tr th {\n",
       "        vertical-align: top;\n",
       "    }\n",
       "\n",
       "    .dataframe thead th {\n",
       "        text-align: right;\n",
       "    }\n",
       "</style>\n",
       "<table border=\"1\" class=\"dataframe\">\n",
       "  <thead>\n",
       "    <tr style=\"text-align: right;\">\n",
       "      <th></th>\n",
       "      <th>id</th>\n",
       "      <th>pesid</th>\n",
       "      <th>data_inversa</th>\n",
       "      <th>dia_semana</th>\n",
       "      <th>horario</th>\n",
       "      <th>uf</th>\n",
       "      <th>br</th>\n",
       "      <th>km</th>\n",
       "      <th>municipio</th>\n",
       "      <th>causa_principal</th>\n",
       "      <th>...</th>\n",
       "      <th>feridos_leves</th>\n",
       "      <th>feridos_graves</th>\n",
       "      <th>mortos</th>\n",
       "      <th>latitude</th>\n",
       "      <th>longitude</th>\n",
       "      <th>regional</th>\n",
       "      <th>delegacia</th>\n",
       "      <th>uop</th>\n",
       "      <th>data_ano</th>\n",
       "      <th>idade_veiculo</th>\n",
       "    </tr>\n",
       "  </thead>\n",
       "  <tbody>\n",
       "    <tr>\n",
       "      <th>0</th>\n",
       "      <td>0</td>\n",
       "      <td>955.0</td>\n",
       "      <td>2017-01-01</td>\n",
       "      <td>domingo</td>\n",
       "      <td>00:01:00</td>\n",
       "      <td>SC</td>\n",
       "      <td>101</td>\n",
       "      <td>234</td>\n",
       "      <td>PALHOCA</td>\n",
       "      <td>Sim</td>\n",
       "      <td>...</td>\n",
       "      <td>0</td>\n",
       "      <td>0</td>\n",
       "      <td>0</td>\n",
       "      <td>-27,8101</td>\n",
       "      <td>-48,6357</td>\n",
       "      <td>SR-SC</td>\n",
       "      <td>DEL8/1</td>\n",
       "      <td>UOP02/SC</td>\n",
       "      <td>2017</td>\n",
       "      <td>14</td>\n",
       "    </tr>\n",
       "    <tr>\n",
       "      <th>1</th>\n",
       "      <td>1</td>\n",
       "      <td>2.0</td>\n",
       "      <td>2017-01-01</td>\n",
       "      <td>domingo</td>\n",
       "      <td>00:00:00</td>\n",
       "      <td>PR</td>\n",
       "      <td>153</td>\n",
       "      <td>56,9</td>\n",
       "      <td>SANTO ANTONIO DA PLATINA</td>\n",
       "      <td>Sim</td>\n",
       "      <td>...</td>\n",
       "      <td>1</td>\n",
       "      <td>0</td>\n",
       "      <td>0</td>\n",
       "      <td>-23,36951985</td>\n",
       "      <td>309,9351311</td>\n",
       "      <td>SR-PR</td>\n",
       "      <td>DEL7/7</td>\n",
       "      <td>UOP07/PR</td>\n",
       "      <td>2017</td>\n",
       "      <td>4</td>\n",
       "    </tr>\n",
       "    <tr>\n",
       "      <th>2</th>\n",
       "      <td>2</td>\n",
       "      <td>1558.0</td>\n",
       "      <td>2017-01-01</td>\n",
       "      <td>domingo</td>\n",
       "      <td>00:40:00</td>\n",
       "      <td>GO</td>\n",
       "      <td>60</td>\n",
       "      <td>188</td>\n",
       "      <td>GUAPO</td>\n",
       "      <td>Sim</td>\n",
       "      <td>...</td>\n",
       "      <td>0</td>\n",
       "      <td>0</td>\n",
       "      <td>0</td>\n",
       "      <td>-16,82489647</td>\n",
       "      <td>-49,53520775</td>\n",
       "      <td>SR-GO</td>\n",
       "      <td>DEL1/1</td>\n",
       "      <td>UOP02/GO</td>\n",
       "      <td>2017</td>\n",
       "      <td>15</td>\n",
       "    </tr>\n",
       "    <tr>\n",
       "      <th>3</th>\n",
       "      <td>3</td>\n",
       "      <td>10.0</td>\n",
       "      <td>2017-01-01</td>\n",
       "      <td>domingo</td>\n",
       "      <td>01:45:00</td>\n",
       "      <td>RS</td>\n",
       "      <td>116</td>\n",
       "      <td>34,9</td>\n",
       "      <td>VACARIA</td>\n",
       "      <td>Sim</td>\n",
       "      <td>...</td>\n",
       "      <td>0</td>\n",
       "      <td>0</td>\n",
       "      <td>0</td>\n",
       "      <td>-28,5071196</td>\n",
       "      <td>-50,941176</td>\n",
       "      <td>SR-RS</td>\n",
       "      <td>DEL9/5</td>\n",
       "      <td>UOP03/RS</td>\n",
       "      <td>2017</td>\n",
       "      <td>34</td>\n",
       "    </tr>\n",
       "    <tr>\n",
       "      <th>4</th>\n",
       "      <td>4</td>\n",
       "      <td>10.0</td>\n",
       "      <td>2017-01-01</td>\n",
       "      <td>domingo</td>\n",
       "      <td>01:45:00</td>\n",
       "      <td>RS</td>\n",
       "      <td>116</td>\n",
       "      <td>34,9</td>\n",
       "      <td>VACARIA</td>\n",
       "      <td>Sim</td>\n",
       "      <td>...</td>\n",
       "      <td>0</td>\n",
       "      <td>0</td>\n",
       "      <td>0</td>\n",
       "      <td>-28,5071196</td>\n",
       "      <td>-50,941176</td>\n",
       "      <td>SR-RS</td>\n",
       "      <td>DEL9/5</td>\n",
       "      <td>UOP03/RS</td>\n",
       "      <td>2017</td>\n",
       "      <td>34</td>\n",
       "    </tr>\n",
       "  </tbody>\n",
       "</table>\n",
       "<p>5 rows × 39 columns</p>\n",
       "</div>"
      ],
      "text/plain": [
       "   id   pesid data_inversa dia_semana   horario  uf   br    km  \\\n",
       "0   0   955.0   2017-01-01    domingo  00:01:00  SC  101   234   \n",
       "1   1     2.0   2017-01-01    domingo  00:00:00  PR  153  56,9   \n",
       "2   2  1558.0   2017-01-01    domingo  00:40:00  GO   60   188   \n",
       "3   3    10.0   2017-01-01    domingo  01:45:00  RS  116  34,9   \n",
       "4   4    10.0   2017-01-01    domingo  01:45:00  RS  116  34,9   \n",
       "\n",
       "                  municipio causa_principal  ... feridos_leves  \\\n",
       "0                   PALHOCA             Sim  ...             0   \n",
       "1  SANTO ANTONIO DA PLATINA             Sim  ...             1   \n",
       "2                     GUAPO             Sim  ...             0   \n",
       "3                   VACARIA             Sim  ...             0   \n",
       "4                   VACARIA             Sim  ...             0   \n",
       "\n",
       "   feridos_graves mortos      latitude     longitude regional delegacia  \\\n",
       "0               0      0      -27,8101      -48,6357    SR-SC    DEL8/1   \n",
       "1               0      0  -23,36951985   309,9351311    SR-PR    DEL7/7   \n",
       "2               0      0  -16,82489647  -49,53520775    SR-GO    DEL1/1   \n",
       "3               0      0   -28,5071196    -50,941176    SR-RS    DEL9/5   \n",
       "4               0      0   -28,5071196    -50,941176    SR-RS    DEL9/5   \n",
       "\n",
       "        uop data_ano idade_veiculo  \n",
       "0  UOP02/SC     2017            14  \n",
       "1  UOP07/PR     2017             4  \n",
       "2  UOP02/GO     2017            15  \n",
       "3  UOP03/RS     2017            34  \n",
       "4  UOP03/RS     2017            34  \n",
       "\n",
       "[5 rows x 39 columns]"
      ]
     },
     "execution_count": 90,
     "metadata": {},
     "output_type": "execute_result"
    }
   ],
   "source": [
    "#Zerando os ids\n",
    "df5= df5.reset_index()\n",
    "tam = df5.shape[0]\n",
    "df5['id'] = range(tam)\n",
    "df5 = df5.drop(columns=['index'])\n",
    "df5.head()"
   ]
  },
  {
   "cell_type": "code",
   "execution_count": 91,
   "metadata": {},
   "outputs": [
    {
     "data": {
      "text/plain": [
       "True"
      ]
     },
     "execution_count": 91,
     "metadata": {},
     "output_type": "execute_result"
    }
   ],
   "source": [
    "#Conferindo a existência de feriados na data_inversa\n",
    "df5['data_inversa'][0] in holidays.Brazil()"
   ]
  },
  {
   "cell_type": "code",
   "execution_count": 92,
   "metadata": {},
   "outputs": [
    {
     "data": {
      "text/plain": [
       "0    171490\n",
       "Name: Feriado, dtype: int64"
      ]
     },
     "execution_count": 92,
     "metadata": {},
     "output_type": "execute_result"
    }
   ],
   "source": [
    "#Criando nova coluna zerada de feriados\n",
    "df5['Feriado'] = 0\n",
    "\n",
    "df5['Feriado'].value_counts()"
   ]
  },
  {
   "cell_type": "code",
   "execution_count": 93,
   "metadata": {},
   "outputs": [
    {
     "name": "stderr",
     "output_type": "stream",
     "text": [
      "<ipython-input-93-02b3e61ebcfa>:9: SettingWithCopyWarning: \n",
      "A value is trying to be set on a copy of a slice from a DataFrame\n",
      "\n",
      "See the caveats in the documentation: https://pandas.pydata.org/pandas-docs/stable/user_guide/indexing.html#returning-a-view-versus-a-copy\n",
      "  df5['Feriado'][i] = df5['data_inversa'][i] in feriado\n",
      "C:\\ProgramData\\Anaconda3\\lib\\site-packages\\pandas\\core\\indexing.py:671: SettingWithCopyWarning: \n",
      "A value is trying to be set on a copy of a slice from a DataFrame\n",
      "\n",
      "See the caveats in the documentation: https://pandas.pydata.org/pandas-docs/stable/user_guide/indexing.html#returning-a-view-versus-a-copy\n",
      "  self._setitem_with_indexer(indexer, value)\n"
     ]
    },
    {
     "data": {
      "text/plain": [
       "0    True\n",
       "1    True\n",
       "2    True\n",
       "3    True\n",
       "4    True\n",
       "Name: Feriado, dtype: object"
      ]
     },
     "execution_count": 93,
     "metadata": {},
     "output_type": "execute_result"
    }
   ],
   "source": [
    "#Lista de feriados no Brasil\n",
    "feriado = holidays.Brazil()\n",
    "\n",
    "#Lista com o tamanho do dataframe\n",
    "tam_list = list(range(df5.shape[0]))\n",
    "\n",
    "#Substituindo os valores zerados de feriados pela existencia de feriados na lista de feriados\n",
    "for i in tam_list:\n",
    "    df5['Feriado'][i] = df5['data_inversa'][i] in feriado\n",
    "    \n",
    "#Conferindo coluna Feriados\n",
    "df5['Feriado'].head()"
   ]
  },
  {
   "cell_type": "code",
   "execution_count": 94,
   "metadata": {},
   "outputs": [
    {
     "data": {
      "text/plain": [
       "False    163957\n",
       "True       7533\n",
       "Name: Feriado, dtype: int64"
      ]
     },
     "execution_count": 94,
     "metadata": {},
     "output_type": "execute_result"
    }
   ],
   "source": [
    "#Quantidade de Feriados\n",
    "df5['Feriado'].value_counts()"
   ]
  },
  {
   "cell_type": "code",
   "execution_count": 95,
   "metadata": {},
   "outputs": [
    {
     "data": {
      "text/plain": [
       "Dia Normal    163957\n",
       "Feriado         7533\n",
       "Name: Feriado, dtype: int64"
      ]
     },
     "execution_count": 95,
     "metadata": {},
     "output_type": "execute_result"
    }
   ],
   "source": [
    "####Renomeando atributos\n",
    "#Feriado\n",
    "df5['Feriado'] = df5['Feriado'].replace({True: 'Feriado'})\n",
    "\n",
    "#Quando Dia Normal\n",
    "df5['Feriado'] = df5['Feriado'].replace({False: 'Dia Normal'})\n",
    "\n",
    "df5['Feriado'].value_counts()"
   ]
  },
  {
   "cell_type": "code",
   "execution_count": 96,
   "metadata": {},
   "outputs": [
    {
     "data": {
      "text/html": [
       "<div>\n",
       "<style scoped>\n",
       "    .dataframe tbody tr th:only-of-type {\n",
       "        vertical-align: middle;\n",
       "    }\n",
       "\n",
       "    .dataframe tbody tr th {\n",
       "        vertical-align: top;\n",
       "    }\n",
       "\n",
       "    .dataframe thead th {\n",
       "        text-align: right;\n",
       "    }\n",
       "</style>\n",
       "<table border=\"1\" class=\"dataframe\">\n",
       "  <thead>\n",
       "    <tr style=\"text-align: right;\">\n",
       "      <th></th>\n",
       "      <th>id</th>\n",
       "      <th>pesid</th>\n",
       "      <th>data_inversa</th>\n",
       "      <th>dia_semana</th>\n",
       "      <th>horario</th>\n",
       "      <th>uf</th>\n",
       "      <th>br</th>\n",
       "      <th>km</th>\n",
       "      <th>municipio</th>\n",
       "      <th>causa_principal</th>\n",
       "      <th>...</th>\n",
       "      <th>feridos_graves</th>\n",
       "      <th>mortos</th>\n",
       "      <th>latitude</th>\n",
       "      <th>longitude</th>\n",
       "      <th>regional</th>\n",
       "      <th>delegacia</th>\n",
       "      <th>uop</th>\n",
       "      <th>data_ano</th>\n",
       "      <th>idade_veiculo</th>\n",
       "      <th>Feriado</th>\n",
       "    </tr>\n",
       "  </thead>\n",
       "  <tbody>\n",
       "    <tr>\n",
       "      <th>0</th>\n",
       "      <td>0</td>\n",
       "      <td>955.0</td>\n",
       "      <td>2017-01-01</td>\n",
       "      <td>domingo</td>\n",
       "      <td>00:01:00</td>\n",
       "      <td>SC</td>\n",
       "      <td>101</td>\n",
       "      <td>234</td>\n",
       "      <td>PALHOCA</td>\n",
       "      <td>Sim</td>\n",
       "      <td>...</td>\n",
       "      <td>0</td>\n",
       "      <td>0</td>\n",
       "      <td>-27,8101</td>\n",
       "      <td>-48,6357</td>\n",
       "      <td>SR-SC</td>\n",
       "      <td>DEL8/1</td>\n",
       "      <td>UOP02/SC</td>\n",
       "      <td>2017</td>\n",
       "      <td>14</td>\n",
       "      <td>Feriado</td>\n",
       "    </tr>\n",
       "    <tr>\n",
       "      <th>1</th>\n",
       "      <td>1</td>\n",
       "      <td>2.0</td>\n",
       "      <td>2017-01-01</td>\n",
       "      <td>domingo</td>\n",
       "      <td>00:00:00</td>\n",
       "      <td>PR</td>\n",
       "      <td>153</td>\n",
       "      <td>56,9</td>\n",
       "      <td>SANTO ANTONIO DA PLATINA</td>\n",
       "      <td>Sim</td>\n",
       "      <td>...</td>\n",
       "      <td>0</td>\n",
       "      <td>0</td>\n",
       "      <td>-23,36951985</td>\n",
       "      <td>309,9351311</td>\n",
       "      <td>SR-PR</td>\n",
       "      <td>DEL7/7</td>\n",
       "      <td>UOP07/PR</td>\n",
       "      <td>2017</td>\n",
       "      <td>4</td>\n",
       "      <td>Feriado</td>\n",
       "    </tr>\n",
       "    <tr>\n",
       "      <th>2</th>\n",
       "      <td>2</td>\n",
       "      <td>1558.0</td>\n",
       "      <td>2017-01-01</td>\n",
       "      <td>domingo</td>\n",
       "      <td>00:40:00</td>\n",
       "      <td>GO</td>\n",
       "      <td>60</td>\n",
       "      <td>188</td>\n",
       "      <td>GUAPO</td>\n",
       "      <td>Sim</td>\n",
       "      <td>...</td>\n",
       "      <td>0</td>\n",
       "      <td>0</td>\n",
       "      <td>-16,82489647</td>\n",
       "      <td>-49,53520775</td>\n",
       "      <td>SR-GO</td>\n",
       "      <td>DEL1/1</td>\n",
       "      <td>UOP02/GO</td>\n",
       "      <td>2017</td>\n",
       "      <td>15</td>\n",
       "      <td>Feriado</td>\n",
       "    </tr>\n",
       "    <tr>\n",
       "      <th>3</th>\n",
       "      <td>3</td>\n",
       "      <td>10.0</td>\n",
       "      <td>2017-01-01</td>\n",
       "      <td>domingo</td>\n",
       "      <td>01:45:00</td>\n",
       "      <td>RS</td>\n",
       "      <td>116</td>\n",
       "      <td>34,9</td>\n",
       "      <td>VACARIA</td>\n",
       "      <td>Sim</td>\n",
       "      <td>...</td>\n",
       "      <td>0</td>\n",
       "      <td>0</td>\n",
       "      <td>-28,5071196</td>\n",
       "      <td>-50,941176</td>\n",
       "      <td>SR-RS</td>\n",
       "      <td>DEL9/5</td>\n",
       "      <td>UOP03/RS</td>\n",
       "      <td>2017</td>\n",
       "      <td>34</td>\n",
       "      <td>Feriado</td>\n",
       "    </tr>\n",
       "    <tr>\n",
       "      <th>4</th>\n",
       "      <td>4</td>\n",
       "      <td>10.0</td>\n",
       "      <td>2017-01-01</td>\n",
       "      <td>domingo</td>\n",
       "      <td>01:45:00</td>\n",
       "      <td>RS</td>\n",
       "      <td>116</td>\n",
       "      <td>34,9</td>\n",
       "      <td>VACARIA</td>\n",
       "      <td>Sim</td>\n",
       "      <td>...</td>\n",
       "      <td>0</td>\n",
       "      <td>0</td>\n",
       "      <td>-28,5071196</td>\n",
       "      <td>-50,941176</td>\n",
       "      <td>SR-RS</td>\n",
       "      <td>DEL9/5</td>\n",
       "      <td>UOP03/RS</td>\n",
       "      <td>2017</td>\n",
       "      <td>34</td>\n",
       "      <td>Feriado</td>\n",
       "    </tr>\n",
       "  </tbody>\n",
       "</table>\n",
       "<p>5 rows × 40 columns</p>\n",
       "</div>"
      ],
      "text/plain": [
       "   id   pesid data_inversa dia_semana   horario  uf   br    km  \\\n",
       "0   0   955.0   2017-01-01    domingo  00:01:00  SC  101   234   \n",
       "1   1     2.0   2017-01-01    domingo  00:00:00  PR  153  56,9   \n",
       "2   2  1558.0   2017-01-01    domingo  00:40:00  GO   60   188   \n",
       "3   3    10.0   2017-01-01    domingo  01:45:00  RS  116  34,9   \n",
       "4   4    10.0   2017-01-01    domingo  01:45:00  RS  116  34,9   \n",
       "\n",
       "                  municipio causa_principal  ... feridos_graves  mortos  \\\n",
       "0                   PALHOCA             Sim  ...              0       0   \n",
       "1  SANTO ANTONIO DA PLATINA             Sim  ...              0       0   \n",
       "2                     GUAPO             Sim  ...              0       0   \n",
       "3                   VACARIA             Sim  ...              0       0   \n",
       "4                   VACARIA             Sim  ...              0       0   \n",
       "\n",
       "       latitude     longitude regional delegacia       uop data_ano  \\\n",
       "0      -27,8101      -48,6357    SR-SC    DEL8/1  UOP02/SC     2017   \n",
       "1  -23,36951985   309,9351311    SR-PR    DEL7/7  UOP07/PR     2017   \n",
       "2  -16,82489647  -49,53520775    SR-GO    DEL1/1  UOP02/GO     2017   \n",
       "3   -28,5071196    -50,941176    SR-RS    DEL9/5  UOP03/RS     2017   \n",
       "4   -28,5071196    -50,941176    SR-RS    DEL9/5  UOP03/RS     2017   \n",
       "\n",
       "  idade_veiculo  Feriado  \n",
       "0            14  Feriado  \n",
       "1             4  Feriado  \n",
       "2            15  Feriado  \n",
       "3            34  Feriado  \n",
       "4            34  Feriado  \n",
       "\n",
       "[5 rows x 40 columns]"
      ]
     },
     "execution_count": 96,
     "metadata": {},
     "output_type": "execute_result"
    }
   ],
   "source": [
    "#Backup dataset com feriados\n",
    "df6 = df5\n",
    "\n",
    "df6.head()"
   ]
  },
  {
   "cell_type": "markdown",
   "metadata": {},
   "source": [
    "### Preparando os dados para receber o dataset de potência "
   ]
  },
  {
   "cell_type": "code",
   "execution_count": 97,
   "metadata": {},
   "outputs": [
    {
     "data": {
      "text/plain": [
       "0    2003\n",
       "1    2013\n",
       "2    2002\n",
       "3    1983\n",
       "4    1983\n",
       "Name: ano_fabricacao_veiculo, dtype: int32"
      ]
     },
     "execution_count": 97,
     "metadata": {},
     "output_type": "execute_result"
    }
   ],
   "source": [
    "#Explorando os dados de ano\n",
    "df6[\"ano_fabricacao_veiculo\"].head()"
   ]
  },
  {
   "cell_type": "code",
   "execution_count": 98,
   "metadata": {},
   "outputs": [
    {
     "data": {
      "text/plain": [
       "0    2003\n",
       "1    2013\n",
       "2    2002\n",
       "3    1983\n",
       "4    1983\n",
       "Name: ano_fabricacao_veiculo, dtype: object"
      ]
     },
     "execution_count": 98,
     "metadata": {},
     "output_type": "execute_result"
    }
   ],
   "source": [
    "#Convertendo em string\n",
    "df6['ano_fabricacao_veiculo'] = df6['ano_fabricacao_veiculo'].astype(str)\n",
    "df6[\"ano_fabricacao_veiculo\"].head()"
   ]
  },
  {
   "cell_type": "code",
   "execution_count": 99,
   "metadata": {},
   "outputs": [
    {
     "data": {
      "text/html": [
       "<div>\n",
       "<style scoped>\n",
       "    .dataframe tbody tr th:only-of-type {\n",
       "        vertical-align: middle;\n",
       "    }\n",
       "\n",
       "    .dataframe tbody tr th {\n",
       "        vertical-align: top;\n",
       "    }\n",
       "\n",
       "    .dataframe thead th {\n",
       "        text-align: right;\n",
       "    }\n",
       "</style>\n",
       "<table border=\"1\" class=\"dataframe\">\n",
       "  <thead>\n",
       "    <tr style=\"text-align: right;\">\n",
       "      <th></th>\n",
       "      <th>id</th>\n",
       "      <th>pesid</th>\n",
       "      <th>data_inversa</th>\n",
       "      <th>dia_semana</th>\n",
       "      <th>horario</th>\n",
       "      <th>uf</th>\n",
       "      <th>br</th>\n",
       "      <th>km</th>\n",
       "      <th>municipio</th>\n",
       "      <th>causa_principal</th>\n",
       "      <th>...</th>\n",
       "      <th>mortos</th>\n",
       "      <th>latitude</th>\n",
       "      <th>longitude</th>\n",
       "      <th>regional</th>\n",
       "      <th>delegacia</th>\n",
       "      <th>uop</th>\n",
       "      <th>data_ano</th>\n",
       "      <th>idade_veiculo</th>\n",
       "      <th>Feriado</th>\n",
       "      <th>marca_ano</th>\n",
       "    </tr>\n",
       "  </thead>\n",
       "  <tbody>\n",
       "    <tr>\n",
       "      <th>0</th>\n",
       "      <td>0</td>\n",
       "      <td>955.0</td>\n",
       "      <td>2017-01-01</td>\n",
       "      <td>domingo</td>\n",
       "      <td>00:01:00</td>\n",
       "      <td>SC</td>\n",
       "      <td>101</td>\n",
       "      <td>234</td>\n",
       "      <td>PALHOCA</td>\n",
       "      <td>Sim</td>\n",
       "      <td>...</td>\n",
       "      <td>0</td>\n",
       "      <td>-27,8101</td>\n",
       "      <td>-48,6357</td>\n",
       "      <td>SR-SC</td>\n",
       "      <td>DEL8/1</td>\n",
       "      <td>UOP02/SC</td>\n",
       "      <td>2017</td>\n",
       "      <td>14</td>\n",
       "      <td>Feriado</td>\n",
       "      <td>FIAT/PALIO WEEKEND EX 2003</td>\n",
       "    </tr>\n",
       "    <tr>\n",
       "      <th>1</th>\n",
       "      <td>1</td>\n",
       "      <td>2.0</td>\n",
       "      <td>2017-01-01</td>\n",
       "      <td>domingo</td>\n",
       "      <td>00:00:00</td>\n",
       "      <td>PR</td>\n",
       "      <td>153</td>\n",
       "      <td>56,9</td>\n",
       "      <td>SANTO ANTONIO DA PLATINA</td>\n",
       "      <td>Sim</td>\n",
       "      <td>...</td>\n",
       "      <td>0</td>\n",
       "      <td>-23,36951985</td>\n",
       "      <td>309,9351311</td>\n",
       "      <td>SR-PR</td>\n",
       "      <td>DEL7/7</td>\n",
       "      <td>UOP07/PR</td>\n",
       "      <td>2017</td>\n",
       "      <td>4</td>\n",
       "      <td>Feriado</td>\n",
       "      <td>VW/NOVO GOL 1.0 2013</td>\n",
       "    </tr>\n",
       "    <tr>\n",
       "      <th>2</th>\n",
       "      <td>2</td>\n",
       "      <td>1558.0</td>\n",
       "      <td>2017-01-01</td>\n",
       "      <td>domingo</td>\n",
       "      <td>00:40:00</td>\n",
       "      <td>GO</td>\n",
       "      <td>60</td>\n",
       "      <td>188</td>\n",
       "      <td>GUAPO</td>\n",
       "      <td>Sim</td>\n",
       "      <td>...</td>\n",
       "      <td>0</td>\n",
       "      <td>-16,82489647</td>\n",
       "      <td>-49,53520775</td>\n",
       "      <td>SR-GO</td>\n",
       "      <td>DEL1/1</td>\n",
       "      <td>UOP02/GO</td>\n",
       "      <td>2017</td>\n",
       "      <td>15</td>\n",
       "      <td>Feriado</td>\n",
       "      <td>RENAULT/CLIO RN 1.0 16V 2002</td>\n",
       "    </tr>\n",
       "    <tr>\n",
       "      <th>3</th>\n",
       "      <td>3</td>\n",
       "      <td>10.0</td>\n",
       "      <td>2017-01-01</td>\n",
       "      <td>domingo</td>\n",
       "      <td>01:45:00</td>\n",
       "      <td>RS</td>\n",
       "      <td>116</td>\n",
       "      <td>34,9</td>\n",
       "      <td>VACARIA</td>\n",
       "      <td>Sim</td>\n",
       "      <td>...</td>\n",
       "      <td>0</td>\n",
       "      <td>-28,5071196</td>\n",
       "      <td>-50,941176</td>\n",
       "      <td>SR-RS</td>\n",
       "      <td>DEL9/5</td>\n",
       "      <td>UOP03/RS</td>\n",
       "      <td>2017</td>\n",
       "      <td>34</td>\n",
       "      <td>Feriado</td>\n",
       "      <td>GM/CHEVETTE 1983</td>\n",
       "    </tr>\n",
       "    <tr>\n",
       "      <th>4</th>\n",
       "      <td>4</td>\n",
       "      <td>10.0</td>\n",
       "      <td>2017-01-01</td>\n",
       "      <td>domingo</td>\n",
       "      <td>01:45:00</td>\n",
       "      <td>RS</td>\n",
       "      <td>116</td>\n",
       "      <td>34,9</td>\n",
       "      <td>VACARIA</td>\n",
       "      <td>Sim</td>\n",
       "      <td>...</td>\n",
       "      <td>0</td>\n",
       "      <td>-28,5071196</td>\n",
       "      <td>-50,941176</td>\n",
       "      <td>SR-RS</td>\n",
       "      <td>DEL9/5</td>\n",
       "      <td>UOP03/RS</td>\n",
       "      <td>2017</td>\n",
       "      <td>34</td>\n",
       "      <td>Feriado</td>\n",
       "      <td>GM/CHEVETTE 1983</td>\n",
       "    </tr>\n",
       "  </tbody>\n",
       "</table>\n",
       "<p>5 rows × 41 columns</p>\n",
       "</div>"
      ],
      "text/plain": [
       "   id   pesid data_inversa dia_semana   horario  uf   br    km  \\\n",
       "0   0   955.0   2017-01-01    domingo  00:01:00  SC  101   234   \n",
       "1   1     2.0   2017-01-01    domingo  00:00:00  PR  153  56,9   \n",
       "2   2  1558.0   2017-01-01    domingo  00:40:00  GO   60   188   \n",
       "3   3    10.0   2017-01-01    domingo  01:45:00  RS  116  34,9   \n",
       "4   4    10.0   2017-01-01    domingo  01:45:00  RS  116  34,9   \n",
       "\n",
       "                  municipio causa_principal  ... mortos      latitude  \\\n",
       "0                   PALHOCA             Sim  ...      0      -27,8101   \n",
       "1  SANTO ANTONIO DA PLATINA             Sim  ...      0  -23,36951985   \n",
       "2                     GUAPO             Sim  ...      0  -16,82489647   \n",
       "3                   VACARIA             Sim  ...      0   -28,5071196   \n",
       "4                   VACARIA             Sim  ...      0   -28,5071196   \n",
       "\n",
       "      longitude regional delegacia       uop data_ano idade_veiculo  Feriado  \\\n",
       "0      -48,6357    SR-SC    DEL8/1  UOP02/SC     2017            14  Feriado   \n",
       "1   309,9351311    SR-PR    DEL7/7  UOP07/PR     2017             4  Feriado   \n",
       "2  -49,53520775    SR-GO    DEL1/1  UOP02/GO     2017            15  Feriado   \n",
       "3    -50,941176    SR-RS    DEL9/5  UOP03/RS     2017            34  Feriado   \n",
       "4    -50,941176    SR-RS    DEL9/5  UOP03/RS     2017            34  Feriado   \n",
       "\n",
       "                      marca_ano  \n",
       "0    FIAT/PALIO WEEKEND EX 2003  \n",
       "1          VW/NOVO GOL 1.0 2013  \n",
       "2  RENAULT/CLIO RN 1.0 16V 2002  \n",
       "3              GM/CHEVETTE 1983  \n",
       "4              GM/CHEVETTE 1983  \n",
       "\n",
       "[5 rows x 41 columns]"
      ]
     },
     "execution_count": 99,
     "metadata": {},
     "output_type": "execute_result"
    }
   ],
   "source": [
    "#Criando nova coluna com as colunas marca e ano de fabricação\n",
    "df6[\"marca_ano\"] = df6[\"marca\"] + \" \" + df6[\"ano_fabricacao_veiculo\"]\n",
    "\n",
    "df6.head()"
   ]
  },
  {
   "cell_type": "markdown",
   "metadata": {},
   "source": [
    "## Processamento do dataset das características dos veículos"
   ]
  },
  {
   "cell_type": "code",
   "execution_count": 100,
   "metadata": {},
   "outputs": [
    {
     "data": {
      "text/html": [
       "<div>\n",
       "<style scoped>\n",
       "    .dataframe tbody tr th:only-of-type {\n",
       "        vertical-align: middle;\n",
       "    }\n",
       "\n",
       "    .dataframe tbody tr th {\n",
       "        vertical-align: top;\n",
       "    }\n",
       "\n",
       "    .dataframe thead th {\n",
       "        text-align: right;\n",
       "    }\n",
       "</style>\n",
       "<table border=\"1\" class=\"dataframe\">\n",
       "  <thead>\n",
       "    <tr style=\"text-align: right;\">\n",
       "      <th></th>\n",
       "      <th>Tipo Veículo,\"Código Marca Modelo Veículo</th>\n",
       "      <th>Marca Modelo</th>\n",
       "      <th>Ano Fabricação Veículo</th>\n",
       "      <th>Combustível Veiculo</th>\n",
       "      <th>Potência Veículo – Frota Atual</th>\n",
       "      <th>Eixos Veículo – Frota Atual</th>\n",
       "      <th>Cilindradas Veículo – Frota Atual</th>\n",
       "      <th>Qtd. Veículos Frota Atual\"\"\"</th>\n",
       "    </tr>\n",
       "  </thead>\n",
       "  <tbody>\n",
       "    <tr>\n",
       "      <th>0</th>\n",
       "      <td>\"AUTOMOVEL,\"\"200605</td>\n",
       "      <td>I/FORD F SERIES F68</td>\n",
       "      <td>2009</td>\n",
       "      <td>ALCOOL/GASOLINA</td>\n",
       "      <td>75</td>\n",
       "      <td>0</td>\n",
       "      <td>1000</td>\n",
       "      <td>1\"\"\"</td>\n",
       "    </tr>\n",
       "    <tr>\n",
       "      <th>1</th>\n",
       "      <td>\"AUTOMOVEL,\"\"114358</td>\n",
       "      <td>A.GUGELMIN/F.PROPRIA BUG</td>\n",
       "      <td>2008</td>\n",
       "      <td>GASOLINA</td>\n",
       "      <td>85</td>\n",
       "      <td>0</td>\n",
       "      <td>0</td>\n",
       "      <td>1\"\"\"</td>\n",
       "    </tr>\n",
       "    <tr>\n",
       "      <th>2</th>\n",
       "      <td>\"AUTOMOVEL,\"\"114396</td>\n",
       "      <td>A.SALVADOR/F.PROPRIA AUT</td>\n",
       "      <td>2014</td>\n",
       "      <td>GASOLINA</td>\n",
       "      <td>86</td>\n",
       "      <td>0</td>\n",
       "      <td>0</td>\n",
       "      <td>1\"\"\"</td>\n",
       "    </tr>\n",
       "    <tr>\n",
       "      <th>3</th>\n",
       "      <td>\"AUTOMOVEL,\"\"132599</td>\n",
       "      <td>ADAMO</td>\n",
       "      <td>1962</td>\n",
       "      <td>GASOLINA</td>\n",
       "      <td>46</td>\n",
       "      <td>0</td>\n",
       "      <td>0</td>\n",
       "      <td>1\"\"\"</td>\n",
       "    </tr>\n",
       "    <tr>\n",
       "      <th>4</th>\n",
       "      <td>\"AUTOMOVEL,\"\"132599</td>\n",
       "      <td>ADAMO</td>\n",
       "      <td>1972</td>\n",
       "      <td>GASOLINA</td>\n",
       "      <td>65</td>\n",
       "      <td>0</td>\n",
       "      <td>4</td>\n",
       "      <td>1\"\"\"</td>\n",
       "    </tr>\n",
       "  </tbody>\n",
       "</table>\n",
       "</div>"
      ],
      "text/plain": [
       "  Tipo Veículo,\"Código Marca Modelo Veículo              Marca Modelo  \\\n",
       "0                       \"AUTOMOVEL,\"\"200605       I/FORD F SERIES F68   \n",
       "1                       \"AUTOMOVEL,\"\"114358  A.GUGELMIN/F.PROPRIA BUG   \n",
       "2                       \"AUTOMOVEL,\"\"114396  A.SALVADOR/F.PROPRIA AUT   \n",
       "3                       \"AUTOMOVEL,\"\"132599                     ADAMO   \n",
       "4                       \"AUTOMOVEL,\"\"132599                     ADAMO   \n",
       "\n",
       "   Ano Fabricação Veículo Combustível Veiculo  Potência Veículo – Frota Atual  \\\n",
       "0                    2009     ALCOOL/GASOLINA                              75   \n",
       "1                    2008            GASOLINA                              85   \n",
       "2                    2014            GASOLINA                              86   \n",
       "3                    1962            GASOLINA                              46   \n",
       "4                    1972            GASOLINA                              65   \n",
       "\n",
       "   Eixos Veículo – Frota Atual  Cilindradas Veículo – Frota Atual  \\\n",
       "0                            0                               1000   \n",
       "1                            0                                  0   \n",
       "2                            0                                  0   \n",
       "3                            0                                  0   \n",
       "4                            0                                  4   \n",
       "\n",
       "  Qtd. Veículos Frota Atual\"\"\"  \n",
       "0                         1\"\"\"  \n",
       "1                         1\"\"\"  \n",
       "2                         1\"\"\"  \n",
       "3                         1\"\"\"  \n",
       "4                         1\"\"\"  "
      ]
     },
     "execution_count": 100,
     "metadata": {},
     "output_type": "execute_result"
    }
   ],
   "source": [
    "#Explorando o dataset\n",
    "dfpot.head()"
   ]
  },
  {
   "cell_type": "code",
   "execution_count": 101,
   "metadata": {},
   "outputs": [
    {
     "name": "stdout",
     "output_type": "stream",
     "text": [
      "<class 'pandas.core.frame.DataFrame'>\n",
      "RangeIndex: 482312 entries, 0 to 482311\n",
      "Data columns (total 8 columns):\n",
      " #   Column                                     Non-Null Count   Dtype \n",
      "---  ------                                     --------------   ----- \n",
      " 0   Tipo Veículo,\"Código Marca Modelo Veículo  482312 non-null  object\n",
      " 1   Marca Modelo                               482312 non-null  object\n",
      " 2   Ano Fabricação Veículo                     482312 non-null  int64 \n",
      " 3   Combustível Veiculo                        482312 non-null  object\n",
      " 4   Potência Veículo – Frota Atual             482312 non-null  int64 \n",
      " 5   Eixos Veículo – Frota Atual                482312 non-null  int64 \n",
      " 6   Cilindradas Veículo – Frota Atual          482312 non-null  int64 \n",
      " 7   Qtd. Veículos Frota Atual\"\"\"               482312 non-null  object\n",
      "dtypes: int64(4), object(4)\n",
      "memory usage: 29.4+ MB\n"
     ]
    }
   ],
   "source": [
    "#Explorando o dataset\n",
    "dfpot.info()"
   ]
  },
  {
   "cell_type": "code",
   "execution_count": 102,
   "metadata": {},
   "outputs": [
    {
     "data": {
      "text/html": [
       "<div>\n",
       "<style scoped>\n",
       "    .dataframe tbody tr th:only-of-type {\n",
       "        vertical-align: middle;\n",
       "    }\n",
       "\n",
       "    .dataframe tbody tr th {\n",
       "        vertical-align: top;\n",
       "    }\n",
       "\n",
       "    .dataframe thead th {\n",
       "        text-align: right;\n",
       "    }\n",
       "</style>\n",
       "<table border=\"1\" class=\"dataframe\">\n",
       "  <thead>\n",
       "    <tr style=\"text-align: right;\">\n",
       "      <th></th>\n",
       "      <th>Marca Modelo</th>\n",
       "      <th>Ano Fabricação Veículo</th>\n",
       "      <th>Potência Veículo – Frota Atual</th>\n",
       "    </tr>\n",
       "  </thead>\n",
       "  <tbody>\n",
       "    <tr>\n",
       "      <th>0</th>\n",
       "      <td>I/FORD F SERIES F68</td>\n",
       "      <td>2009</td>\n",
       "      <td>75</td>\n",
       "    </tr>\n",
       "    <tr>\n",
       "      <th>1</th>\n",
       "      <td>A.GUGELMIN/F.PROPRIA BUG</td>\n",
       "      <td>2008</td>\n",
       "      <td>85</td>\n",
       "    </tr>\n",
       "    <tr>\n",
       "      <th>2</th>\n",
       "      <td>A.SALVADOR/F.PROPRIA AUT</td>\n",
       "      <td>2014</td>\n",
       "      <td>86</td>\n",
       "    </tr>\n",
       "    <tr>\n",
       "      <th>3</th>\n",
       "      <td>ADAMO</td>\n",
       "      <td>1962</td>\n",
       "      <td>46</td>\n",
       "    </tr>\n",
       "    <tr>\n",
       "      <th>4</th>\n",
       "      <td>ADAMO</td>\n",
       "      <td>1972</td>\n",
       "      <td>65</td>\n",
       "    </tr>\n",
       "  </tbody>\n",
       "</table>\n",
       "</div>"
      ],
      "text/plain": [
       "               Marca Modelo  Ano Fabricação Veículo  \\\n",
       "0       I/FORD F SERIES F68                    2009   \n",
       "1  A.GUGELMIN/F.PROPRIA BUG                    2008   \n",
       "2  A.SALVADOR/F.PROPRIA AUT                    2014   \n",
       "3                     ADAMO                    1962   \n",
       "4                     ADAMO                    1972   \n",
       "\n",
       "   Potência Veículo – Frota Atual  \n",
       "0                              75  \n",
       "1                              85  \n",
       "2                              86  \n",
       "3                              46  \n",
       "4                              65  "
      ]
     },
     "execution_count": 102,
     "metadata": {},
     "output_type": "execute_result"
    }
   ],
   "source": [
    "#Novo dataframe selecionando colunas que serão utilizadas\n",
    "dfpot2 = dfpot.iloc[:,[1,2, 4]]\n",
    "\n",
    "dfpot2.head()"
   ]
  },
  {
   "cell_type": "code",
   "execution_count": 103,
   "metadata": {},
   "outputs": [],
   "source": [
    "#Renomeando as colunas conforme o dataset de acidentes\n",
    "dfpot2 = dfpot2.rename(columns={'Marca Modelo': 'marca',\n",
    "                                'Ano Fabricação Veículo': 'ano_fabricacao_veiculo',\n",
    "                                'Potência Veículo – Frota Atual': 'potencia',})"
   ]
  },
  {
   "cell_type": "code",
   "execution_count": 104,
   "metadata": {},
   "outputs": [
    {
     "name": "stdout",
     "output_type": "stream",
     "text": [
      "<class 'pandas.core.frame.DataFrame'>\n",
      "RangeIndex: 482312 entries, 0 to 482311\n",
      "Data columns (total 3 columns):\n",
      " #   Column                  Non-Null Count   Dtype \n",
      "---  ------                  --------------   ----- \n",
      " 0   marca                   482312 non-null  object\n",
      " 1   ano_fabricacao_veiculo  482312 non-null  int64 \n",
      " 2   potencia                482312 non-null  int64 \n",
      "dtypes: int64(2), object(1)\n",
      "memory usage: 11.0+ MB\n"
     ]
    }
   ],
   "source": [
    "#Explorando o dataset\n",
    "dfpot2.info()"
   ]
  },
  {
   "cell_type": "code",
   "execution_count": 105,
   "metadata": {},
   "outputs": [
    {
     "name": "stdout",
     "output_type": "stream",
     "text": [
      "<class 'pandas.core.frame.DataFrame'>\n",
      "Int64Index: 482312 entries, 0 to 482311\n",
      "Data columns (total 3 columns):\n",
      " #   Column                  Non-Null Count   Dtype \n",
      "---  ------                  --------------   ----- \n",
      " 0   marca                   482312 non-null  object\n",
      " 1   ano_fabricacao_veiculo  482312 non-null  int64 \n",
      " 2   potencia                482312 non-null  int64 \n",
      "dtypes: int64(2), object(1)\n",
      "memory usage: 14.7+ MB\n"
     ]
    }
   ],
   "source": [
    "#Removendo valores ausentes\n",
    "dfpot2 = dfpot2.dropna()\n",
    "\n",
    "dfpot2.info()"
   ]
  },
  {
   "cell_type": "code",
   "execution_count": 106,
   "metadata": {},
   "outputs": [
    {
     "name": "stdout",
     "output_type": "stream",
     "text": [
      "<class 'pandas.core.frame.DataFrame'>\n",
      "Int64Index: 238480 entries, 0 to 482311\n",
      "Data columns (total 3 columns):\n",
      " #   Column                  Non-Null Count   Dtype \n",
      "---  ------                  --------------   ----- \n",
      " 0   marca                   238480 non-null  object\n",
      " 1   ano_fabricacao_veiculo  238480 non-null  int64 \n",
      " 2   potencia                238480 non-null  int64 \n",
      "dtypes: int64(2), object(1)\n",
      "memory usage: 7.3+ MB\n"
     ]
    }
   ],
   "source": [
    "#Removendo valores duplicados\n",
    "dfpot2 = dfpot2.drop_duplicates()\n",
    "\n",
    "dfpot2.info()"
   ]
  },
  {
   "cell_type": "code",
   "execution_count": 107,
   "metadata": {},
   "outputs": [
    {
     "data": {
      "text/html": [
       "<div>\n",
       "<style scoped>\n",
       "    .dataframe tbody tr th:only-of-type {\n",
       "        vertical-align: middle;\n",
       "    }\n",
       "\n",
       "    .dataframe tbody tr th {\n",
       "        vertical-align: top;\n",
       "    }\n",
       "\n",
       "    .dataframe thead th {\n",
       "        text-align: right;\n",
       "    }\n",
       "</style>\n",
       "<table border=\"1\" class=\"dataframe\">\n",
       "  <thead>\n",
       "    <tr style=\"text-align: right;\">\n",
       "      <th></th>\n",
       "      <th>ano_fabricacao_veiculo</th>\n",
       "      <th>potencia</th>\n",
       "    </tr>\n",
       "  </thead>\n",
       "  <tbody>\n",
       "    <tr>\n",
       "      <th>count</th>\n",
       "      <td>238480.000000</td>\n",
       "      <td>238480.000000</td>\n",
       "    </tr>\n",
       "    <tr>\n",
       "      <th>mean</th>\n",
       "      <td>1986.971629</td>\n",
       "      <td>114.493215</td>\n",
       "    </tr>\n",
       "    <tr>\n",
       "      <th>std</th>\n",
       "      <td>14.491442</td>\n",
       "      <td>121.608401</td>\n",
       "    </tr>\n",
       "    <tr>\n",
       "      <th>min</th>\n",
       "      <td>1900.000000</td>\n",
       "      <td>1.000000</td>\n",
       "    </tr>\n",
       "    <tr>\n",
       "      <th>25%</th>\n",
       "      <td>1979.000000</td>\n",
       "      <td>65.000000</td>\n",
       "    </tr>\n",
       "    <tr>\n",
       "      <th>50%</th>\n",
       "      <td>1988.000000</td>\n",
       "      <td>86.000000</td>\n",
       "    </tr>\n",
       "    <tr>\n",
       "      <th>75%</th>\n",
       "      <td>1995.000000</td>\n",
       "      <td>118.000000</td>\n",
       "    </tr>\n",
       "    <tr>\n",
       "      <th>max</th>\n",
       "      <td>2020.000000</td>\n",
       "      <td>999.000000</td>\n",
       "    </tr>\n",
       "  </tbody>\n",
       "</table>\n",
       "</div>"
      ],
      "text/plain": [
       "       ano_fabricacao_veiculo       potencia\n",
       "count           238480.000000  238480.000000\n",
       "mean              1986.971629     114.493215\n",
       "std                 14.491442     121.608401\n",
       "min               1900.000000       1.000000\n",
       "25%               1979.000000      65.000000\n",
       "50%               1988.000000      86.000000\n",
       "75%               1995.000000     118.000000\n",
       "max               2020.000000     999.000000"
      ]
     },
     "execution_count": 107,
     "metadata": {},
     "output_type": "execute_result"
    }
   ],
   "source": [
    "#Estatísticas do dataset\n",
    "dfpot2.describe()"
   ]
  },
  {
   "cell_type": "markdown",
   "metadata": {},
   "source": [
    "### Explorando a Potência"
   ]
  },
  {
   "cell_type": "code",
   "execution_count": 108,
   "metadata": {},
   "outputs": [
    {
     "data": {
      "image/png": "[encoded data removed]",
      "text/plain": [
       "<Figure size 576x432 with 1 Axes>"
      ]
     },
     "metadata": {
      "needs_background": "light"
     },
     "output_type": "display_data"
    }
   ],
   "source": [
    "#Histograma da potência\n",
    "cv = dfpot2['potencia']\n",
    "\n",
    "fig = plt.figure(figsize=(8,6)) #Tamanho\n",
    "plt.hist(cv, bins = 20, ec = \"k\", alpha = .6, color = '#df2020')\n",
    "plt.xlabel(\"Potência (cv)\",fontsize=10)\n",
    "plt.title('Histograma da Potência',fontsize=15)\n",
    "plt.xticks(fontsize=10,rotation=13)\n",
    "plt.savefig('hist_pot.svg', format='svg')\n"
   ]
  },
  {
   "cell_type": "code",
   "execution_count": 109,
   "metadata": {},
   "outputs": [
    {
     "data": {
      "image/png": "[encoded data removed]",
      "text/plain": [
       "<Figure size 576x432 with 1 Axes>"
      ]
     },
     "metadata": {
      "needs_background": "light"
     },
     "output_type": "display_data"
    }
   ],
   "source": [
    "#Boxplot da potência\n",
    "cores = sns.light_palette(\"red\",30,reverse=True) #Cor\n",
    "fig = plt.figure(figsize=(8,6)) #Tamanho\n",
    "sns.boxplot(y=cv, palette=cores)\n",
    "plt.xlabel(\"Potência (cv)\",fontsize=10)\n",
    "plt.ylabel('Boxplot',fontsize=10)\n",
    "plt.title('Boxplot da Potência',fontsize=15)\n",
    "plt.xticks(fontsize=10,rotation=13)\n",
    "plt.savefig('boxplot_pot.svg', format='svg')\n"
   ]
  },
  {
   "cell_type": "code",
   "execution_count": 110,
   "metadata": {},
   "outputs": [
    {
     "data": {
      "text/plain": [
       "count    182468.000000\n",
       "mean        106.596291\n",
       "std          44.627240\n",
       "min          60.000000\n",
       "25%          76.000000\n",
       "50%          92.000000\n",
       "75%         120.000000\n",
       "max         300.000000\n",
       "Name: potencia, dtype: float64"
      ]
     },
     "execution_count": 110,
     "metadata": {},
     "output_type": "execute_result"
    }
   ],
   "source": [
    "#Selecionando potências entre 60 a 300 cv\n",
    "dfpot2 = dfpot2.loc[(dfpot2['potencia'] >=60) & (dfpot2['potencia'] <=300)]\n",
    "\n",
    "dfpot2['potencia'].describe()"
   ]
  },
  {
   "cell_type": "code",
   "execution_count": 111,
   "metadata": {},
   "outputs": [
    {
     "data": {
      "image/png": "[encoded data removed]",
      "text/plain": [
       "<Figure size 576x432 with 1 Axes>"
      ]
     },
     "metadata": {
      "needs_background": "light"
     },
     "output_type": "display_data"
    }
   ],
   "source": [
    "#Boxplot da potência\n",
    "cv = dfpot2['potencia']\n",
    "\n",
    "cores = sns.light_palette(\"red\",30,reverse=True) #Cor\n",
    "fig = plt.figure(figsize=(8,6)) #Tamanho\n",
    "sns.boxplot(y=cv, palette=cores)\n",
    "plt.xlabel(\"Potência (cv)\",fontsize=10)\n",
    "plt.ylabel('Boxplot',fontsize=10)\n",
    "plt.title('Boxplot da Potência entre 60 a 300 cv',fontsize=15)\n",
    "plt.xticks(fontsize=10,rotation=13)\n",
    "plt.savefig('boxplot_pot2.svg', format='svg')"
   ]
  },
  {
   "cell_type": "code",
   "execution_count": 112,
   "metadata": {},
   "outputs": [
    {
     "data": {
      "text/html": [
       "<div>\n",
       "<style scoped>\n",
       "    .dataframe tbody tr th:only-of-type {\n",
       "        vertical-align: middle;\n",
       "    }\n",
       "\n",
       "    .dataframe tbody tr th {\n",
       "        vertical-align: top;\n",
       "    }\n",
       "\n",
       "    .dataframe thead th {\n",
       "        text-align: right;\n",
       "    }\n",
       "</style>\n",
       "<table border=\"1\" class=\"dataframe\">\n",
       "  <thead>\n",
       "    <tr style=\"text-align: right;\">\n",
       "      <th></th>\n",
       "      <th>marca</th>\n",
       "      <th>ano_fabricacao_veiculo</th>\n",
       "      <th>potencia</th>\n",
       "    </tr>\n",
       "  </thead>\n",
       "  <tbody>\n",
       "    <tr>\n",
       "      <th>0</th>\n",
       "      <td>I/FORD F SERIES F68</td>\n",
       "      <td>2009</td>\n",
       "      <td>75</td>\n",
       "    </tr>\n",
       "    <tr>\n",
       "      <th>1</th>\n",
       "      <td>A.GUGELMIN/F.PROPRIA BUG</td>\n",
       "      <td>2008</td>\n",
       "      <td>85</td>\n",
       "    </tr>\n",
       "    <tr>\n",
       "      <th>2</th>\n",
       "      <td>A.SALVADOR/F.PROPRIA AUT</td>\n",
       "      <td>2014</td>\n",
       "      <td>86</td>\n",
       "    </tr>\n",
       "    <tr>\n",
       "      <th>4</th>\n",
       "      <td>ADAMO</td>\n",
       "      <td>1972</td>\n",
       "      <td>65</td>\n",
       "    </tr>\n",
       "    <tr>\n",
       "      <th>6</th>\n",
       "      <td>ADAMO</td>\n",
       "      <td>1975</td>\n",
       "      <td>69</td>\n",
       "    </tr>\n",
       "  </tbody>\n",
       "</table>\n",
       "</div>"
      ],
      "text/plain": [
       "                      marca  ano_fabricacao_veiculo  potencia\n",
       "0       I/FORD F SERIES F68                    2009        75\n",
       "1  A.GUGELMIN/F.PROPRIA BUG                    2008        85\n",
       "2  A.SALVADOR/F.PROPRIA AUT                    2014        86\n",
       "4                     ADAMO                    1972        65\n",
       "6                     ADAMO                    1975        69"
      ]
     },
     "execution_count": 112,
     "metadata": {},
     "output_type": "execute_result"
    }
   ],
   "source": [
    "#Backup dataset com seleção de potência\n",
    "\n",
    "dfpot3 = dfpot2\n",
    "\n",
    "dfpot3.head()"
   ]
  },
  {
   "cell_type": "markdown",
   "metadata": {},
   "source": [
    "### Preparando dados para concatenação com dataset de acidentes"
   ]
  },
  {
   "cell_type": "code",
   "execution_count": 113,
   "metadata": {},
   "outputs": [
    {
     "data": {
      "text/plain": [
       "0    2009\n",
       "1    2008\n",
       "2    2014\n",
       "4    1972\n",
       "6    1975\n",
       "Name: ano_fabricacao_veiculo, dtype: int64"
      ]
     },
     "execution_count": 113,
     "metadata": {},
     "output_type": "execute_result"
    }
   ],
   "source": [
    "#Explorando os dados de ano\n",
    "dfpot3[\"ano_fabricacao_veiculo\"].head()"
   ]
  },
  {
   "cell_type": "code",
   "execution_count": 114,
   "metadata": {},
   "outputs": [
    {
     "data": {
      "text/plain": [
       "0    2009\n",
       "1    2008\n",
       "2    2014\n",
       "4    1972\n",
       "6    1975\n",
       "Name: ano_fabricacao_veiculo, dtype: object"
      ]
     },
     "execution_count": 114,
     "metadata": {},
     "output_type": "execute_result"
    }
   ],
   "source": [
    "#Convertendo em string\n",
    "dfpot3['ano_fabricacao_veiculo'] = dfpot3['ano_fabricacao_veiculo'].astype(str)\n",
    "dfpot3[\"ano_fabricacao_veiculo\"].head()"
   ]
  },
  {
   "cell_type": "code",
   "execution_count": 115,
   "metadata": {},
   "outputs": [
    {
     "data": {
      "text/html": [
       "<div>\n",
       "<style scoped>\n",
       "    .dataframe tbody tr th:only-of-type {\n",
       "        vertical-align: middle;\n",
       "    }\n",
       "\n",
       "    .dataframe tbody tr th {\n",
       "        vertical-align: top;\n",
       "    }\n",
       "\n",
       "    .dataframe thead th {\n",
       "        text-align: right;\n",
       "    }\n",
       "</style>\n",
       "<table border=\"1\" class=\"dataframe\">\n",
       "  <thead>\n",
       "    <tr style=\"text-align: right;\">\n",
       "      <th></th>\n",
       "      <th>marca</th>\n",
       "      <th>ano_fabricacao_veiculo</th>\n",
       "      <th>potencia</th>\n",
       "      <th>marca_ano</th>\n",
       "    </tr>\n",
       "  </thead>\n",
       "  <tbody>\n",
       "    <tr>\n",
       "      <th>0</th>\n",
       "      <td>I/FORD F SERIES F68</td>\n",
       "      <td>2009</td>\n",
       "      <td>75</td>\n",
       "      <td>I/FORD F SERIES F68 2009</td>\n",
       "    </tr>\n",
       "    <tr>\n",
       "      <th>1</th>\n",
       "      <td>A.GUGELMIN/F.PROPRIA BUG</td>\n",
       "      <td>2008</td>\n",
       "      <td>85</td>\n",
       "      <td>A.GUGELMIN/F.PROPRIA BUG 2008</td>\n",
       "    </tr>\n",
       "    <tr>\n",
       "      <th>2</th>\n",
       "      <td>A.SALVADOR/F.PROPRIA AUT</td>\n",
       "      <td>2014</td>\n",
       "      <td>86</td>\n",
       "      <td>A.SALVADOR/F.PROPRIA AUT 2014</td>\n",
       "    </tr>\n",
       "    <tr>\n",
       "      <th>4</th>\n",
       "      <td>ADAMO</td>\n",
       "      <td>1972</td>\n",
       "      <td>65</td>\n",
       "      <td>ADAMO 1972</td>\n",
       "    </tr>\n",
       "    <tr>\n",
       "      <th>6</th>\n",
       "      <td>ADAMO</td>\n",
       "      <td>1975</td>\n",
       "      <td>69</td>\n",
       "      <td>ADAMO 1975</td>\n",
       "    </tr>\n",
       "  </tbody>\n",
       "</table>\n",
       "</div>"
      ],
      "text/plain": [
       "                      marca ano_fabricacao_veiculo  potencia  \\\n",
       "0       I/FORD F SERIES F68                   2009        75   \n",
       "1  A.GUGELMIN/F.PROPRIA BUG                   2008        85   \n",
       "2  A.SALVADOR/F.PROPRIA AUT                   2014        86   \n",
       "4                     ADAMO                   1972        65   \n",
       "6                     ADAMO                   1975        69   \n",
       "\n",
       "                       marca_ano  \n",
       "0       I/FORD F SERIES F68 2009  \n",
       "1  A.GUGELMIN/F.PROPRIA BUG 2008  \n",
       "2  A.SALVADOR/F.PROPRIA AUT 2014  \n",
       "4                     ADAMO 1972  \n",
       "6                     ADAMO 1975  "
      ]
     },
     "execution_count": 115,
     "metadata": {},
     "output_type": "execute_result"
    }
   ],
   "source": [
    "#Criando nova coluna com as colunas marca e ano de fabricação\n",
    "dfpot3[\"marca_ano\"] = dfpot3[\"marca\"] + \" \" + dfpot3[\"ano_fabricacao_veiculo\"]\n",
    "\n",
    "dfpot3.head()"
   ]
  },
  {
   "cell_type": "code",
   "execution_count": 116,
   "metadata": {},
   "outputs": [
    {
     "data": {
      "text/html": [
       "<div>\n",
       "<style scoped>\n",
       "    .dataframe tbody tr th:only-of-type {\n",
       "        vertical-align: middle;\n",
       "    }\n",
       "\n",
       "    .dataframe tbody tr th {\n",
       "        vertical-align: top;\n",
       "    }\n",
       "\n",
       "    .dataframe thead th {\n",
       "        text-align: right;\n",
       "    }\n",
       "</style>\n",
       "<table border=\"1\" class=\"dataframe\">\n",
       "  <thead>\n",
       "    <tr style=\"text-align: right;\">\n",
       "      <th></th>\n",
       "      <th>marca_ano</th>\n",
       "      <th>potencia</th>\n",
       "    </tr>\n",
       "  </thead>\n",
       "  <tbody>\n",
       "    <tr>\n",
       "      <th>0</th>\n",
       "      <td>I/FORD F SERIES F68 2009</td>\n",
       "      <td>75</td>\n",
       "    </tr>\n",
       "    <tr>\n",
       "      <th>1</th>\n",
       "      <td>A.GUGELMIN/F.PROPRIA BUG 2008</td>\n",
       "      <td>85</td>\n",
       "    </tr>\n",
       "    <tr>\n",
       "      <th>2</th>\n",
       "      <td>A.SALVADOR/F.PROPRIA AUT 2014</td>\n",
       "      <td>86</td>\n",
       "    </tr>\n",
       "    <tr>\n",
       "      <th>4</th>\n",
       "      <td>ADAMO 1972</td>\n",
       "      <td>65</td>\n",
       "    </tr>\n",
       "    <tr>\n",
       "      <th>6</th>\n",
       "      <td>ADAMO 1975</td>\n",
       "      <td>69</td>\n",
       "    </tr>\n",
       "  </tbody>\n",
       "</table>\n",
       "</div>"
      ],
      "text/plain": [
       "                       marca_ano  potencia\n",
       "0       I/FORD F SERIES F68 2009        75\n",
       "1  A.GUGELMIN/F.PROPRIA BUG 2008        85\n",
       "2  A.SALVADOR/F.PROPRIA AUT 2014        86\n",
       "4                     ADAMO 1972        65\n",
       "6                     ADAMO 1975        69"
      ]
     },
     "execution_count": 116,
     "metadata": {},
     "output_type": "execute_result"
    }
   ],
   "source": [
    "#Novo dataset com as colunas que serão concatenadas\n",
    "dfpot4 = dfpot3.iloc[:,[3,2]]\n",
    "\n",
    "dfpot4.head()"
   ]
  },
  {
   "cell_type": "code",
   "execution_count": 117,
   "metadata": {},
   "outputs": [
    {
     "data": {
      "text/plain": [
       "IMP/BMW 1993                     109\n",
       "GM/OPALA DIPLOMATA SE 1989       102\n",
       "IMP/BMW 1992                     101\n",
       "GM/OPALA 1979                    100\n",
       "FORD/GALAXIE LANDAU 1980          99\n",
       "                                ... \n",
       "VW/ARKS 1985                       1\n",
       "VW/VIRTUS AF 2018                  1\n",
       "M.BENZ/LK 1317 1986                1\n",
       "VW/BRM BUGGY 1959                  1\n",
       "I/NISSAN TIIDA SEDAN 18F 2012      1\n",
       "Name: marca_ano, Length: 32871, dtype: int64"
      ]
     },
     "execution_count": 117,
     "metadata": {},
     "output_type": "execute_result"
    }
   ],
   "source": [
    "#Explorando dataset\n",
    "dfpot4['marca_ano'].value_counts()"
   ]
  },
  {
   "cell_type": "code",
   "execution_count": 118,
   "metadata": {},
   "outputs": [
    {
     "name": "stdout",
     "output_type": "stream",
     "text": [
      "<class 'pandas.core.frame.DataFrame'>\n",
      "Int64Index: 182468 entries, 0 to 482311\n",
      "Data columns (total 2 columns):\n",
      " #   Column     Non-Null Count   Dtype \n",
      "---  ------     --------------   ----- \n",
      " 0   marca_ano  182468 non-null  object\n",
      " 1   potencia   182468 non-null  int64 \n",
      "dtypes: int64(1), object(1)\n",
      "memory usage: 4.2+ MB\n"
     ]
    }
   ],
   "source": [
    "#Explorando dataset\n",
    "dfpot4.info()"
   ]
  },
  {
   "cell_type": "code",
   "execution_count": 119,
   "metadata": {},
   "outputs": [
    {
     "name": "stdout",
     "output_type": "stream",
     "text": [
      "<class 'pandas.core.frame.DataFrame'>\n",
      "Int64Index: 182468 entries, 0 to 482311\n",
      "Data columns (total 2 columns):\n",
      " #   Column     Non-Null Count   Dtype \n",
      "---  ------     --------------   ----- \n",
      " 0   marca_ano  182468 non-null  object\n",
      " 1   potencia   182468 non-null  int64 \n",
      "dtypes: int64(1), object(1)\n",
      "memory usage: 4.2+ MB\n"
     ]
    }
   ],
   "source": [
    "#Removendo duplicados\n",
    "dfpot4 = dfpot4.drop_duplicates()\n",
    "\n",
    "dfpot4.info()"
   ]
  },
  {
   "cell_type": "code",
   "execution_count": 120,
   "metadata": {},
   "outputs": [
    {
     "data": {
      "text/html": [
       "<div>\n",
       "<style scoped>\n",
       "    .dataframe tbody tr th:only-of-type {\n",
       "        vertical-align: middle;\n",
       "    }\n",
       "\n",
       "    .dataframe tbody tr th {\n",
       "        vertical-align: top;\n",
       "    }\n",
       "\n",
       "    .dataframe thead th {\n",
       "        text-align: right;\n",
       "    }\n",
       "</style>\n",
       "<table border=\"1\" class=\"dataframe\">\n",
       "  <thead>\n",
       "    <tr style=\"text-align: right;\">\n",
       "      <th></th>\n",
       "      <th>potencia</th>\n",
       "    </tr>\n",
       "    <tr>\n",
       "      <th>marca_ano</th>\n",
       "      <th></th>\n",
       "    </tr>\n",
       "  </thead>\n",
       "  <tbody>\n",
       "    <tr>\n",
       "      <th>A.GUGELMIN/F.PROPRIA BUG 2008</th>\n",
       "      <td>85.0</td>\n",
       "    </tr>\n",
       "    <tr>\n",
       "      <th>A.SALVADOR/F.PROPRIA AUT 2014</th>\n",
       "      <td>86.0</td>\n",
       "    </tr>\n",
       "    <tr>\n",
       "      <th>ADAMO 1972</th>\n",
       "      <td>65.0</td>\n",
       "    </tr>\n",
       "    <tr>\n",
       "      <th>ADAMO 1975</th>\n",
       "      <td>69.0</td>\n",
       "    </tr>\n",
       "    <tr>\n",
       "      <th>ADAMO 1976</th>\n",
       "      <td>65.0</td>\n",
       "    </tr>\n",
       "  </tbody>\n",
       "</table>\n",
       "</div>"
      ],
      "text/plain": [
       "                               potencia\n",
       "marca_ano                              \n",
       "A.GUGELMIN/F.PROPRIA BUG 2008      85.0\n",
       "A.SALVADOR/F.PROPRIA AUT 2014      86.0\n",
       "ADAMO 1972                         65.0\n",
       "ADAMO 1975                         69.0\n",
       "ADAMO 1976                         65.0"
      ]
     },
     "execution_count": 120,
     "metadata": {},
     "output_type": "execute_result"
    }
   ],
   "source": [
    "#Novo dataset agrupado pela média de potência\n",
    "dfpot5 = dfpot4.groupby(['marca_ano']).mean()\n",
    "dfpot5.head()"
   ]
  },
  {
   "cell_type": "code",
   "execution_count": 121,
   "metadata": {},
   "outputs": [
    {
     "data": {
      "text/html": [
       "<div>\n",
       "<style scoped>\n",
       "    .dataframe tbody tr th:only-of-type {\n",
       "        vertical-align: middle;\n",
       "    }\n",
       "\n",
       "    .dataframe tbody tr th {\n",
       "        vertical-align: top;\n",
       "    }\n",
       "\n",
       "    .dataframe thead th {\n",
       "        text-align: right;\n",
       "    }\n",
       "</style>\n",
       "<table border=\"1\" class=\"dataframe\">\n",
       "  <thead>\n",
       "    <tr style=\"text-align: right;\">\n",
       "      <th></th>\n",
       "      <th>marca_ano</th>\n",
       "      <th>potencia</th>\n",
       "    </tr>\n",
       "  </thead>\n",
       "  <tbody>\n",
       "    <tr>\n",
       "      <th>0</th>\n",
       "      <td>A.GUGELMIN/F.PROPRIA BUG 2008</td>\n",
       "      <td>85.0</td>\n",
       "    </tr>\n",
       "    <tr>\n",
       "      <th>1</th>\n",
       "      <td>A.SALVADOR/F.PROPRIA AUT 2014</td>\n",
       "      <td>86.0</td>\n",
       "    </tr>\n",
       "    <tr>\n",
       "      <th>2</th>\n",
       "      <td>ADAMO 1972</td>\n",
       "      <td>65.0</td>\n",
       "    </tr>\n",
       "    <tr>\n",
       "      <th>3</th>\n",
       "      <td>ADAMO 1975</td>\n",
       "      <td>69.0</td>\n",
       "    </tr>\n",
       "    <tr>\n",
       "      <th>4</th>\n",
       "      <td>ADAMO 1976</td>\n",
       "      <td>65.0</td>\n",
       "    </tr>\n",
       "  </tbody>\n",
       "</table>\n",
       "</div>"
      ],
      "text/plain": [
       "                       marca_ano  potencia\n",
       "0  A.GUGELMIN/F.PROPRIA BUG 2008      85.0\n",
       "1  A.SALVADOR/F.PROPRIA AUT 2014      86.0\n",
       "2                     ADAMO 1972      65.0\n",
       "3                     ADAMO 1975      69.0\n",
       "4                     ADAMO 1976      65.0"
      ]
     },
     "execution_count": 121,
     "metadata": {},
     "output_type": "execute_result"
    }
   ],
   "source": [
    "#Resetando indice\n",
    "dfpot5= dfpot5.reset_index()\n",
    "dfpot5.head()"
   ]
  },
  {
   "cell_type": "markdown",
   "metadata": {},
   "source": [
    "## Concatenação dos datasets de acidentes e características dos veículos "
   ]
  },
  {
   "cell_type": "code",
   "execution_count": 122,
   "metadata": {},
   "outputs": [],
   "source": [
    "#Backups\n",
    "df_aci = df6\n",
    "df_pot = dfpot5"
   ]
  },
  {
   "cell_type": "code",
   "execution_count": 123,
   "metadata": {},
   "outputs": [
    {
     "name": "stdout",
     "output_type": "stream",
     "text": [
      "<class 'pandas.core.frame.DataFrame'>\n",
      "RangeIndex: 171490 entries, 0 to 171489\n",
      "Data columns (total 41 columns):\n",
      " #   Column                  Non-Null Count   Dtype         \n",
      "---  ------                  --------------   -----         \n",
      " 0   id                      171490 non-null  int32         \n",
      " 1   pesid                   171490 non-null  float64       \n",
      " 2   data_inversa            171490 non-null  datetime64[ns]\n",
      " 3   dia_semana              171490 non-null  object        \n",
      " 4   horario                 171490 non-null  object        \n",
      " 5   uf                      171490 non-null  object        \n",
      " 6   br                      171490 non-null  int32         \n",
      " 7   km                      171490 non-null  object        \n",
      " 8   municipio               171490 non-null  object        \n",
      " 9   causa_principal         171490 non-null  object        \n",
      " 10  causa_acidente          171490 non-null  object        \n",
      " 11  ordem_tipo_acidente     171490 non-null  float64       \n",
      " 12  tipo_acidente           171490 non-null  object        \n",
      " 13  classificacao_acidente  171490 non-null  object        \n",
      " 14  fase_dia                171490 non-null  object        \n",
      " 15  sentido_via             171490 non-null  object        \n",
      " 16  condicao_metereologica  171490 non-null  object        \n",
      " 17  tipo_pista              171490 non-null  object        \n",
      " 18  tracado_via             171490 non-null  object        \n",
      " 19  uso_solo                171490 non-null  object        \n",
      " 20  id_veiculo              171490 non-null  float64       \n",
      " 21  tipo_veiculo            171490 non-null  object        \n",
      " 22  marca                   171490 non-null  object        \n",
      " 23  ano_fabricacao_veiculo  171490 non-null  object        \n",
      " 24  tipo_envolvido          171490 non-null  object        \n",
      " 25  estado_fisico           171490 non-null  object        \n",
      " 26  idade                   171490 non-null  float64       \n",
      " 27  sexo                    171490 non-null  object        \n",
      " 28  ilesos                  171490 non-null  int64         \n",
      " 29  feridos_leves           171490 non-null  int64         \n",
      " 30  feridos_graves          171490 non-null  int64         \n",
      " 31  mortos                  171490 non-null  int64         \n",
      " 32  latitude                171490 non-null  object        \n",
      " 33  longitude               171490 non-null  object        \n",
      " 34  regional                171490 non-null  object        \n",
      " 35  delegacia               171490 non-null  object        \n",
      " 36  uop                     171490 non-null  object        \n",
      " 37  data_ano                171490 non-null  int64         \n",
      " 38  idade_veiculo           171490 non-null  int64         \n",
      " 39  Feriado                 171490 non-null  object        \n",
      " 40  marca_ano               171490 non-null  object        \n",
      "dtypes: datetime64[ns](1), float64(4), int32(2), int64(6), object(28)\n",
      "memory usage: 52.3+ MB\n"
     ]
    }
   ],
   "source": [
    "#Explorando dataset acidentes\n",
    "df_aci.info()"
   ]
  },
  {
   "cell_type": "code",
   "execution_count": 124,
   "metadata": {},
   "outputs": [
    {
     "name": "stdout",
     "output_type": "stream",
     "text": [
      "<class 'pandas.core.frame.DataFrame'>\n",
      "RangeIndex: 32871 entries, 0 to 32870\n",
      "Data columns (total 2 columns):\n",
      " #   Column     Non-Null Count  Dtype  \n",
      "---  ------     --------------  -----  \n",
      " 0   marca_ano  32871 non-null  object \n",
      " 1   potencia   32871 non-null  float64\n",
      "dtypes: float64(1), object(1)\n",
      "memory usage: 513.7+ KB\n"
     ]
    }
   ],
   "source": [
    "#Explorando dataset potência\n",
    "df_pot.info()"
   ]
  },
  {
   "cell_type": "code",
   "execution_count": 125,
   "metadata": {},
   "outputs": [
    {
     "data": {
      "text/html": [
       "<div>\n",
       "<style scoped>\n",
       "    .dataframe tbody tr th:only-of-type {\n",
       "        vertical-align: middle;\n",
       "    }\n",
       "\n",
       "    .dataframe tbody tr th {\n",
       "        vertical-align: top;\n",
       "    }\n",
       "\n",
       "    .dataframe thead th {\n",
       "        text-align: right;\n",
       "    }\n",
       "</style>\n",
       "<table border=\"1\" class=\"dataframe\">\n",
       "  <thead>\n",
       "    <tr style=\"text-align: right;\">\n",
       "      <th></th>\n",
       "      <th>id</th>\n",
       "      <th>pesid</th>\n",
       "      <th>data_inversa</th>\n",
       "      <th>dia_semana</th>\n",
       "      <th>horario</th>\n",
       "      <th>uf</th>\n",
       "      <th>br</th>\n",
       "      <th>km</th>\n",
       "      <th>municipio</th>\n",
       "      <th>causa_principal</th>\n",
       "      <th>...</th>\n",
       "      <th>latitude</th>\n",
       "      <th>longitude</th>\n",
       "      <th>regional</th>\n",
       "      <th>delegacia</th>\n",
       "      <th>uop</th>\n",
       "      <th>data_ano</th>\n",
       "      <th>idade_veiculo</th>\n",
       "      <th>Feriado</th>\n",
       "      <th>marca_ano</th>\n",
       "      <th>potencia</th>\n",
       "    </tr>\n",
       "  </thead>\n",
       "  <tbody>\n",
       "    <tr>\n",
       "      <th>0</th>\n",
       "      <td>0</td>\n",
       "      <td>955.0</td>\n",
       "      <td>2017-01-01</td>\n",
       "      <td>domingo</td>\n",
       "      <td>00:01:00</td>\n",
       "      <td>SC</td>\n",
       "      <td>101</td>\n",
       "      <td>234</td>\n",
       "      <td>PALHOCA</td>\n",
       "      <td>Sim</td>\n",
       "      <td>...</td>\n",
       "      <td>-27,8101</td>\n",
       "      <td>-48,6357</td>\n",
       "      <td>SR-SC</td>\n",
       "      <td>DEL8/1</td>\n",
       "      <td>UOP02/SC</td>\n",
       "      <td>2017</td>\n",
       "      <td>14</td>\n",
       "      <td>Feriado</td>\n",
       "      <td>FIAT/PALIO WEEKEND EX 2003</td>\n",
       "      <td>83.071429</td>\n",
       "    </tr>\n",
       "    <tr>\n",
       "      <th>1</th>\n",
       "      <td>1</td>\n",
       "      <td>2.0</td>\n",
       "      <td>2017-01-01</td>\n",
       "      <td>domingo</td>\n",
       "      <td>00:00:00</td>\n",
       "      <td>PR</td>\n",
       "      <td>153</td>\n",
       "      <td>56,9</td>\n",
       "      <td>SANTO ANTONIO DA PLATINA</td>\n",
       "      <td>Sim</td>\n",
       "      <td>...</td>\n",
       "      <td>-23,36951985</td>\n",
       "      <td>309,9351311</td>\n",
       "      <td>SR-PR</td>\n",
       "      <td>DEL7/7</td>\n",
       "      <td>UOP07/PR</td>\n",
       "      <td>2017</td>\n",
       "      <td>4</td>\n",
       "      <td>Feriado</td>\n",
       "      <td>VW/NOVO GOL 1.0 2013</td>\n",
       "      <td>79.400000</td>\n",
       "    </tr>\n",
       "    <tr>\n",
       "      <th>2</th>\n",
       "      <td>2</td>\n",
       "      <td>1558.0</td>\n",
       "      <td>2017-01-01</td>\n",
       "      <td>domingo</td>\n",
       "      <td>00:40:00</td>\n",
       "      <td>GO</td>\n",
       "      <td>60</td>\n",
       "      <td>188</td>\n",
       "      <td>GUAPO</td>\n",
       "      <td>Sim</td>\n",
       "      <td>...</td>\n",
       "      <td>-16,82489647</td>\n",
       "      <td>-49,53520775</td>\n",
       "      <td>SR-GO</td>\n",
       "      <td>DEL1/1</td>\n",
       "      <td>UOP02/GO</td>\n",
       "      <td>2017</td>\n",
       "      <td>15</td>\n",
       "      <td>Feriado</td>\n",
       "      <td>RENAULT/CLIO RN 1.0 16V 2002</td>\n",
       "      <td>79.300000</td>\n",
       "    </tr>\n",
       "    <tr>\n",
       "      <th>3</th>\n",
       "      <td>3</td>\n",
       "      <td>10.0</td>\n",
       "      <td>2017-01-01</td>\n",
       "      <td>domingo</td>\n",
       "      <td>01:45:00</td>\n",
       "      <td>RS</td>\n",
       "      <td>116</td>\n",
       "      <td>34,9</td>\n",
       "      <td>VACARIA</td>\n",
       "      <td>Sim</td>\n",
       "      <td>...</td>\n",
       "      <td>-28,5071196</td>\n",
       "      <td>-50,941176</td>\n",
       "      <td>SR-RS</td>\n",
       "      <td>DEL9/5</td>\n",
       "      <td>UOP03/RS</td>\n",
       "      <td>2017</td>\n",
       "      <td>34</td>\n",
       "      <td>Feriado</td>\n",
       "      <td>GM/CHEVETTE 1983</td>\n",
       "      <td>100.818182</td>\n",
       "    </tr>\n",
       "    <tr>\n",
       "      <th>4</th>\n",
       "      <td>4</td>\n",
       "      <td>10.0</td>\n",
       "      <td>2017-01-01</td>\n",
       "      <td>domingo</td>\n",
       "      <td>01:45:00</td>\n",
       "      <td>RS</td>\n",
       "      <td>116</td>\n",
       "      <td>34,9</td>\n",
       "      <td>VACARIA</td>\n",
       "      <td>Sim</td>\n",
       "      <td>...</td>\n",
       "      <td>-28,5071196</td>\n",
       "      <td>-50,941176</td>\n",
       "      <td>SR-RS</td>\n",
       "      <td>DEL9/5</td>\n",
       "      <td>UOP03/RS</td>\n",
       "      <td>2017</td>\n",
       "      <td>34</td>\n",
       "      <td>Feriado</td>\n",
       "      <td>GM/CHEVETTE 1983</td>\n",
       "      <td>100.818182</td>\n",
       "    </tr>\n",
       "  </tbody>\n",
       "</table>\n",
       "<p>5 rows × 42 columns</p>\n",
       "</div>"
      ],
      "text/plain": [
       "   id   pesid data_inversa dia_semana   horario  uf   br    km  \\\n",
       "0   0   955.0   2017-01-01    domingo  00:01:00  SC  101   234   \n",
       "1   1     2.0   2017-01-01    domingo  00:00:00  PR  153  56,9   \n",
       "2   2  1558.0   2017-01-01    domingo  00:40:00  GO   60   188   \n",
       "3   3    10.0   2017-01-01    domingo  01:45:00  RS  116  34,9   \n",
       "4   4    10.0   2017-01-01    domingo  01:45:00  RS  116  34,9   \n",
       "\n",
       "                  municipio causa_principal  ...      latitude     longitude  \\\n",
       "0                   PALHOCA             Sim  ...      -27,8101      -48,6357   \n",
       "1  SANTO ANTONIO DA PLATINA             Sim  ...  -23,36951985   309,9351311   \n",
       "2                     GUAPO             Sim  ...  -16,82489647  -49,53520775   \n",
       "3                   VACARIA             Sim  ...   -28,5071196    -50,941176   \n",
       "4                   VACARIA             Sim  ...   -28,5071196    -50,941176   \n",
       "\n",
       "  regional delegacia       uop data_ano idade_veiculo  Feriado  \\\n",
       "0    SR-SC    DEL8/1  UOP02/SC     2017            14  Feriado   \n",
       "1    SR-PR    DEL7/7  UOP07/PR     2017             4  Feriado   \n",
       "2    SR-GO    DEL1/1  UOP02/GO     2017            15  Feriado   \n",
       "3    SR-RS    DEL9/5  UOP03/RS     2017            34  Feriado   \n",
       "4    SR-RS    DEL9/5  UOP03/RS     2017            34  Feriado   \n",
       "\n",
       "                      marca_ano    potencia  \n",
       "0    FIAT/PALIO WEEKEND EX 2003   83.071429  \n",
       "1          VW/NOVO GOL 1.0 2013   79.400000  \n",
       "2  RENAULT/CLIO RN 1.0 16V 2002   79.300000  \n",
       "3              GM/CHEVETTE 1983  100.818182  \n",
       "4              GM/CHEVETTE 1983  100.818182  \n",
       "\n",
       "[5 rows x 42 columns]"
      ]
     },
     "execution_count": 125,
     "metadata": {},
     "output_type": "execute_result"
    }
   ],
   "source": [
    "#Concatenando datasets pela marca e ano\n",
    "df = pd.merge(df_aci, df_pot, on=['marca_ano'], how='left')\n",
    "df.head()"
   ]
  },
  {
   "cell_type": "code",
   "execution_count": 126,
   "metadata": {},
   "outputs": [
    {
     "name": "stdout",
     "output_type": "stream",
     "text": [
      "<class 'pandas.core.frame.DataFrame'>\n",
      "Int64Index: 171490 entries, 0 to 171489\n",
      "Data columns (total 42 columns):\n",
      " #   Column                  Non-Null Count   Dtype         \n",
      "---  ------                  --------------   -----         \n",
      " 0   id                      171490 non-null  int32         \n",
      " 1   pesid                   171490 non-null  float64       \n",
      " 2   data_inversa            171490 non-null  datetime64[ns]\n",
      " 3   dia_semana              171490 non-null  object        \n",
      " 4   horario                 171490 non-null  object        \n",
      " 5   uf                      171490 non-null  object        \n",
      " 6   br                      171490 non-null  int32         \n",
      " 7   km                      171490 non-null  object        \n",
      " 8   municipio               171490 non-null  object        \n",
      " 9   causa_principal         171490 non-null  object        \n",
      " 10  causa_acidente          171490 non-null  object        \n",
      " 11  ordem_tipo_acidente     171490 non-null  float64       \n",
      " 12  tipo_acidente           171490 non-null  object        \n",
      " 13  classificacao_acidente  171490 non-null  object        \n",
      " 14  fase_dia                171490 non-null  object        \n",
      " 15  sentido_via             171490 non-null  object        \n",
      " 16  condicao_metereologica  171490 non-null  object        \n",
      " 17  tipo_pista              171490 non-null  object        \n",
      " 18  tracado_via             171490 non-null  object        \n",
      " 19  uso_solo                171490 non-null  object        \n",
      " 20  id_veiculo              171490 non-null  float64       \n",
      " 21  tipo_veiculo            171490 non-null  object        \n",
      " 22  marca                   171490 non-null  object        \n",
      " 23  ano_fabricacao_veiculo  171490 non-null  object        \n",
      " 24  tipo_envolvido          171490 non-null  object        \n",
      " 25  estado_fisico           171490 non-null  object        \n",
      " 26  idade                   171490 non-null  float64       \n",
      " 27  sexo                    171490 non-null  object        \n",
      " 28  ilesos                  171490 non-null  int64         \n",
      " 29  feridos_leves           171490 non-null  int64         \n",
      " 30  feridos_graves          171490 non-null  int64         \n",
      " 31  mortos                  171490 non-null  int64         \n",
      " 32  latitude                171490 non-null  object        \n",
      " 33  longitude               171490 non-null  object        \n",
      " 34  regional                171490 non-null  object        \n",
      " 35  delegacia               171490 non-null  object        \n",
      " 36  uop                     171490 non-null  object        \n",
      " 37  data_ano                171490 non-null  int64         \n",
      " 38  idade_veiculo           171490 non-null  int64         \n",
      " 39  Feriado                 171490 non-null  object        \n",
      " 40  marca_ano               171490 non-null  object        \n",
      " 41  potencia                170272 non-null  float64       \n",
      "dtypes: datetime64[ns](1), float64(5), int32(2), int64(6), object(28)\n",
      "memory usage: 55.0+ MB\n"
     ]
    }
   ],
   "source": [
    "#Explorando dados\n",
    "df.info()"
   ]
  },
  {
   "cell_type": "code",
   "execution_count": 127,
   "metadata": {},
   "outputs": [
    {
     "name": "stdout",
     "output_type": "stream",
     "text": [
      "<class 'pandas.core.frame.DataFrame'>\n",
      "Int64Index: 170272 entries, 0 to 171489\n",
      "Data columns (total 42 columns):\n",
      " #   Column                  Non-Null Count   Dtype         \n",
      "---  ------                  --------------   -----         \n",
      " 0   id                      170272 non-null  int32         \n",
      " 1   pesid                   170272 non-null  float64       \n",
      " 2   data_inversa            170272 non-null  datetime64[ns]\n",
      " 3   dia_semana              170272 non-null  object        \n",
      " 4   horario                 170272 non-null  object        \n",
      " 5   uf                      170272 non-null  object        \n",
      " 6   br                      170272 non-null  int32         \n",
      " 7   km                      170272 non-null  object        \n",
      " 8   municipio               170272 non-null  object        \n",
      " 9   causa_principal         170272 non-null  object        \n",
      " 10  causa_acidente          170272 non-null  object        \n",
      " 11  ordem_tipo_acidente     170272 non-null  float64       \n",
      " 12  tipo_acidente           170272 non-null  object        \n",
      " 13  classificacao_acidente  170272 non-null  object        \n",
      " 14  fase_dia                170272 non-null  object        \n",
      " 15  sentido_via             170272 non-null  object        \n",
      " 16  condicao_metereologica  170272 non-null  object        \n",
      " 17  tipo_pista              170272 non-null  object        \n",
      " 18  tracado_via             170272 non-null  object        \n",
      " 19  uso_solo                170272 non-null  object        \n",
      " 20  id_veiculo              170272 non-null  float64       \n",
      " 21  tipo_veiculo            170272 non-null  object        \n",
      " 22  marca                   170272 non-null  object        \n",
      " 23  ano_fabricacao_veiculo  170272 non-null  object        \n",
      " 24  tipo_envolvido          170272 non-null  object        \n",
      " 25  estado_fisico           170272 non-null  object        \n",
      " 26  idade                   170272 non-null  float64       \n",
      " 27  sexo                    170272 non-null  object        \n",
      " 28  ilesos                  170272 non-null  int64         \n",
      " 29  feridos_leves           170272 non-null  int64         \n",
      " 30  feridos_graves          170272 non-null  int64         \n",
      " 31  mortos                  170272 non-null  int64         \n",
      " 32  latitude                170272 non-null  object        \n",
      " 33  longitude               170272 non-null  object        \n",
      " 34  regional                170272 non-null  object        \n",
      " 35  delegacia               170272 non-null  object        \n",
      " 36  uop                     170272 non-null  object        \n",
      " 37  data_ano                170272 non-null  int64         \n",
      " 38  idade_veiculo           170272 non-null  int64         \n",
      " 39  Feriado                 170272 non-null  object        \n",
      " 40  marca_ano               170272 non-null  object        \n",
      " 41  potencia                170272 non-null  float64       \n",
      "dtypes: datetime64[ns](1), float64(5), int32(2), int64(6), object(28)\n",
      "memory usage: 54.6+ MB\n"
     ]
    }
   ],
   "source": [
    "#Removendo valores ausentes\n",
    "df = df.dropna()\n",
    "\n",
    "df.info()"
   ]
  },
  {
   "cell_type": "markdown",
   "metadata": {},
   "source": [
    "## Tratamento do dataset final "
   ]
  },
  {
   "cell_type": "markdown",
   "metadata": {},
   "source": [
    "### Definindo os classificadores"
   ]
  },
  {
   "cell_type": "code",
   "execution_count": 128,
   "metadata": {},
   "outputs": [
    {
     "data": {
      "text/plain": [
       "1    112456\n",
       "0     57816\n",
       "Name: ilesos, dtype: int64"
      ]
     },
     "execution_count": 128,
     "metadata": {},
     "output_type": "execute_result"
    }
   ],
   "source": [
    "#Quantidade de valores ilesos\n",
    "df.ilesos.value_counts()"
   ]
  },
  {
   "cell_type": "code",
   "execution_count": 129,
   "metadata": {},
   "outputs": [
    {
     "data": {
      "text/plain": [
       "0    126529\n",
       "1     43743\n",
       "Name: feridos_leves, dtype: int64"
      ]
     },
     "execution_count": 129,
     "metadata": {},
     "output_type": "execute_result"
    }
   ],
   "source": [
    "#Quantidade de valores de feridos leves\n",
    "df.feridos_leves.value_counts()"
   ]
  },
  {
   "cell_type": "code",
   "execution_count": 130,
   "metadata": {},
   "outputs": [
    {
     "data": {
      "text/plain": [
       "0    160097\n",
       "1     10175\n",
       "Name: feridos_graves, dtype: int64"
      ]
     },
     "execution_count": 130,
     "metadata": {},
     "output_type": "execute_result"
    }
   ],
   "source": [
    "#Quantidade de valores de feridos graves\n",
    "df.feridos_graves.value_counts()"
   ]
  },
  {
   "cell_type": "code",
   "execution_count": 131,
   "metadata": {},
   "outputs": [
    {
     "data": {
      "text/plain": [
       "0    166374\n",
       "1      3898\n",
       "Name: mortos, dtype: int64"
      ]
     },
     "execution_count": 131,
     "metadata": {},
     "output_type": "execute_result"
    }
   ],
   "source": [
    "#Quantidade de valores de mortos\n",
    "df.mortos.value_counts()"
   ]
  },
  {
   "cell_type": "code",
   "execution_count": 132,
   "metadata": {},
   "outputs": [
    {
     "data": {
      "text/plain": [
       "Não Grave    156199\n",
       "Grave         14073\n",
       "Name: Gravidade, dtype: int64"
      ]
     },
     "execution_count": 132,
     "metadata": {},
     "output_type": "execute_result"
    }
   ],
   "source": [
    "#Definindo a Gravidade pela soma dos feridos graves e mortos\n",
    "\n",
    "df['Gravidade'] = df['feridos_graves']+df['mortos']\n",
    "\n",
    "df['Gravidade'] = df['Gravidade'].replace({1: 'Grave'})\n",
    "\n",
    "df['Gravidade'] = df['Gravidade'].replace({0: 'Não Grave'})\n",
    "\n",
    "df['Gravidade'].value_counts()"
   ]
  },
  {
   "cell_type": "code",
   "execution_count": 133,
   "metadata": {},
   "outputs": [
    {
     "data": {
      "image/png": "[encoded data removed]",
      "text/plain": [
       "<Figure size 576x288 with 1 Axes>"
      ]
     },
     "metadata": {
      "needs_background": "light"
     },
     "output_type": "display_data"
    }
   ],
   "source": [
    "#Gráfico\n",
    "fig = plt.figure(figsize=(8,4)) #Tamanho\n",
    "sns.countplot(x='Gravidade', #variável\n",
    "              order=df['Gravidade'].value_counts().index, data=df)\n",
    "plt.xlabel('Gravidade',fontsize=10)\n",
    "plt.ylabel('Quantidade de acidentes',fontsize=10)\n",
    "plt.title('Gráfico da Gravidade dos acidentes',fontsize=15)\n",
    "plt.savefig('gravidade2.svg', format='svg')"
   ]
  },
  {
   "cell_type": "code",
   "execution_count": 134,
   "metadata": {},
   "outputs": [
    {
     "data": {
      "text/html": [
       "<div>\n",
       "<style scoped>\n",
       "    .dataframe tbody tr th:only-of-type {\n",
       "        vertical-align: middle;\n",
       "    }\n",
       "\n",
       "    .dataframe tbody tr th {\n",
       "        vertical-align: top;\n",
       "    }\n",
       "\n",
       "    .dataframe thead th {\n",
       "        text-align: right;\n",
       "    }\n",
       "</style>\n",
       "<table border=\"1\" class=\"dataframe\">\n",
       "  <thead>\n",
       "    <tr style=\"text-align: right;\">\n",
       "      <th></th>\n",
       "      <th>id</th>\n",
       "      <th>pesid</th>\n",
       "      <th>data_inversa</th>\n",
       "      <th>dia_semana</th>\n",
       "      <th>horario</th>\n",
       "      <th>uf</th>\n",
       "      <th>br</th>\n",
       "      <th>km</th>\n",
       "      <th>municipio</th>\n",
       "      <th>causa_principal</th>\n",
       "      <th>...</th>\n",
       "      <th>longitude</th>\n",
       "      <th>regional</th>\n",
       "      <th>delegacia</th>\n",
       "      <th>uop</th>\n",
       "      <th>data_ano</th>\n",
       "      <th>idade_veiculo</th>\n",
       "      <th>Feriado</th>\n",
       "      <th>marca_ano</th>\n",
       "      <th>potencia</th>\n",
       "      <th>Gravidade</th>\n",
       "    </tr>\n",
       "  </thead>\n",
       "  <tbody>\n",
       "    <tr>\n",
       "      <th>0</th>\n",
       "      <td>0</td>\n",
       "      <td>955.0</td>\n",
       "      <td>2017-01-01</td>\n",
       "      <td>domingo</td>\n",
       "      <td>00:01:00</td>\n",
       "      <td>SC</td>\n",
       "      <td>101</td>\n",
       "      <td>234</td>\n",
       "      <td>PALHOCA</td>\n",
       "      <td>Sim</td>\n",
       "      <td>...</td>\n",
       "      <td>-48,6357</td>\n",
       "      <td>SR-SC</td>\n",
       "      <td>DEL8/1</td>\n",
       "      <td>UOP02/SC</td>\n",
       "      <td>2017</td>\n",
       "      <td>14</td>\n",
       "      <td>Feriado</td>\n",
       "      <td>FIAT/PALIO WEEKEND EX 2003</td>\n",
       "      <td>83.071429</td>\n",
       "      <td>Não Grave</td>\n",
       "    </tr>\n",
       "    <tr>\n",
       "      <th>1</th>\n",
       "      <td>1</td>\n",
       "      <td>2.0</td>\n",
       "      <td>2017-01-01</td>\n",
       "      <td>domingo</td>\n",
       "      <td>00:00:00</td>\n",
       "      <td>PR</td>\n",
       "      <td>153</td>\n",
       "      <td>56,9</td>\n",
       "      <td>SANTO ANTONIO DA PLATINA</td>\n",
       "      <td>Sim</td>\n",
       "      <td>...</td>\n",
       "      <td>309,9351311</td>\n",
       "      <td>SR-PR</td>\n",
       "      <td>DEL7/7</td>\n",
       "      <td>UOP07/PR</td>\n",
       "      <td>2017</td>\n",
       "      <td>4</td>\n",
       "      <td>Feriado</td>\n",
       "      <td>VW/NOVO GOL 1.0 2013</td>\n",
       "      <td>79.400000</td>\n",
       "      <td>Não Grave</td>\n",
       "    </tr>\n",
       "    <tr>\n",
       "      <th>2</th>\n",
       "      <td>2</td>\n",
       "      <td>1558.0</td>\n",
       "      <td>2017-01-01</td>\n",
       "      <td>domingo</td>\n",
       "      <td>00:40:00</td>\n",
       "      <td>GO</td>\n",
       "      <td>60</td>\n",
       "      <td>188</td>\n",
       "      <td>GUAPO</td>\n",
       "      <td>Sim</td>\n",
       "      <td>...</td>\n",
       "      <td>-49,53520775</td>\n",
       "      <td>SR-GO</td>\n",
       "      <td>DEL1/1</td>\n",
       "      <td>UOP02/GO</td>\n",
       "      <td>2017</td>\n",
       "      <td>15</td>\n",
       "      <td>Feriado</td>\n",
       "      <td>RENAULT/CLIO RN 1.0 16V 2002</td>\n",
       "      <td>79.300000</td>\n",
       "      <td>Não Grave</td>\n",
       "    </tr>\n",
       "    <tr>\n",
       "      <th>3</th>\n",
       "      <td>3</td>\n",
       "      <td>10.0</td>\n",
       "      <td>2017-01-01</td>\n",
       "      <td>domingo</td>\n",
       "      <td>01:45:00</td>\n",
       "      <td>RS</td>\n",
       "      <td>116</td>\n",
       "      <td>34,9</td>\n",
       "      <td>VACARIA</td>\n",
       "      <td>Sim</td>\n",
       "      <td>...</td>\n",
       "      <td>-50,941176</td>\n",
       "      <td>SR-RS</td>\n",
       "      <td>DEL9/5</td>\n",
       "      <td>UOP03/RS</td>\n",
       "      <td>2017</td>\n",
       "      <td>34</td>\n",
       "      <td>Feriado</td>\n",
       "      <td>GM/CHEVETTE 1983</td>\n",
       "      <td>100.818182</td>\n",
       "      <td>Não Grave</td>\n",
       "    </tr>\n",
       "    <tr>\n",
       "      <th>4</th>\n",
       "      <td>4</td>\n",
       "      <td>10.0</td>\n",
       "      <td>2017-01-01</td>\n",
       "      <td>domingo</td>\n",
       "      <td>01:45:00</td>\n",
       "      <td>RS</td>\n",
       "      <td>116</td>\n",
       "      <td>34,9</td>\n",
       "      <td>VACARIA</td>\n",
       "      <td>Sim</td>\n",
       "      <td>...</td>\n",
       "      <td>-50,941176</td>\n",
       "      <td>SR-RS</td>\n",
       "      <td>DEL9/5</td>\n",
       "      <td>UOP03/RS</td>\n",
       "      <td>2017</td>\n",
       "      <td>34</td>\n",
       "      <td>Feriado</td>\n",
       "      <td>GM/CHEVETTE 1983</td>\n",
       "      <td>100.818182</td>\n",
       "      <td>Não Grave</td>\n",
       "    </tr>\n",
       "  </tbody>\n",
       "</table>\n",
       "<p>5 rows × 43 columns</p>\n",
       "</div>"
      ],
      "text/plain": [
       "   id   pesid data_inversa dia_semana   horario  uf   br    km  \\\n",
       "0   0   955.0   2017-01-01    domingo  00:01:00  SC  101   234   \n",
       "1   1     2.0   2017-01-01    domingo  00:00:00  PR  153  56,9   \n",
       "2   2  1558.0   2017-01-01    domingo  00:40:00  GO   60   188   \n",
       "3   3    10.0   2017-01-01    domingo  01:45:00  RS  116  34,9   \n",
       "4   4    10.0   2017-01-01    domingo  01:45:00  RS  116  34,9   \n",
       "\n",
       "                  municipio causa_principal  ...     longitude  regional  \\\n",
       "0                   PALHOCA             Sim  ...      -48,6357     SR-SC   \n",
       "1  SANTO ANTONIO DA PLATINA             Sim  ...   309,9351311     SR-PR   \n",
       "2                     GUAPO             Sim  ...  -49,53520775     SR-GO   \n",
       "3                   VACARIA             Sim  ...    -50,941176     SR-RS   \n",
       "4                   VACARIA             Sim  ...    -50,941176     SR-RS   \n",
       "\n",
       "  delegacia       uop data_ano idade_veiculo  Feriado  \\\n",
       "0    DEL8/1  UOP02/SC     2017            14  Feriado   \n",
       "1    DEL7/7  UOP07/PR     2017             4  Feriado   \n",
       "2    DEL1/1  UOP02/GO     2017            15  Feriado   \n",
       "3    DEL9/5  UOP03/RS     2017            34  Feriado   \n",
       "4    DEL9/5  UOP03/RS     2017            34  Feriado   \n",
       "\n",
       "                      marca_ano    potencia  Gravidade  \n",
       "0    FIAT/PALIO WEEKEND EX 2003   83.071429  Não Grave  \n",
       "1          VW/NOVO GOL 1.0 2013   79.400000  Não Grave  \n",
       "2  RENAULT/CLIO RN 1.0 16V 2002   79.300000  Não Grave  \n",
       "3              GM/CHEVETTE 1983  100.818182  Não Grave  \n",
       "4              GM/CHEVETTE 1983  100.818182  Não Grave  \n",
       "\n",
       "[5 rows x 43 columns]"
      ]
     },
     "execution_count": 134,
     "metadata": {},
     "output_type": "execute_result"
    }
   ],
   "source": [
    "df.head()"
   ]
  },
  {
   "cell_type": "markdown",
   "metadata": {},
   "source": [
    "### Seleção de variáveis"
   ]
  },
  {
   "cell_type": "code",
   "execution_count": 135,
   "metadata": {},
   "outputs": [
    {
     "name": "stdout",
     "output_type": "stream",
     "text": [
      "<class 'pandas.core.frame.DataFrame'>\n",
      "Int64Index: 170272 entries, 0 to 171489\n",
      "Data columns (total 43 columns):\n",
      " #   Column                  Non-Null Count   Dtype         \n",
      "---  ------                  --------------   -----         \n",
      " 0   id                      170272 non-null  int32         \n",
      " 1   pesid                   170272 non-null  float64       \n",
      " 2   data_inversa            170272 non-null  datetime64[ns]\n",
      " 3   dia_semana              170272 non-null  object        \n",
      " 4   horario                 170272 non-null  object        \n",
      " 5   uf                      170272 non-null  object        \n",
      " 6   br                      170272 non-null  int32         \n",
      " 7   km                      170272 non-null  object        \n",
      " 8   municipio               170272 non-null  object        \n",
      " 9   causa_principal         170272 non-null  object        \n",
      " 10  causa_acidente          170272 non-null  object        \n",
      " 11  ordem_tipo_acidente     170272 non-null  float64       \n",
      " 12  tipo_acidente           170272 non-null  object        \n",
      " 13  classificacao_acidente  170272 non-null  object        \n",
      " 14  fase_dia                170272 non-null  object        \n",
      " 15  sentido_via             170272 non-null  object        \n",
      " 16  condicao_metereologica  170272 non-null  object        \n",
      " 17  tipo_pista              170272 non-null  object        \n",
      " 18  tracado_via             170272 non-null  object        \n",
      " 19  uso_solo                170272 non-null  object        \n",
      " 20  id_veiculo              170272 non-null  float64       \n",
      " 21  tipo_veiculo            170272 non-null  object        \n",
      " 22  marca                   170272 non-null  object        \n",
      " 23  ano_fabricacao_veiculo  170272 non-null  object        \n",
      " 24  tipo_envolvido          170272 non-null  object        \n",
      " 25  estado_fisico           170272 non-null  object        \n",
      " 26  idade                   170272 non-null  float64       \n",
      " 27  sexo                    170272 non-null  object        \n",
      " 28  ilesos                  170272 non-null  int64         \n",
      " 29  feridos_leves           170272 non-null  int64         \n",
      " 30  feridos_graves          170272 non-null  int64         \n",
      " 31  mortos                  170272 non-null  int64         \n",
      " 32  latitude                170272 non-null  object        \n",
      " 33  longitude               170272 non-null  object        \n",
      " 34  regional                170272 non-null  object        \n",
      " 35  delegacia               170272 non-null  object        \n",
      " 36  uop                     170272 non-null  object        \n",
      " 37  data_ano                170272 non-null  int64         \n",
      " 38  idade_veiculo           170272 non-null  int64         \n",
      " 39  Feriado                 170272 non-null  object        \n",
      " 40  marca_ano               170272 non-null  object        \n",
      " 41  potencia                170272 non-null  float64       \n",
      " 42  Gravidade               170272 non-null  object        \n",
      "dtypes: datetime64[ns](1), float64(5), int32(2), int64(6), object(29)\n",
      "memory usage: 60.9+ MB\n"
     ]
    }
   ],
   "source": [
    "df.info()"
   ]
  },
  {
   "cell_type": "code",
   "execution_count": 136,
   "metadata": {},
   "outputs": [
    {
     "data": {
      "text/html": [
       "<div>\n",
       "<style scoped>\n",
       "    .dataframe tbody tr th:only-of-type {\n",
       "        vertical-align: middle;\n",
       "    }\n",
       "\n",
       "    .dataframe tbody tr th {\n",
       "        vertical-align: top;\n",
       "    }\n",
       "\n",
       "    .dataframe thead th {\n",
       "        text-align: right;\n",
       "    }\n",
       "</style>\n",
       "<table border=\"1\" class=\"dataframe\">\n",
       "  <thead>\n",
       "    <tr style=\"text-align: right;\">\n",
       "      <th></th>\n",
       "      <th>dia_semana</th>\n",
       "      <th>horario</th>\n",
       "      <th>uf</th>\n",
       "      <th>br</th>\n",
       "      <th>km</th>\n",
       "      <th>municipio</th>\n",
       "      <th>causa_acidente</th>\n",
       "      <th>tipo_acidente</th>\n",
       "      <th>sentido_via</th>\n",
       "      <th>condicao_metereologica</th>\n",
       "      <th>tipo_pista</th>\n",
       "      <th>tracado_via</th>\n",
       "      <th>uso_solo</th>\n",
       "      <th>marca</th>\n",
       "      <th>idade</th>\n",
       "      <th>sexo</th>\n",
       "      <th>idade_veiculo</th>\n",
       "      <th>Feriado</th>\n",
       "      <th>potencia</th>\n",
       "      <th>Gravidade</th>\n",
       "    </tr>\n",
       "  </thead>\n",
       "  <tbody>\n",
       "    <tr>\n",
       "      <th>0</th>\n",
       "      <td>domingo</td>\n",
       "      <td>00:01:00</td>\n",
       "      <td>SC</td>\n",
       "      <td>101</td>\n",
       "      <td>234</td>\n",
       "      <td>PALHOCA</td>\n",
       "      <td>Falta de Atenção à Condução</td>\n",
       "      <td>Colisão com objeto estático</td>\n",
       "      <td>Crescente</td>\n",
       "      <td>Chuva</td>\n",
       "      <td>Dupla</td>\n",
       "      <td>Curva</td>\n",
       "      <td>Não</td>\n",
       "      <td>FIAT/PALIO WEEKEND EX</td>\n",
       "      <td>35.0</td>\n",
       "      <td>Masculino</td>\n",
       "      <td>14</td>\n",
       "      <td>Feriado</td>\n",
       "      <td>83.071429</td>\n",
       "      <td>Não Grave</td>\n",
       "    </tr>\n",
       "    <tr>\n",
       "      <th>1</th>\n",
       "      <td>domingo</td>\n",
       "      <td>00:00:00</td>\n",
       "      <td>PR</td>\n",
       "      <td>153</td>\n",
       "      <td>56,9</td>\n",
       "      <td>SANTO ANTONIO DA PLATINA</td>\n",
       "      <td>Animais na Pista</td>\n",
       "      <td>Capotamento</td>\n",
       "      <td>Decrescente</td>\n",
       "      <td>Garoa/Chuvisco</td>\n",
       "      <td>Simples</td>\n",
       "      <td>Reta</td>\n",
       "      <td>Não</td>\n",
       "      <td>VW/NOVO GOL 1.0</td>\n",
       "      <td>27.0</td>\n",
       "      <td>Feminino</td>\n",
       "      <td>4</td>\n",
       "      <td>Feriado</td>\n",
       "      <td>79.400000</td>\n",
       "      <td>Não Grave</td>\n",
       "    </tr>\n",
       "    <tr>\n",
       "      <th>2</th>\n",
       "      <td>domingo</td>\n",
       "      <td>00:40:00</td>\n",
       "      <td>GO</td>\n",
       "      <td>60</td>\n",
       "      <td>188</td>\n",
       "      <td>GUAPO</td>\n",
       "      <td>Falta de Atenção à Condução</td>\n",
       "      <td>Colisão traseira</td>\n",
       "      <td>Decrescente</td>\n",
       "      <td>Nublado</td>\n",
       "      <td>Dupla</td>\n",
       "      <td>Reta</td>\n",
       "      <td>Sim</td>\n",
       "      <td>RENAULT/CLIO RN 1.0 16V</td>\n",
       "      <td>35.0</td>\n",
       "      <td>Masculino</td>\n",
       "      <td>15</td>\n",
       "      <td>Feriado</td>\n",
       "      <td>79.300000</td>\n",
       "      <td>Não Grave</td>\n",
       "    </tr>\n",
       "    <tr>\n",
       "      <th>3</th>\n",
       "      <td>domingo</td>\n",
       "      <td>01:45:00</td>\n",
       "      <td>RS</td>\n",
       "      <td>116</td>\n",
       "      <td>34,9</td>\n",
       "      <td>VACARIA</td>\n",
       "      <td>Defeito Mecânico no Veículo</td>\n",
       "      <td>Capotamento</td>\n",
       "      <td>Decrescente</td>\n",
       "      <td>Céu Claro</td>\n",
       "      <td>Simples</td>\n",
       "      <td>Reta</td>\n",
       "      <td>Não</td>\n",
       "      <td>GM/CHEVETTE</td>\n",
       "      <td>31.0</td>\n",
       "      <td>Masculino</td>\n",
       "      <td>34</td>\n",
       "      <td>Feriado</td>\n",
       "      <td>100.818182</td>\n",
       "      <td>Não Grave</td>\n",
       "    </tr>\n",
       "    <tr>\n",
       "      <th>4</th>\n",
       "      <td>domingo</td>\n",
       "      <td>01:45:00</td>\n",
       "      <td>RS</td>\n",
       "      <td>116</td>\n",
       "      <td>34,9</td>\n",
       "      <td>VACARIA</td>\n",
       "      <td>Defeito Mecânico no Veículo</td>\n",
       "      <td>Colisão traseira</td>\n",
       "      <td>Decrescente</td>\n",
       "      <td>Céu Claro</td>\n",
       "      <td>Simples</td>\n",
       "      <td>Reta</td>\n",
       "      <td>Não</td>\n",
       "      <td>GM/CHEVETTE</td>\n",
       "      <td>31.0</td>\n",
       "      <td>Masculino</td>\n",
       "      <td>34</td>\n",
       "      <td>Feriado</td>\n",
       "      <td>100.818182</td>\n",
       "      <td>Não Grave</td>\n",
       "    </tr>\n",
       "  </tbody>\n",
       "</table>\n",
       "</div>"
      ],
      "text/plain": [
       "  dia_semana   horario  uf   br    km                 municipio  \\\n",
       "0    domingo  00:01:00  SC  101   234                   PALHOCA   \n",
       "1    domingo  00:00:00  PR  153  56,9  SANTO ANTONIO DA PLATINA   \n",
       "2    domingo  00:40:00  GO   60   188                     GUAPO   \n",
       "3    domingo  01:45:00  RS  116  34,9                   VACARIA   \n",
       "4    domingo  01:45:00  RS  116  34,9                   VACARIA   \n",
       "\n",
       "                causa_acidente                tipo_acidente  sentido_via  \\\n",
       "0  Falta de Atenção à Condução  Colisão com objeto estático    Crescente   \n",
       "1             Animais na Pista                  Capotamento  Decrescente   \n",
       "2  Falta de Atenção à Condução             Colisão traseira  Decrescente   \n",
       "3  Defeito Mecânico no Veículo                  Capotamento  Decrescente   \n",
       "4  Defeito Mecânico no Veículo             Colisão traseira  Decrescente   \n",
       "\n",
       "  condicao_metereologica tipo_pista tracado_via uso_solo  \\\n",
       "0                  Chuva      Dupla       Curva      Não   \n",
       "1         Garoa/Chuvisco    Simples        Reta      Não   \n",
       "2                Nublado      Dupla        Reta      Sim   \n",
       "3              Céu Claro    Simples        Reta      Não   \n",
       "4              Céu Claro    Simples        Reta      Não   \n",
       "\n",
       "                     marca  idade       sexo  idade_veiculo  Feriado  \\\n",
       "0    FIAT/PALIO WEEKEND EX   35.0  Masculino             14  Feriado   \n",
       "1          VW/NOVO GOL 1.0   27.0   Feminino              4  Feriado   \n",
       "2  RENAULT/CLIO RN 1.0 16V   35.0  Masculino             15  Feriado   \n",
       "3              GM/CHEVETTE   31.0  Masculino             34  Feriado   \n",
       "4              GM/CHEVETTE   31.0  Masculino             34  Feriado   \n",
       "\n",
       "     potencia  Gravidade  \n",
       "0   83.071429  Não Grave  \n",
       "1   79.400000  Não Grave  \n",
       "2   79.300000  Não Grave  \n",
       "3  100.818182  Não Grave  \n",
       "4  100.818182  Não Grave  "
      ]
     },
     "execution_count": 136,
     "metadata": {},
     "output_type": "execute_result"
    }
   ],
   "source": [
    "#Remoção de colunas desnecessárias\n",
    "df2 = df.iloc[:,[ 3, 4, 5, 6, 7, 8, 10, 12, 15, 16, 17, 18, 19, 22, 26, 27, 38, 39, 41, 42]]\n",
    "df2.head()"
   ]
  },
  {
   "cell_type": "code",
   "execution_count": 137,
   "metadata": {},
   "outputs": [
    {
     "name": "stdout",
     "output_type": "stream",
     "text": [
      "<class 'pandas.core.frame.DataFrame'>\n",
      "Int64Index: 170272 entries, 0 to 171489\n",
      "Data columns (total 20 columns):\n",
      " #   Column                  Non-Null Count   Dtype   \n",
      "---  ------                  --------------   -----   \n",
      " 0   dia_semana              170272 non-null  category\n",
      " 1   horario                 170272 non-null  category\n",
      " 2   uf                      170272 non-null  category\n",
      " 3   br                      170272 non-null  category\n",
      " 4   km                      170272 non-null  category\n",
      " 5   municipio               170272 non-null  category\n",
      " 6   causa_acidente          170272 non-null  category\n",
      " 7   tipo_acidente           170272 non-null  category\n",
      " 8   sentido_via             170272 non-null  category\n",
      " 9   condicao_metereologica  170272 non-null  category\n",
      " 10  tipo_pista              170272 non-null  category\n",
      " 11  tracado_via             170272 non-null  category\n",
      " 12  uso_solo                170272 non-null  category\n",
      " 13  marca                   170272 non-null  category\n",
      " 14  idade                   170272 non-null  category\n",
      " 15  sexo                    170272 non-null  category\n",
      " 16  idade_veiculo           170272 non-null  category\n",
      " 17  Feriado                 170272 non-null  category\n",
      " 18  potencia                170272 non-null  category\n",
      " 19  Gravidade               170272 non-null  category\n",
      "dtypes: category(20)\n",
      "memory usage: 11.1 MB\n"
     ]
    }
   ],
   "source": [
    "#Convertendo em variáveis categóricas\n",
    "df2 = df2.astype(\"category\")\n",
    "df2.info()"
   ]
  },
  {
   "cell_type": "code",
   "execution_count": 138,
   "metadata": {},
   "outputs": [
    {
     "data": {
      "image/png": "[encoded data removed]",
      "text/plain": [
       "<Figure size 1080x1080 with 2 Axes>"
      ]
     },
     "metadata": {
      "needs_background": "light"
     },
     "output_type": "display_data"
    }
   ],
   "source": [
    "#Fatorizando as varíaveis \n",
    "df3 = df2.apply(lambda x : pd.factorize(x)[0]).corr(method='pearson', min_periods=1)\n",
    "\n",
    "#Criando Gráfico de Correlação etre variáveis\n",
    "cores = sns.light_palette(\"red\",30,reverse=True) #Cor\n",
    "fig = plt.figure(figsize=(15,15)) #Tamanho\n",
    "df3cor = sns.heatmap(df3.corr()) \n",
    "plt.title('Gráfico de Correlação',fontsize=15)\n",
    "plt.savefig('correlação.svg', format='svg')"
   ]
  },
  {
   "cell_type": "code",
   "execution_count": 139,
   "metadata": {},
   "outputs": [],
   "source": [
    "#Novo dataset com varíveis fatorizadas\n",
    "dfML = df2.apply(lambda x : pd.factorize(x)[0])"
   ]
  },
  {
   "cell_type": "code",
   "execution_count": 140,
   "metadata": {},
   "outputs": [],
   "source": [
    "#Separando o dataset em input e output\n",
    "X = dfML.drop(['Gravidade'], axis=1)\n",
    "y = dfML['Gravidade']"
   ]
  },
  {
   "cell_type": "code",
   "execution_count": 141,
   "metadata": {},
   "outputs": [
    {
     "name": "stdout",
     "output_type": "stream",
     "text": [
      "[[   0    0    0 ...    0    0    0]\n",
      " [   1    1    1 ...    1    1    1]\n",
      " [   2    2    2 ...    0    2    2]\n",
      " ...\n",
      " [  77    5 2737 ...    0   25  689]\n",
      " [ 104   90 6743 ...    1   12    8]\n",
      " [ 104   90 6743 ...    0   25 1760]]\n"
     ]
    }
   ],
   "source": [
    "# Extração de Variáveis com Testes Estatísticos Univariados (Teste qui-quadrado)\n",
    "test = SelectKBest(chi2, k=12)\n",
    "fit = test.fit(X, y)\n",
    "features = fit.transform(X)\n",
    "print(features)"
   ]
  },
  {
   "cell_type": "code",
   "execution_count": 142,
   "metadata": {},
   "outputs": [
    {
     "name": "stdout",
     "output_type": "stream",
     "text": [
      "<class 'pandas.core.frame.DataFrame'>\n",
      "Int64Index: 170272 entries, 0 to 171489\n",
      "Data columns (total 12 columns):\n",
      " #   Column          Non-Null Count   Dtype\n",
      "---  ------          --------------   -----\n",
      " 0   horario         170272 non-null  int64\n",
      " 1   br              170272 non-null  int64\n",
      " 2   km              170272 non-null  int64\n",
      " 3   municipio       170272 non-null  int64\n",
      " 4   causa_acidente  170272 non-null  int64\n",
      " 5   tipo_pista      170272 non-null  int64\n",
      " 6   tracado_via     170272 non-null  int64\n",
      " 7   uso_solo        170272 non-null  int64\n",
      " 8   marca           170272 non-null  int64\n",
      " 9   sexo            170272 non-null  int64\n",
      " 10  idade_veiculo   170272 non-null  int64\n",
      " 11  potencia        170272 non-null  int64\n",
      "dtypes: int64(12)\n",
      "memory usage: 21.9 MB\n"
     ]
    }
   ],
   "source": [
    "#Sumarizando as varíveis\n",
    "fit.get_support(indices=True)\n",
    "\n",
    "cols = fit.get_support(indices=True)\n",
    "dfML2 = dfML.iloc[:,cols]\n",
    "dfML2.info()"
   ]
  },
  {
   "cell_type": "markdown",
   "metadata": {},
   "source": [
    "## Machine Learning"
   ]
  },
  {
   "cell_type": "code",
   "execution_count": 143,
   "metadata": {},
   "outputs": [],
   "source": [
    "#Separando as varíveis \n",
    "X = dfML2\n",
    "y = dfML['Gravidade']"
   ]
  },
  {
   "cell_type": "code",
   "execution_count": 144,
   "metadata": {},
   "outputs": [],
   "source": [
    "#Criando os conjuntos de dados de treino e de teste\n",
    "X_train, X_test, y_train, y_test = train_test_split(X, y)"
   ]
  },
  {
   "cell_type": "code",
   "execution_count": 145,
   "metadata": {},
   "outputs": [
    {
     "data": {
      "text/plain": [
       "StandardScaler()"
      ]
     },
     "execution_count": 145,
     "metadata": {},
     "output_type": "execute_result"
    }
   ],
   "source": [
    "# Padronização dos dados\n",
    "scaler = StandardScaler()\n",
    "scaler.fit(X_train)"
   ]
  },
  {
   "cell_type": "code",
   "execution_count": 146,
   "metadata": {},
   "outputs": [],
   "source": [
    "# Aplicando a padronização aos dados\n",
    "X_train = scaler.transform(X_train)\n",
    "X_test = scaler.transform(X_test)"
   ]
  },
  {
   "cell_type": "code",
   "execution_count": 147,
   "metadata": {},
   "outputs": [
    {
     "data": {
      "text/plain": [
       "MLPClassifier(hidden_layer_sizes=(10, 10, 10))"
      ]
     },
     "execution_count": 147,
     "metadata": {},
     "output_type": "execute_result"
    }
   ],
   "source": [
    "# Criação do modelo\n",
    "mlp = MLPClassifier(hidden_layer_sizes = (10,10,10))\n",
    "mlp.fit(X_train, y_train)"
   ]
  },
  {
   "cell_type": "code",
   "execution_count": 148,
   "metadata": {},
   "outputs": [
    {
     "name": "stdout",
     "output_type": "stream",
     "text": [
      "[[38951     2]\n",
      " [ 3612     3]]\n"
     ]
    }
   ],
   "source": [
    "#Fazendo as previsões e construindo a Confusion Matrix\n",
    "predictions = mlp.predict(X_test)\n",
    "\n",
    "#Confusion Matrix\n",
    "print(confusion_matrix(y_test,predictions))"
   ]
  },
  {
   "cell_type": "code",
   "execution_count": 149,
   "metadata": {},
   "outputs": [
    {
     "name": "stdout",
     "output_type": "stream",
     "text": [
      "0.9151005450103364\n"
     ]
    }
   ],
   "source": [
    "#Acurácia\n",
    "print(accuracy_score(y_test,predictions))"
   ]
  },
  {
   "cell_type": "code",
   "execution_count": 150,
   "metadata": {},
   "outputs": [
    {
     "name": "stdout",
     "output_type": "stream",
     "text": [
      "Relatório de Classificação:\n",
      "               precision    recall  f1-score   support\n",
      "\n",
      "           0     0.9151    0.9999    0.9557     38953\n",
      "           1     0.6000    0.0008    0.0017      3615\n",
      "\n",
      "    accuracy                         0.9151     42568\n",
      "   macro avg     0.7576    0.5004    0.4787     42568\n",
      "weighted avg     0.8884    0.9151    0.8746     42568\n",
      "\n",
      "AUC: 0.5004\n",
      "\n"
     ]
    }
   ],
   "source": [
    "# Imprimindo o relatório\n",
    "print(\"Relatório de Classificação:\\n\", classification_report(y_test, predictions, digits=4))\n",
    "print(\"AUC: {:.4f}\\n\".format(roc_auc_score(y_test, predictions)))"
   ]
  },
  {
   "cell_type": "markdown",
   "metadata": {},
   "source": [
    "## Balanceando os dados "
   ]
  },
  {
   "cell_type": "code",
   "execution_count": 151,
   "metadata": {},
   "outputs": [],
   "source": [
    "dfMLb = dfML"
   ]
  },
  {
   "cell_type": "code",
   "execution_count": 152,
   "metadata": {},
   "outputs": [
    {
     "data": {
      "image/png": "[encoded data removed]",
      "text/plain": [
       "<Figure size 432x288 with 1 Axes>"
      ]
     },
     "metadata": {
      "needs_background": "light"
     },
     "output_type": "display_data"
    }
   ],
   "source": [
    "sns.countplot(x='Gravidade', #variável\n",
    "              order=dfMLb['Gravidade'].value_counts().index, data=dfMLb)\n",
    "plt.xlabel('Gravidade',fontsize=10)\n",
    "plt.ylabel('Quantidade de acidentes',fontsize=10)\n",
    "plt.title('Gráfico Desbalanceado',fontsize=15)\n",
    "plt.savefig('gravidadedes.svg', format='svg')"
   ]
  },
  {
   "cell_type": "code",
   "execution_count": 153,
   "metadata": {},
   "outputs": [],
   "source": [
    "#Separando as varíaveis preditoras\n",
    "X2 = dfMLb.drop(\"Gravidade\", axis = 1)\n",
    "y2 = dfMLb.Gravidade"
   ]
  },
  {
   "cell_type": "code",
   "execution_count": 154,
   "metadata": {},
   "outputs": [],
   "source": [
    "#Aplicando balanceamento\n",
    "nr = NearMiss()\n",
    "X2, y2 = nr.fit_sample(X2, y2)"
   ]
  },
  {
   "cell_type": "code",
   "execution_count": 155,
   "metadata": {},
   "outputs": [
    {
     "data": {
      "image/png": "[encoded data removed]",
      "text/plain": [
       "<Figure size 432x288 with 1 Axes>"
      ]
     },
     "metadata": {
      "needs_background": "light"
     },
     "output_type": "display_data"
    }
   ],
   "source": [
    "sns.countplot(x=y2, data=dfMLb)\n",
    "plt.xlabel('Gravidade',fontsize=10)\n",
    "plt.ylabel('Quantidade de acidentes',fontsize=10)\n",
    "plt.title('Gráfico Balanceado',fontsize=15)\n",
    "plt.savefig('gravidadebal.svg', format='svg')"
   ]
  },
  {
   "cell_type": "code",
   "execution_count": 156,
   "metadata": {},
   "outputs": [
    {
     "data": {
      "text/plain": [
       "1    14073\n",
       "0    14073\n",
       "Name: Gravidade, dtype: int64"
      ]
     },
     "execution_count": 156,
     "metadata": {},
     "output_type": "execute_result"
    }
   ],
   "source": [
    "#Conferindo valores\n",
    "y2.value_counts()"
   ]
  },
  {
   "cell_type": "markdown",
   "metadata": {},
   "source": [
    "## Aplicando Redes Neurais no dataset balanceado"
   ]
  },
  {
   "cell_type": "code",
   "execution_count": 157,
   "metadata": {},
   "outputs": [],
   "source": [
    "#Criando os conjuntos de dados de treino e de teste\n",
    "X2_train, X2_test, y2_train, y2_test = train_test_split(X2, y2)"
   ]
  },
  {
   "cell_type": "code",
   "execution_count": 158,
   "metadata": {},
   "outputs": [
    {
     "data": {
      "text/plain": [
       "MLPClassifier(hidden_layer_sizes=(10, 10, 10))"
      ]
     },
     "execution_count": 158,
     "metadata": {},
     "output_type": "execute_result"
    }
   ],
   "source": [
    "# Criação do modelo\n",
    "mlp = MLPClassifier(hidden_layer_sizes = (10,10,10))\n",
    "mlp.fit(X2_train, y2_train)"
   ]
  },
  {
   "cell_type": "code",
   "execution_count": 159,
   "metadata": {},
   "outputs": [
    {
     "name": "stdout",
     "output_type": "stream",
     "text": [
      "[[3230  237]\n",
      " [1175 2395]]\n"
     ]
    }
   ],
   "source": [
    "#Fazendo as previsões e construindo a Confusion Matrix\n",
    "predictions = mlp.predict(X2_test)\n",
    "\n",
    "#Confusion Matrix\n",
    "print(confusion_matrix(y2_test,predictions))"
   ]
  },
  {
   "cell_type": "code",
   "execution_count": 160,
   "metadata": {},
   "outputs": [
    {
     "name": "stdout",
     "output_type": "stream",
     "text": [
      "0.7993463123490123\n"
     ]
    }
   ],
   "source": [
    "#Acurácia\n",
    "print(accuracy_score(y2_test,predictions))"
   ]
  },
  {
   "cell_type": "code",
   "execution_count": 161,
   "metadata": {},
   "outputs": [
    {
     "name": "stdout",
     "output_type": "stream",
     "text": [
      "Relatório de Classificação:\n",
      "               precision    recall  f1-score   support\n",
      "\n",
      "           0     0.7333    0.9316    0.8206      3467\n",
      "           1     0.9100    0.6709    0.7723      3570\n",
      "\n",
      "    accuracy                         0.7993      7037\n",
      "   macro avg     0.8216    0.8013    0.7965      7037\n",
      "weighted avg     0.8229    0.7993    0.7961      7037\n",
      "\n",
      "AUC: 0.8013\n",
      "\n"
     ]
    }
   ],
   "source": [
    "# Imprimindo o relatório\n",
    "print(\"Relatório de Classificação:\\n\", classification_report(y2_test, predictions, digits=4))\n",
    "print(\"AUC: {:.4f}\\n\".format(roc_auc_score(y2_test, predictions)))"
   ]
  },
  {
   "cell_type": "markdown",
   "metadata": {},
   "source": [
    "## Otimizando Modelo"
   ]
  },
  {
   "cell_type": "markdown",
   "metadata": {},
   "source": [
    "### Dados desbalanceados"
   ]
  },
  {
   "cell_type": "code",
   "execution_count": 162,
   "metadata": {},
   "outputs": [],
   "source": [
    "# Construindo o modelo do classificador\n",
    "mlp2 = MLPClassifier(max_iter=100)"
   ]
  },
  {
   "cell_type": "code",
   "execution_count": 163,
   "metadata": {},
   "outputs": [],
   "source": [
    "#Valores do parâmetros a serem testados\n",
    "param_grid = {'hidden_layer_sizes': [(10,30,10),(20,)],\n",
    "    'activation': ['tanh', 'relu'],\n",
    "    'solver': ['sgd', 'adam'],\n",
    "    'alpha': [0.0001, 0.05],\n",
    "    'learning_rate': ['constant','adaptive'],}"
   ]
  },
  {
   "cell_type": "code",
   "execution_count": 164,
   "metadata": {
    "scrolled": true
   },
   "outputs": [
    {
     "name": "stderr",
     "output_type": "stream",
     "text": [
      "C:\\ProgramData\\Anaconda3\\lib\\site-packages\\sklearn\\neural_network\\_multilayer_perceptron.py:582: ConvergenceWarning: Stochastic Optimizer: Maximum iterations (100) reached and the optimization hasn't converged yet.\n",
      "  warnings.warn(\n",
      "C:\\ProgramData\\Anaconda3\\lib\\site-packages\\sklearn\\neural_network\\_multilayer_perceptron.py:582: ConvergenceWarning: Stochastic Optimizer: Maximum iterations (100) reached and the optimization hasn't converged yet.\n",
      "  warnings.warn(\n",
      "C:\\ProgramData\\Anaconda3\\lib\\site-packages\\sklearn\\neural_network\\_multilayer_perceptron.py:582: ConvergenceWarning: Stochastic Optimizer: Maximum iterations (100) reached and the optimization hasn't converged yet.\n",
      "  warnings.warn(\n",
      "C:\\ProgramData\\Anaconda3\\lib\\site-packages\\sklearn\\neural_network\\_multilayer_perceptron.py:582: ConvergenceWarning: Stochastic Optimizer: Maximum iterations (100) reached and the optimization hasn't converged yet.\n",
      "  warnings.warn(\n",
      "C:\\ProgramData\\Anaconda3\\lib\\site-packages\\sklearn\\neural_network\\_multilayer_perceptron.py:582: ConvergenceWarning: Stochastic Optimizer: Maximum iterations (100) reached and the optimization hasn't converged yet.\n",
      "  warnings.warn(\n",
      "C:\\ProgramData\\Anaconda3\\lib\\site-packages\\sklearn\\neural_network\\_multilayer_perceptron.py:582: ConvergenceWarning: Stochastic Optimizer: Maximum iterations (100) reached and the optimization hasn't converged yet.\n",
      "  warnings.warn(\n",
      "C:\\ProgramData\\Anaconda3\\lib\\site-packages\\sklearn\\neural_network\\_multilayer_perceptron.py:582: ConvergenceWarning: Stochastic Optimizer: Maximum iterations (100) reached and the optimization hasn't converged yet.\n",
      "  warnings.warn(\n",
      "C:\\ProgramData\\Anaconda3\\lib\\site-packages\\sklearn\\neural_network\\_multilayer_perceptron.py:582: ConvergenceWarning: Stochastic Optimizer: Maximum iterations (100) reached and the optimization hasn't converged yet.\n",
      "  warnings.warn(\n",
      "C:\\ProgramData\\Anaconda3\\lib\\site-packages\\sklearn\\neural_network\\_multilayer_perceptron.py:582: ConvergenceWarning: Stochastic Optimizer: Maximum iterations (100) reached and the optimization hasn't converged yet.\n",
      "  warnings.warn(\n",
      "C:\\ProgramData\\Anaconda3\\lib\\site-packages\\sklearn\\neural_network\\_multilayer_perceptron.py:582: ConvergenceWarning: Stochastic Optimizer: Maximum iterations (100) reached and the optimization hasn't converged yet.\n",
      "  warnings.warn(\n",
      "C:\\ProgramData\\Anaconda3\\lib\\site-packages\\sklearn\\neural_network\\_multilayer_perceptron.py:582: ConvergenceWarning: Stochastic Optimizer: Maximum iterations (100) reached and the optimization hasn't converged yet.\n",
      "  warnings.warn(\n",
      "C:\\ProgramData\\Anaconda3\\lib\\site-packages\\sklearn\\neural_network\\_multilayer_perceptron.py:582: ConvergenceWarning: Stochastic Optimizer: Maximum iterations (100) reached and the optimization hasn't converged yet.\n",
      "  warnings.warn(\n",
      "C:\\ProgramData\\Anaconda3\\lib\\site-packages\\sklearn\\neural_network\\_multilayer_perceptron.py:582: ConvergenceWarning: Stochastic Optimizer: Maximum iterations (100) reached and the optimization hasn't converged yet.\n",
      "  warnings.warn(\n",
      "C:\\ProgramData\\Anaconda3\\lib\\site-packages\\sklearn\\neural_network\\_multilayer_perceptron.py:582: ConvergenceWarning: Stochastic Optimizer: Maximum iterations (100) reached and the optimization hasn't converged yet.\n",
      "  warnings.warn(\n",
      "C:\\ProgramData\\Anaconda3\\lib\\site-packages\\sklearn\\neural_network\\_multilayer_perceptron.py:582: ConvergenceWarning: Stochastic Optimizer: Maximum iterations (100) reached and the optimization hasn't converged yet.\n",
      "  warnings.warn(\n",
      "C:\\ProgramData\\Anaconda3\\lib\\site-packages\\sklearn\\neural_network\\_multilayer_perceptron.py:582: ConvergenceWarning: Stochastic Optimizer: Maximum iterations (100) reached and the optimization hasn't converged yet.\n",
      "  warnings.warn(\n",
      "C:\\ProgramData\\Anaconda3\\lib\\site-packages\\sklearn\\neural_network\\_multilayer_perceptron.py:582: ConvergenceWarning: Stochastic Optimizer: Maximum iterations (100) reached and the optimization hasn't converged yet.\n",
      "  warnings.warn(\n",
      "C:\\ProgramData\\Anaconda3\\lib\\site-packages\\sklearn\\neural_network\\_multilayer_perceptron.py:582: ConvergenceWarning: Stochastic Optimizer: Maximum iterations (100) reached and the optimization hasn't converged yet.\n",
      "  warnings.warn(\n",
      "C:\\ProgramData\\Anaconda3\\lib\\site-packages\\sklearn\\neural_network\\_multilayer_perceptron.py:582: ConvergenceWarning: Stochastic Optimizer: Maximum iterations (100) reached and the optimization hasn't converged yet.\n",
      "  warnings.warn(\n",
      "C:\\ProgramData\\Anaconda3\\lib\\site-packages\\sklearn\\neural_network\\_multilayer_perceptron.py:582: ConvergenceWarning: Stochastic Optimizer: Maximum iterations (100) reached and the optimization hasn't converged yet.\n",
      "  warnings.warn(\n",
      "C:\\ProgramData\\Anaconda3\\lib\\site-packages\\sklearn\\neural_network\\_multilayer_perceptron.py:582: ConvergenceWarning: Stochastic Optimizer: Maximum iterations (100) reached and the optimization hasn't converged yet.\n",
      "  warnings.warn(\n"
     ]
    },
    {
     "data": {
      "text/plain": [
       "GridSearchCV(estimator=MLPClassifier(max_iter=100),\n",
       "             param_grid={'activation': ['tanh', 'relu'],\n",
       "                         'alpha': [0.0001, 0.05],\n",
       "                         'hidden_layer_sizes': [(10, 30, 10), (20,)],\n",
       "                         'learning_rate': ['constant', 'adaptive'],\n",
       "                         'solver': ['sgd', 'adam']})"
      ]
     },
     "execution_count": 164,
     "metadata": {},
     "output_type": "execute_result"
    }
   ],
   "source": [
    "#Aplicando o GridShearch balanceados\n",
    "grid_search = GridSearchCV(mlp2, param_grid = param_grid)\n",
    "grid_search.fit(X, y)"
   ]
  },
  {
   "cell_type": "code",
   "execution_count": 166,
   "metadata": {},
   "outputs": [
    {
     "name": "stdout",
     "output_type": "stream",
     "text": [
      "Melhores parâmetros encontrados: \\ n {'activation': 'tanh', 'alpha': 0.0001, 'hidden_layer_sizes': (10, 30, 10), 'learning_rate': 'constant', 'solver': 'sgd'}\n"
     ]
    }
   ],
   "source": [
    "#Imprimindo o melhor parâmetro dados balanceados\n",
    "print ('Melhores parâmetros encontrados: \\ n', grid_search.best_params_)"
   ]
  },
  {
   "cell_type": "code",
   "execution_count": 165,
   "metadata": {},
   "outputs": [
    {
     "name": "stdout",
     "output_type": "stream",
     "text": [
      "[[29672  9281]\n",
      " [ 2970   645]]\n"
     ]
    }
   ],
   "source": [
    "#Fazendo as previsões e construindo a Confusion Matrix dados balanceados\n",
    "predictions_grid = grid_search.predict(X_test)\n",
    "\n",
    "#Confusion Matrix dados balanceados\n",
    "print(confusion_matrix(y_test,predictions_grid))"
   ]
  },
  {
   "cell_type": "code",
   "execution_count": 167,
   "metadata": {},
   "outputs": [
    {
     "name": "stdout",
     "output_type": "stream",
     "text": [
      "0.7122016538244691\n"
     ]
    }
   ],
   "source": [
    "#Acurácia\n",
    "print(accuracy_score(y_test,predictions_grid))"
   ]
  },
  {
   "cell_type": "code",
   "execution_count": 168,
   "metadata": {},
   "outputs": [
    {
     "name": "stdout",
     "output_type": "stream",
     "text": [
      "Relatório de Classificação:\n",
      "               precision    recall  f1-score   support\n",
      "\n",
      "           0     0.9090    0.7617    0.8289     38953\n",
      "           1     0.0650    0.1784    0.0953      3615\n",
      "\n",
      "    accuracy                         0.7122     42568\n",
      "   macro avg     0.4870    0.4701    0.4621     42568\n",
      "weighted avg     0.8373    0.7122    0.7666     42568\n",
      "\n",
      "AUC: 0.4701\n",
      "\n"
     ]
    }
   ],
   "source": [
    "# Imprimindo o relatório dados balanceados\n",
    "print(\"Relatório de Classificação:\\n\", classification_report(y_test, predictions_grid, digits=4))\n",
    "print(\"AUC: {:.4f}\\n\".format(roc_auc_score(y_test, predictions_grid)))"
   ]
  },
  {
   "cell_type": "markdown",
   "metadata": {},
   "source": [
    "### Dados balanceados"
   ]
  },
  {
   "cell_type": "code",
   "execution_count": 169,
   "metadata": {},
   "outputs": [
    {
     "name": "stderr",
     "output_type": "stream",
     "text": [
      "C:\\ProgramData\\Anaconda3\\lib\\site-packages\\sklearn\\neural_network\\_multilayer_perceptron.py:582: ConvergenceWarning: Stochastic Optimizer: Maximum iterations (100) reached and the optimization hasn't converged yet.\n",
      "  warnings.warn(\n",
      "C:\\ProgramData\\Anaconda3\\lib\\site-packages\\sklearn\\neural_network\\_multilayer_perceptron.py:582: ConvergenceWarning: Stochastic Optimizer: Maximum iterations (100) reached and the optimization hasn't converged yet.\n",
      "  warnings.warn(\n",
      "C:\\ProgramData\\Anaconda3\\lib\\site-packages\\sklearn\\neural_network\\_multilayer_perceptron.py:582: ConvergenceWarning: Stochastic Optimizer: Maximum iterations (100) reached and the optimization hasn't converged yet.\n",
      "  warnings.warn(\n",
      "C:\\ProgramData\\Anaconda3\\lib\\site-packages\\sklearn\\neural_network\\_multilayer_perceptron.py:582: ConvergenceWarning: Stochastic Optimizer: Maximum iterations (100) reached and the optimization hasn't converged yet.\n",
      "  warnings.warn(\n",
      "C:\\ProgramData\\Anaconda3\\lib\\site-packages\\sklearn\\neural_network\\_multilayer_perceptron.py:582: ConvergenceWarning: Stochastic Optimizer: Maximum iterations (100) reached and the optimization hasn't converged yet.\n",
      "  warnings.warn(\n",
      "C:\\ProgramData\\Anaconda3\\lib\\site-packages\\sklearn\\neural_network\\_multilayer_perceptron.py:582: ConvergenceWarning: Stochastic Optimizer: Maximum iterations (100) reached and the optimization hasn't converged yet.\n",
      "  warnings.warn(\n",
      "C:\\ProgramData\\Anaconda3\\lib\\site-packages\\sklearn\\neural_network\\_multilayer_perceptron.py:582: ConvergenceWarning: Stochastic Optimizer: Maximum iterations (100) reached and the optimization hasn't converged yet.\n",
      "  warnings.warn(\n",
      "C:\\ProgramData\\Anaconda3\\lib\\site-packages\\sklearn\\neural_network\\_multilayer_perceptron.py:582: ConvergenceWarning: Stochastic Optimizer: Maximum iterations (100) reached and the optimization hasn't converged yet.\n",
      "  warnings.warn(\n",
      "C:\\ProgramData\\Anaconda3\\lib\\site-packages\\sklearn\\neural_network\\_multilayer_perceptron.py:582: ConvergenceWarning: Stochastic Optimizer: Maximum iterations (100) reached and the optimization hasn't converged yet.\n",
      "  warnings.warn(\n",
      "C:\\ProgramData\\Anaconda3\\lib\\site-packages\\sklearn\\neural_network\\_multilayer_perceptron.py:582: ConvergenceWarning: Stochastic Optimizer: Maximum iterations (100) reached and the optimization hasn't converged yet.\n",
      "  warnings.warn(\n",
      "C:\\ProgramData\\Anaconda3\\lib\\site-packages\\sklearn\\neural_network\\_multilayer_perceptron.py:582: ConvergenceWarning: Stochastic Optimizer: Maximum iterations (100) reached and the optimization hasn't converged yet.\n",
      "  warnings.warn(\n",
      "C:\\ProgramData\\Anaconda3\\lib\\site-packages\\sklearn\\neural_network\\_multilayer_perceptron.py:582: ConvergenceWarning: Stochastic Optimizer: Maximum iterations (100) reached and the optimization hasn't converged yet.\n",
      "  warnings.warn(\n",
      "C:\\ProgramData\\Anaconda3\\lib\\site-packages\\sklearn\\neural_network\\_multilayer_perceptron.py:582: ConvergenceWarning: Stochastic Optimizer: Maximum iterations (100) reached and the optimization hasn't converged yet.\n",
      "  warnings.warn(\n",
      "C:\\ProgramData\\Anaconda3\\lib\\site-packages\\sklearn\\neural_network\\_multilayer_perceptron.py:582: ConvergenceWarning: Stochastic Optimizer: Maximum iterations (100) reached and the optimization hasn't converged yet.\n",
      "  warnings.warn(\n",
      "C:\\ProgramData\\Anaconda3\\lib\\site-packages\\sklearn\\neural_network\\_multilayer_perceptron.py:582: ConvergenceWarning: Stochastic Optimizer: Maximum iterations (100) reached and the optimization hasn't converged yet.\n",
      "  warnings.warn(\n",
      "C:\\ProgramData\\Anaconda3\\lib\\site-packages\\sklearn\\neural_network\\_multilayer_perceptron.py:582: ConvergenceWarning: Stochastic Optimizer: Maximum iterations (100) reached and the optimization hasn't converged yet.\n",
      "  warnings.warn(\n",
      "C:\\ProgramData\\Anaconda3\\lib\\site-packages\\sklearn\\neural_network\\_multilayer_perceptron.py:582: ConvergenceWarning: Stochastic Optimizer: Maximum iterations (100) reached and the optimization hasn't converged yet.\n",
      "  warnings.warn(\n",
      "C:\\ProgramData\\Anaconda3\\lib\\site-packages\\sklearn\\neural_network\\_multilayer_perceptron.py:582: ConvergenceWarning: Stochastic Optimizer: Maximum iterations (100) reached and the optimization hasn't converged yet.\n",
      "  warnings.warn(\n",
      "C:\\ProgramData\\Anaconda3\\lib\\site-packages\\sklearn\\neural_network\\_multilayer_perceptron.py:582: ConvergenceWarning: Stochastic Optimizer: Maximum iterations (100) reached and the optimization hasn't converged yet.\n",
      "  warnings.warn(\n",
      "C:\\ProgramData\\Anaconda3\\lib\\site-packages\\sklearn\\neural_network\\_multilayer_perceptron.py:582: ConvergenceWarning: Stochastic Optimizer: Maximum iterations (100) reached and the optimization hasn't converged yet.\n",
      "  warnings.warn(\n",
      "C:\\ProgramData\\Anaconda3\\lib\\site-packages\\sklearn\\neural_network\\_multilayer_perceptron.py:582: ConvergenceWarning: Stochastic Optimizer: Maximum iterations (100) reached and the optimization hasn't converged yet.\n",
      "  warnings.warn(\n",
      "C:\\ProgramData\\Anaconda3\\lib\\site-packages\\sklearn\\neural_network\\_multilayer_perceptron.py:582: ConvergenceWarning: Stochastic Optimizer: Maximum iterations (100) reached and the optimization hasn't converged yet.\n",
      "  warnings.warn(\n",
      "C:\\ProgramData\\Anaconda3\\lib\\site-packages\\sklearn\\neural_network\\_multilayer_perceptron.py:582: ConvergenceWarning: Stochastic Optimizer: Maximum iterations (100) reached and the optimization hasn't converged yet.\n",
      "  warnings.warn(\n",
      "C:\\ProgramData\\Anaconda3\\lib\\site-packages\\sklearn\\neural_network\\_multilayer_perceptron.py:582: ConvergenceWarning: Stochastic Optimizer: Maximum iterations (100) reached and the optimization hasn't converged yet.\n",
      "  warnings.warn(\n",
      "C:\\ProgramData\\Anaconda3\\lib\\site-packages\\sklearn\\neural_network\\_multilayer_perceptron.py:582: ConvergenceWarning: Stochastic Optimizer: Maximum iterations (100) reached and the optimization hasn't converged yet.\n",
      "  warnings.warn(\n",
      "C:\\ProgramData\\Anaconda3\\lib\\site-packages\\sklearn\\neural_network\\_multilayer_perceptron.py:582: ConvergenceWarning: Stochastic Optimizer: Maximum iterations (100) reached and the optimization hasn't converged yet.\n",
      "  warnings.warn(\n",
      "C:\\ProgramData\\Anaconda3\\lib\\site-packages\\sklearn\\neural_network\\_multilayer_perceptron.py:582: ConvergenceWarning: Stochastic Optimizer: Maximum iterations (100) reached and the optimization hasn't converged yet.\n",
      "  warnings.warn(\n",
      "C:\\ProgramData\\Anaconda3\\lib\\site-packages\\sklearn\\neural_network\\_multilayer_perceptron.py:582: ConvergenceWarning: Stochastic Optimizer: Maximum iterations (100) reached and the optimization hasn't converged yet.\n",
      "  warnings.warn(\n",
      "C:\\ProgramData\\Anaconda3\\lib\\site-packages\\sklearn\\neural_network\\_multilayer_perceptron.py:582: ConvergenceWarning: Stochastic Optimizer: Maximum iterations (100) reached and the optimization hasn't converged yet.\n",
      "  warnings.warn(\n",
      "C:\\ProgramData\\Anaconda3\\lib\\site-packages\\sklearn\\neural_network\\_multilayer_perceptron.py:582: ConvergenceWarning: Stochastic Optimizer: Maximum iterations (100) reached and the optimization hasn't converged yet.\n",
      "  warnings.warn(\n",
      "C:\\ProgramData\\Anaconda3\\lib\\site-packages\\sklearn\\neural_network\\_multilayer_perceptron.py:582: ConvergenceWarning: Stochastic Optimizer: Maximum iterations (100) reached and the optimization hasn't converged yet.\n",
      "  warnings.warn(\n",
      "C:\\ProgramData\\Anaconda3\\lib\\site-packages\\sklearn\\neural_network\\_multilayer_perceptron.py:582: ConvergenceWarning: Stochastic Optimizer: Maximum iterations (100) reached and the optimization hasn't converged yet.\n",
      "  warnings.warn(\n",
      "C:\\ProgramData\\Anaconda3\\lib\\site-packages\\sklearn\\neural_network\\_multilayer_perceptron.py:582: ConvergenceWarning: Stochastic Optimizer: Maximum iterations (100) reached and the optimization hasn't converged yet.\n",
      "  warnings.warn(\n",
      "C:\\ProgramData\\Anaconda3\\lib\\site-packages\\sklearn\\neural_network\\_multilayer_perceptron.py:582: ConvergenceWarning: Stochastic Optimizer: Maximum iterations (100) reached and the optimization hasn't converged yet.\n",
      "  warnings.warn(\n",
      "C:\\ProgramData\\Anaconda3\\lib\\site-packages\\sklearn\\neural_network\\_multilayer_perceptron.py:582: ConvergenceWarning: Stochastic Optimizer: Maximum iterations (100) reached and the optimization hasn't converged yet.\n",
      "  warnings.warn(\n",
      "C:\\ProgramData\\Anaconda3\\lib\\site-packages\\sklearn\\neural_network\\_multilayer_perceptron.py:582: ConvergenceWarning: Stochastic Optimizer: Maximum iterations (100) reached and the optimization hasn't converged yet.\n",
      "  warnings.warn(\n",
      "C:\\ProgramData\\Anaconda3\\lib\\site-packages\\sklearn\\neural_network\\_multilayer_perceptron.py:582: ConvergenceWarning: Stochastic Optimizer: Maximum iterations (100) reached and the optimization hasn't converged yet.\n",
      "  warnings.warn(\n",
      "C:\\ProgramData\\Anaconda3\\lib\\site-packages\\sklearn\\neural_network\\_multilayer_perceptron.py:582: ConvergenceWarning: Stochastic Optimizer: Maximum iterations (100) reached and the optimization hasn't converged yet.\n",
      "  warnings.warn(\n",
      "C:\\ProgramData\\Anaconda3\\lib\\site-packages\\sklearn\\neural_network\\_multilayer_perceptron.py:582: ConvergenceWarning: Stochastic Optimizer: Maximum iterations (100) reached and the optimization hasn't converged yet.\n",
      "  warnings.warn(\n",
      "C:\\ProgramData\\Anaconda3\\lib\\site-packages\\sklearn\\neural_network\\_multilayer_perceptron.py:582: ConvergenceWarning: Stochastic Optimizer: Maximum iterations (100) reached and the optimization hasn't converged yet.\n",
      "  warnings.warn(\n",
      "C:\\ProgramData\\Anaconda3\\lib\\site-packages\\sklearn\\neural_network\\_multilayer_perceptron.py:582: ConvergenceWarning: Stochastic Optimizer: Maximum iterations (100) reached and the optimization hasn't converged yet.\n",
      "  warnings.warn(\n",
      "C:\\ProgramData\\Anaconda3\\lib\\site-packages\\sklearn\\neural_network\\_multilayer_perceptron.py:582: ConvergenceWarning: Stochastic Optimizer: Maximum iterations (100) reached and the optimization hasn't converged yet.\n",
      "  warnings.warn(\n",
      "C:\\ProgramData\\Anaconda3\\lib\\site-packages\\sklearn\\neural_network\\_multilayer_perceptron.py:582: ConvergenceWarning: Stochastic Optimizer: Maximum iterations (100) reached and the optimization hasn't converged yet.\n",
      "  warnings.warn(\n",
      "C:\\ProgramData\\Anaconda3\\lib\\site-packages\\sklearn\\neural_network\\_multilayer_perceptron.py:582: ConvergenceWarning: Stochastic Optimizer: Maximum iterations (100) reached and the optimization hasn't converged yet.\n",
      "  warnings.warn(\n",
      "C:\\ProgramData\\Anaconda3\\lib\\site-packages\\sklearn\\neural_network\\_multilayer_perceptron.py:582: ConvergenceWarning: Stochastic Optimizer: Maximum iterations (100) reached and the optimization hasn't converged yet.\n",
      "  warnings.warn(\n",
      "C:\\ProgramData\\Anaconda3\\lib\\site-packages\\sklearn\\neural_network\\_multilayer_perceptron.py:582: ConvergenceWarning: Stochastic Optimizer: Maximum iterations (100) reached and the optimization hasn't converged yet.\n",
      "  warnings.warn(\n",
      "C:\\ProgramData\\Anaconda3\\lib\\site-packages\\sklearn\\neural_network\\_multilayer_perceptron.py:582: ConvergenceWarning: Stochastic Optimizer: Maximum iterations (100) reached and the optimization hasn't converged yet.\n",
      "  warnings.warn(\n",
      "C:\\ProgramData\\Anaconda3\\lib\\site-packages\\sklearn\\neural_network\\_multilayer_perceptron.py:582: ConvergenceWarning: Stochastic Optimizer: Maximum iterations (100) reached and the optimization hasn't converged yet.\n",
      "  warnings.warn(\n",
      "C:\\ProgramData\\Anaconda3\\lib\\site-packages\\sklearn\\neural_network\\_multilayer_perceptron.py:582: ConvergenceWarning: Stochastic Optimizer: Maximum iterations (100) reached and the optimization hasn't converged yet.\n",
      "  warnings.warn(\n",
      "C:\\ProgramData\\Anaconda3\\lib\\site-packages\\sklearn\\neural_network\\_multilayer_perceptron.py:582: ConvergenceWarning: Stochastic Optimizer: Maximum iterations (100) reached and the optimization hasn't converged yet.\n",
      "  warnings.warn(\n",
      "C:\\ProgramData\\Anaconda3\\lib\\site-packages\\sklearn\\neural_network\\_multilayer_perceptron.py:582: ConvergenceWarning: Stochastic Optimizer: Maximum iterations (100) reached and the optimization hasn't converged yet.\n",
      "  warnings.warn(\n",
      "C:\\ProgramData\\Anaconda3\\lib\\site-packages\\sklearn\\neural_network\\_multilayer_perceptron.py:582: ConvergenceWarning: Stochastic Optimizer: Maximum iterations (100) reached and the optimization hasn't converged yet.\n",
      "  warnings.warn(\n",
      "C:\\ProgramData\\Anaconda3\\lib\\site-packages\\sklearn\\neural_network\\_multilayer_perceptron.py:582: ConvergenceWarning: Stochastic Optimizer: Maximum iterations (100) reached and the optimization hasn't converged yet.\n",
      "  warnings.warn(\n",
      "C:\\ProgramData\\Anaconda3\\lib\\site-packages\\sklearn\\neural_network\\_multilayer_perceptron.py:582: ConvergenceWarning: Stochastic Optimizer: Maximum iterations (100) reached and the optimization hasn't converged yet.\n",
      "  warnings.warn(\n",
      "C:\\ProgramData\\Anaconda3\\lib\\site-packages\\sklearn\\neural_network\\_multilayer_perceptron.py:582: ConvergenceWarning: Stochastic Optimizer: Maximum iterations (100) reached and the optimization hasn't converged yet.\n",
      "  warnings.warn(\n",
      "C:\\ProgramData\\Anaconda3\\lib\\site-packages\\sklearn\\neural_network\\_multilayer_perceptron.py:582: ConvergenceWarning: Stochastic Optimizer: Maximum iterations (100) reached and the optimization hasn't converged yet.\n",
      "  warnings.warn(\n",
      "C:\\ProgramData\\Anaconda3\\lib\\site-packages\\sklearn\\neural_network\\_multilayer_perceptron.py:582: ConvergenceWarning: Stochastic Optimizer: Maximum iterations (100) reached and the optimization hasn't converged yet.\n",
      "  warnings.warn(\n",
      "C:\\ProgramData\\Anaconda3\\lib\\site-packages\\sklearn\\neural_network\\_multilayer_perceptron.py:582: ConvergenceWarning: Stochastic Optimizer: Maximum iterations (100) reached and the optimization hasn't converged yet.\n",
      "  warnings.warn(\n",
      "C:\\ProgramData\\Anaconda3\\lib\\site-packages\\sklearn\\neural_network\\_multilayer_perceptron.py:582: ConvergenceWarning: Stochastic Optimizer: Maximum iterations (100) reached and the optimization hasn't converged yet.\n",
      "  warnings.warn(\n",
      "C:\\ProgramData\\Anaconda3\\lib\\site-packages\\sklearn\\neural_network\\_multilayer_perceptron.py:582: ConvergenceWarning: Stochastic Optimizer: Maximum iterations (100) reached and the optimization hasn't converged yet.\n",
      "  warnings.warn(\n",
      "C:\\ProgramData\\Anaconda3\\lib\\site-packages\\sklearn\\neural_network\\_multilayer_perceptron.py:582: ConvergenceWarning: Stochastic Optimizer: Maximum iterations (100) reached and the optimization hasn't converged yet.\n",
      "  warnings.warn(\n",
      "C:\\ProgramData\\Anaconda3\\lib\\site-packages\\sklearn\\neural_network\\_multilayer_perceptron.py:582: ConvergenceWarning: Stochastic Optimizer: Maximum iterations (100) reached and the optimization hasn't converged yet.\n",
      "  warnings.warn(\n",
      "C:\\ProgramData\\Anaconda3\\lib\\site-packages\\sklearn\\neural_network\\_multilayer_perceptron.py:582: ConvergenceWarning: Stochastic Optimizer: Maximum iterations (100) reached and the optimization hasn't converged yet.\n",
      "  warnings.warn(\n",
      "C:\\ProgramData\\Anaconda3\\lib\\site-packages\\sklearn\\neural_network\\_multilayer_perceptron.py:582: ConvergenceWarning: Stochastic Optimizer: Maximum iterations (100) reached and the optimization hasn't converged yet.\n",
      "  warnings.warn(\n",
      "C:\\ProgramData\\Anaconda3\\lib\\site-packages\\sklearn\\neural_network\\_multilayer_perceptron.py:582: ConvergenceWarning: Stochastic Optimizer: Maximum iterations (100) reached and the optimization hasn't converged yet.\n",
      "  warnings.warn(\n",
      "C:\\ProgramData\\Anaconda3\\lib\\site-packages\\sklearn\\neural_network\\_multilayer_perceptron.py:582: ConvergenceWarning: Stochastic Optimizer: Maximum iterations (100) reached and the optimization hasn't converged yet.\n",
      "  warnings.warn(\n"
     ]
    },
    {
     "data": {
      "text/plain": [
       "GridSearchCV(estimator=MLPClassifier(max_iter=100),\n",
       "             param_grid={'activation': ['tanh', 'relu'],\n",
       "                         'alpha': [0.0001, 0.05],\n",
       "                         'hidden_layer_sizes': [(10, 30, 10), (20,)],\n",
       "                         'learning_rate': ['constant', 'adaptive'],\n",
       "                         'solver': ['sgd', 'adam']})"
      ]
     },
     "execution_count": 169,
     "metadata": {},
     "output_type": "execute_result"
    }
   ],
   "source": [
    "#Aplicando o GridShearch dados balanceados\n",
    "grid_search2 = GridSearchCV(mlp2, param_grid = param_grid)\n",
    "grid_search2.fit(X2, y2)"
   ]
  },
  {
   "cell_type": "code",
   "execution_count": 171,
   "metadata": {},
   "outputs": [
    {
     "name": "stdout",
     "output_type": "stream",
     "text": [
      "Melhores parâmetros encontrados: \\ n {'activation': 'relu', 'alpha': 0.0001, 'hidden_layer_sizes': (10, 30, 10), 'learning_rate': 'adaptive', 'solver': 'adam'}\n"
     ]
    }
   ],
   "source": [
    "#Imprimindo o melhor parâmetro dados desbalanceados\n",
    "print ('Melhores parâmetros encontrados: \\ n', grid_search2.best_params_)"
   ]
  },
  {
   "cell_type": "code",
   "execution_count": 170,
   "metadata": {},
   "outputs": [
    {
     "name": "stdout",
     "output_type": "stream",
     "text": [
      "[[2648  819]\n",
      " [ 454 3116]]\n"
     ]
    }
   ],
   "source": [
    "#Fazendo as previsões e construindo a Confusion Matrix dados balanceados\n",
    "predictions_grid2 = grid_search2.predict(X2_test)\n",
    "\n",
    "#Confusion Matrix dados balanceados\n",
    "print(confusion_matrix(y2_test,predictions_grid2))"
   ]
  },
  {
   "cell_type": "code",
   "execution_count": 172,
   "metadata": {},
   "outputs": [
    {
     "name": "stdout",
     "output_type": "stream",
     "text": [
      "0.8190990478897258\n"
     ]
    }
   ],
   "source": [
    "#Acurácia\n",
    "print(accuracy_score(y2_test,predictions_grid2))"
   ]
  },
  {
   "cell_type": "code",
   "execution_count": 173,
   "metadata": {},
   "outputs": [
    {
     "name": "stdout",
     "output_type": "stream",
     "text": [
      "Relatório de Classificação:\n",
      "               precision    recall  f1-score   support\n",
      "\n",
      "           0     0.8536    0.7638    0.8062      3467\n",
      "           1     0.7919    0.8728    0.8304      3570\n",
      "\n",
      "    accuracy                         0.8191      7037\n",
      "   macro avg     0.8228    0.8183    0.8183      7037\n",
      "weighted avg     0.8223    0.8191    0.8185      7037\n",
      "\n",
      "AUC: 0.8183\n",
      "\n"
     ]
    }
   ],
   "source": [
    "# Imprimindo o relatório dados balanceados\n",
    "print(\"Relatório de Classificação:\\n\", classification_report(y2_test, predictions_grid2, digits=4))\n",
    "print(\"AUC: {:.4f}\\n\".format(roc_auc_score(y2_test, predictions_grid2)))"
   ]
  }
 ],
 "metadata": {
  "kernelspec": {
   "display_name": "Python 3",
   "language": "python",
   "name": "python3"
  },
  "language_info": {
   "codemirror_mode": {
    "name": "ipython",
    "version": 3
   },
   "file_extension": ".py",
   "mimetype": "text/x-python",
   "name": "python",
   "nbconvert_exporter": "python",
   "pygments_lexer": "ipython3",
   "version": "3.8.5"
  }
 },
 "nbformat": 4,
 "nbformat_minor": 4
}
